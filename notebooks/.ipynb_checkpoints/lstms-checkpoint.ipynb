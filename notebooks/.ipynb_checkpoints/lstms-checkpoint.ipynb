{
 "cells": [
  {
   "cell_type": "markdown",
   "metadata": {
    "id": "IvpAmw1VzuBo"
   },
   "source": [
    "# Text classification with LSTMs"
   ]
  },
  {
   "cell_type": "markdown",
   "metadata": {
    "id": "VT0agDlhhh38"
   },
   "source": [
    "## Table of contents\n",
    "- [Imports](#im)\n",
    "- [1: Data and baseline](#1)\n",
    "- [2: Preparing the data for LSTMs](#2) \n",
    "- [3: Defining LSTM network architecture](#3) \n",
    "- [4: Training and evaluation](#4) "
   ]
  },
  {
   "cell_type": "markdown",
   "metadata": {
    "id": "oPL5PqVKhh3-"
   },
   "source": [
    "### Imports <a name=\"im\"></a>"
   ]
  },
  {
   "cell_type": "code",
   "execution_count": 2,
   "metadata": {
    "id": "TVFXo-LUJwwU"
   },
   "outputs": [],
   "source": [
    "from collections import defaultdict\n",
    "\n",
    "import matplotlib.pyplot as plt\n",
    "import numpy as np\n",
    "import pandas as pd\n",
    "import torch\n",
    "import torch.nn as nn\n",
    "import torch.optim as optim\n",
    "from torch.utils.data import DataLoader, Dataset\n",
    "\n",
    "pd.set_option(\"display.max_colwidth\", 0)"
   ]
  },
  {
   "cell_type": "markdown",
   "metadata": {
    "id": "_OgJkEb7hh3_"
   },
   "source": [
    "## Introduction \n",
    "<hr>\n",
    "\n",
    "Variants of recurrent neural networks such as long short-term memory networks (LSTMs) are one of the most popular models in natural language processing. But training them using deep learning libraries such as `PyTorch` is quite an involved process. In this lab, my intention is to familiarize you with the steps involved in training LSTMs for text classification using `PyTorch` and `torchtext`. Since we have not used `torchtext` much before, this lab has a tutorial-like format, where most of the code is given to you. "
   ]
  },
  {
   "cell_type": "code",
   "execution_count": 3,
   "metadata": {
    "colab": {
     "base_uri": "https://localhost:8080/"
    },
    "id": "fK6qnuwDhh4A",
    "outputId": "0c11357c-8cb4-4498-c834-9d42f789d5d9"
   },
   "outputs": [
    {
     "name": "stdout",
     "output_type": "stream",
     "text": [
      "Mounted at /content/gdrive\n"
     ]
    }
   ],
   "source": [
    "# You will need to upload your downloaded datafile to Google drive and mount the drive as follows.\n",
    "# Read files from Google Drive\n",
    "from google.colab import drive\n",
    "drive.mount('/content/gdrive')"
   ]
  },
  {
   "cell_type": "code",
   "execution_count": 4,
   "metadata": {
    "colab": {
     "base_uri": "https://localhost:8080/"
    },
    "id": "7ljCRjchkJ12",
    "outputId": "d2736fc3-ae82-421d-dc52-a7efe597229d"
   },
   "outputs": [
    {
     "name": "stdout",
     "output_type": "stream",
     "text": [
      "cleaned_hm.csv\ttest.csv  train.csv  valid.csv\n"
     ]
    }
   ],
   "source": [
    "!ls \"/content/gdrive/MyDrive/data\""
   ]
  },
  {
   "cell_type": "code",
   "execution_count": 5,
   "metadata": {
    "colab": {
     "base_uri": "https://localhost:8080/"
    },
    "id": "U3XYmHk_k4MH",
    "outputId": "5a61accb-0b4c-40d5-84dc-5aa574dfe738"
   },
   "outputs": [
    {
     "name": "stdout",
     "output_type": "stream",
     "text": [
      "/content\n"
     ]
    }
   ],
   "source": [
    "!pwd"
   ]
  },
  {
   "cell_type": "code",
   "execution_count": null,
   "metadata": {
    "id": "3DpexJCwiPp1"
   },
   "outputs": [],
   "source": [
    "#pd.read_csv('gdrive/MyDrive/data/train.csv')"
   ]
  },
  {
   "cell_type": "markdown",
   "metadata": {
    "id": "uGAX2bjZhh4A"
   },
   "source": [
    "<br><br>"
   ]
  },
  {
   "cell_type": "markdown",
   "metadata": {
    "id": "no13KkGnhh4A"
   },
   "source": [
    "## 1: Data and baseline <a name=\"1\"></a>\n",
    "<hr>"
   ]
  },
  {
   "cell_type": "markdown",
   "metadata": {
    "id": "JfEUUiIKhh4A"
   },
   "source": [
    "We will use [HappyDB](https://www.kaggle.com/ritresearch/happydb) corpus which contains about 100,000 happy moments classified into 7 categories: *affection, exercise, bonding, nature, leisure, achievement, enjoy_the_moment*. The data was crowd-sourced via [Amazon Mechanical Turk](https://www.mturk.com/). The ground truth label is not available for all examples, and in this lab, we'll only use the examples where ground truth is available. \n",
    "\n",
    "**To do:**\n",
    "- Download the data from [here](https://www.kaggle.com/ritresearch/happydb).\n",
    "- Unzip the file and copy it in the lab directory.\n",
    "- Create a folder called `data` in your lab directory. \n",
    "\n",
    "For `torchtext`, we need train, valid, and test CSVs in a folder. Below I am providing some starter code to \n",
    "\n",
    "- read the data CSV (assuming it's saved as `cleaned_hm.csv` in your current directory)\n",
    "- split the data into train, valid, and test portions\n",
    "- write `train.csv`, `valid.csv`, and `test.csv` files in the `data` directory you have created above"
   ]
  },
  {
   "cell_type": "code",
   "execution_count": 6,
   "metadata": {
    "colab": {
     "base_uri": "https://localhost:8080/",
     "height": 510
    },
    "id": "OgVtq-QShh4B",
    "outputId": "40f09b8a-0324-4761-eac0-39203b1ad025"
   },
   "outputs": [
    {
     "data": {
      "text/html": [
       "<div>\n",
       "<style scoped>\n",
       "    .dataframe tbody tr th:only-of-type {\n",
       "        vertical-align: middle;\n",
       "    }\n",
       "\n",
       "    .dataframe tbody tr th {\n",
       "        vertical-align: top;\n",
       "    }\n",
       "\n",
       "    .dataframe thead th {\n",
       "        text-align: right;\n",
       "    }\n",
       "</style>\n",
       "<table border=\"1\" class=\"dataframe\">\n",
       "  <thead>\n",
       "    <tr style=\"text-align: right;\">\n",
       "      <th></th>\n",
       "      <th>wid</th>\n",
       "      <th>reflection_period</th>\n",
       "      <th>original_hm</th>\n",
       "      <th>cleaned_hm</th>\n",
       "      <th>modified</th>\n",
       "      <th>num_sentence</th>\n",
       "      <th>ground_truth_category</th>\n",
       "      <th>predicted_category</th>\n",
       "    </tr>\n",
       "    <tr>\n",
       "      <th>hmid</th>\n",
       "      <th></th>\n",
       "      <th></th>\n",
       "      <th></th>\n",
       "      <th></th>\n",
       "      <th></th>\n",
       "      <th></th>\n",
       "      <th></th>\n",
       "      <th></th>\n",
       "    </tr>\n",
       "  </thead>\n",
       "  <tbody>\n",
       "    <tr>\n",
       "      <th>27673</th>\n",
       "      <td>2053</td>\n",
       "      <td>24h</td>\n",
       "      <td>I went on a successful date with someone I felt sympathy and connection with.</td>\n",
       "      <td>I went on a successful date with someone I felt sympathy and connection with.</td>\n",
       "      <td>True</td>\n",
       "      <td>1</td>\n",
       "      <td>NaN</td>\n",
       "      <td>affection</td>\n",
       "    </tr>\n",
       "    <tr>\n",
       "      <th>27674</th>\n",
       "      <td>2</td>\n",
       "      <td>24h</td>\n",
       "      <td>I was happy when my son got 90% marks in his examination</td>\n",
       "      <td>I was happy when my son got 90% marks in his examination</td>\n",
       "      <td>True</td>\n",
       "      <td>1</td>\n",
       "      <td>NaN</td>\n",
       "      <td>affection</td>\n",
       "    </tr>\n",
       "    <tr>\n",
       "      <th>27675</th>\n",
       "      <td>1936</td>\n",
       "      <td>24h</td>\n",
       "      <td>I went to the gym this morning and did yoga.</td>\n",
       "      <td>I went to the gym this morning and did yoga.</td>\n",
       "      <td>True</td>\n",
       "      <td>1</td>\n",
       "      <td>NaN</td>\n",
       "      <td>exercise</td>\n",
       "    </tr>\n",
       "    <tr>\n",
       "      <th>27676</th>\n",
       "      <td>206</td>\n",
       "      <td>24h</td>\n",
       "      <td>We had a serious talk with some friends of ours who have been flaky lately. They understood and we had a good evening hanging out.</td>\n",
       "      <td>We had a serious talk with some friends of ours who have been flaky lately. They understood and we had a good evening hanging out.</td>\n",
       "      <td>True</td>\n",
       "      <td>2</td>\n",
       "      <td>bonding</td>\n",
       "      <td>bonding</td>\n",
       "    </tr>\n",
       "    <tr>\n",
       "      <th>27677</th>\n",
       "      <td>6227</td>\n",
       "      <td>24h</td>\n",
       "      <td>I went with grandchildren to butterfly display at Crohn Conservatory\\r\\n</td>\n",
       "      <td>I went with grandchildren to butterfly display at Crohn Conservatory\\r\\n</td>\n",
       "      <td>True</td>\n",
       "      <td>1</td>\n",
       "      <td>NaN</td>\n",
       "      <td>affection</td>\n",
       "    </tr>\n",
       "    <tr>\n",
       "      <th>27678</th>\n",
       "      <td>45</td>\n",
       "      <td>24h</td>\n",
       "      <td>I meditated last night.</td>\n",
       "      <td>I meditated last night.</td>\n",
       "      <td>True</td>\n",
       "      <td>1</td>\n",
       "      <td>leisure</td>\n",
       "      <td>leisure</td>\n",
       "    </tr>\n",
       "    <tr>\n",
       "      <th>27679</th>\n",
       "      <td>195</td>\n",
       "      <td>24h</td>\n",
       "      <td>I made a new recipe for peasant bread, and it came out spectacular!</td>\n",
       "      <td>I made a new recipe for peasant bread, and it came out spectacular!</td>\n",
       "      <td>True</td>\n",
       "      <td>1</td>\n",
       "      <td>NaN</td>\n",
       "      <td>achievement</td>\n",
       "    </tr>\n",
       "    <tr>\n",
       "      <th>27680</th>\n",
       "      <td>740</td>\n",
       "      <td>24h</td>\n",
       "      <td>I got gift from my elder brother which was really surprising me</td>\n",
       "      <td>I got gift from my elder brother which was really surprising me</td>\n",
       "      <td>True</td>\n",
       "      <td>1</td>\n",
       "      <td>NaN</td>\n",
       "      <td>affection</td>\n",
       "    </tr>\n",
       "    <tr>\n",
       "      <th>27681</th>\n",
       "      <td>3</td>\n",
       "      <td>24h</td>\n",
       "      <td>YESTERDAY MY MOMS BIRTHDAY SO I ENJOYED</td>\n",
       "      <td>YESTERDAY MY MOMS BIRTHDAY SO I ENJOYED</td>\n",
       "      <td>True</td>\n",
       "      <td>1</td>\n",
       "      <td>NaN</td>\n",
       "      <td>enjoy_the_moment</td>\n",
       "    </tr>\n",
       "    <tr>\n",
       "      <th>27682</th>\n",
       "      <td>4833</td>\n",
       "      <td>24h</td>\n",
       "      <td>Watching cupcake wars with my three teen children</td>\n",
       "      <td>Watching cupcake wars with my three teen children</td>\n",
       "      <td>True</td>\n",
       "      <td>1</td>\n",
       "      <td>NaN</td>\n",
       "      <td>affection</td>\n",
       "    </tr>\n",
       "  </tbody>\n",
       "</table>\n",
       "</div>"
      ],
      "text/plain": [
       "        wid reflection_period  ... ground_truth_category predicted_category\n",
       "hmid                           ...                                         \n",
       "27673  2053  24h               ...  NaN                   affection        \n",
       "27674  2     24h               ...  NaN                   affection        \n",
       "27675  1936  24h               ...  NaN                   exercise         \n",
       "27676  206   24h               ...  bonding               bonding          \n",
       "27677  6227  24h               ...  NaN                   affection        \n",
       "27678  45    24h               ...  leisure               leisure          \n",
       "27679  195   24h               ...  NaN                   achievement      \n",
       "27680  740   24h               ...  NaN                   affection        \n",
       "27681  3     24h               ...  NaN                   enjoy_the_moment \n",
       "27682  4833  24h               ...  NaN                   affection        \n",
       "\n",
       "[10 rows x 8 columns]"
      ]
     },
     "execution_count": 6,
     "metadata": {
      "tags": []
     },
     "output_type": "execute_result"
    }
   ],
   "source": [
    "#df = pd.read_csv(\"cleaned_hm.csv\", index_col=0)\n",
    "df = pd.read_csv('gdrive/MyDrive/data/cleaned_hm.csv',index_col=0)\n",
    "df.head(10)"
   ]
  },
  {
   "cell_type": "code",
   "execution_count": 7,
   "metadata": {
    "colab": {
     "base_uri": "https://localhost:8080/"
    },
    "id": "MPQqlmsOhh4B",
    "outputId": "06b8e30c-26cd-40ca-d6d7-a7195b2e5d54"
   },
   "outputs": [
    {
     "data": {
      "text/plain": [
       "affection           4810\n",
       "achievement         4276\n",
       "bonding             1750\n",
       "enjoy_the_moment    1514\n",
       "leisure             1306\n",
       "nature              252 \n",
       "exercise            217 \n",
       "Name: ground_truth_category, dtype: int64"
      ]
     },
     "execution_count": 7,
     "metadata": {
      "tags": []
     },
     "output_type": "execute_result"
    }
   ],
   "source": [
    "df[\"ground_truth_category\"].value_counts()"
   ]
  },
  {
   "cell_type": "code",
   "execution_count": 8,
   "metadata": {
    "colab": {
     "base_uri": "https://localhost:8080/"
    },
    "id": "cUzQt0ehhh4B",
    "outputId": "9a2427f6-ddbf-4fed-d5d0-584d080f8d85"
   },
   "outputs": [
    {
     "data": {
      "text/plain": [
       "(14125, 8)"
      ]
     },
     "execution_count": 8,
     "metadata": {
      "tags": []
     },
     "output_type": "execute_result"
    }
   ],
   "source": [
    "sample_df = df.dropna()\n",
    "sample_df.shape"
   ]
  },
  {
   "cell_type": "code",
   "execution_count": 9,
   "metadata": {
    "colab": {
     "base_uri": "https://localhost:8080/"
    },
    "id": "j4U1sFFFhh4C",
    "outputId": "80b6c720-ecbf-445f-caa5-3f13aedb8a01"
   },
   "outputs": [
    {
     "data": {
      "text/plain": [
       "affection           4810\n",
       "achievement         4276\n",
       "bonding             1750\n",
       "enjoy_the_moment    1514\n",
       "leisure             1306\n",
       "nature              252 \n",
       "exercise            217 \n",
       "Name: ground_truth_category, dtype: int64"
      ]
     },
     "execution_count": 9,
     "metadata": {
      "tags": []
     },
     "output_type": "execute_result"
    }
   ],
   "source": [
    "sample_df[\"ground_truth_category\"].value_counts()"
   ]
  },
  {
   "cell_type": "code",
   "execution_count": 10,
   "metadata": {
    "colab": {
     "base_uri": "https://localhost:8080/"
    },
    "id": "C_fZtAzahh4C",
    "outputId": "476fd0e4-856f-4b1d-d5e8-83081613a2d7"
   },
   "outputs": [
    {
     "name": "stderr",
     "output_type": "stream",
     "text": [
      "/usr/local/lib/python3.7/dist-packages/pandas/core/frame.py:4308: SettingWithCopyWarning: \n",
      "A value is trying to be set on a copy of a slice from a DataFrame\n",
      "\n",
      "See the caveats in the documentation: https://pandas.pydata.org/pandas-docs/stable/user_guide/indexing.html#returning-a-view-versus-a-copy\n",
      "  errors=errors,\n"
     ]
    }
   ],
   "source": [
    "sample_df.rename(\n",
    "    columns={\"cleaned_hm\": \"moment\", \"ground_truth_category\": \"label\"}, inplace=True\n",
    ")"
   ]
  },
  {
   "cell_type": "code",
   "execution_count": 11,
   "metadata": {
    "id": "Ab5F-Vcfhh4C"
   },
   "outputs": [],
   "source": [
    "from sklearn.model_selection import train_test_split"
   ]
  },
  {
   "cell_type": "code",
   "execution_count": 12,
   "metadata": {
    "id": "cLuhqS_phh4C"
   },
   "outputs": [],
   "source": [
    "big_train_df, test_df = train_test_split(sample_df, test_size=0.1, random_state=123)"
   ]
  },
  {
   "cell_type": "code",
   "execution_count": 13,
   "metadata": {
    "id": "VCQdUPmXhh4D"
   },
   "outputs": [],
   "source": [
    "train_df, valid_df = train_test_split(big_train_df, test_size=0.2, random_state=123)"
   ]
  },
  {
   "cell_type": "code",
   "execution_count": 14,
   "metadata": {
    "id": "-GzjMDpqhh4D"
   },
   "outputs": [],
   "source": [
    "cols = [\"moment\", \"label\"]"
   ]
  },
  {
   "cell_type": "code",
   "execution_count": 15,
   "metadata": {
    "id": "1pO1nKS_hh4D"
   },
   "outputs": [],
   "source": [
    "#train_df.to_csv(\"data/train.csv\", columns=cols, index=False)\n",
    "#valid_df.to_csv(\"data/valid.csv\", columns=cols, index=False)\n",
    "#test_df.to_csv(\"data/test.csv\", columns=cols, index=False)"
   ]
  },
  {
   "cell_type": "markdown",
   "metadata": {
    "id": "IOHwJt33hh4D"
   },
   "source": [
    "You should now have `train.csv`, `valid.csv`, and `test.csv` files written under the `data` folder. "
   ]
  },
  {
   "cell_type": "markdown",
   "metadata": {
    "id": "dtA2civjhh4D"
   },
   "source": [
    "<br><br>"
   ]
  },
  {
   "cell_type": "markdown",
   "metadata": {
    "id": "BaZzsBl0hh4D"
   },
   "source": [
    "### 1.1 Baselines \n",
    "\n",
    "So far we have been carrying out text classification with bag-of-words (`CountVectorizer`) features and traditional machine learning models such as logistic regression and SVMs, which are not capable of dealing with sequential data. Bag-of-words representation does not take ordering of the words into account. For instance, with bag-of-words representation, S1 and S2 below would have the same interpretation. \n",
    "\n",
    "> S1: The movie was not bad. It was good. \n",
    "\n",
    "> S2: The movie was bad. It was not good. \n",
    "\n",
    "One of the primary advantages of an RNN is that it takes into account ordering of the words and sequential information available in text. That said, text classification models with bag-of-words representation are fast to implement and train and easy to understand, and in many cases they are good enough for the given task. So let's examine how well these models are performing on our task so that later we will be able to check whether we are gaining anything with RNNs or not.  \n",
    "\n",
    "1. Implement `DummyClassifier` baseline. Report cross-validation scores. \n",
    "2. Implement `LogisticRegression` with bag-of-words representation (`CountVectorizer`). Report cross-validation scores. "
   ]
  },
  {
   "cell_type": "code",
   "execution_count": 16,
   "metadata": {
    "colab": {
     "base_uri": "https://localhost:8080/",
     "height": 162
    },
    "id": "Rw-LfI2uhh4E",
    "outputId": "c7d25be8-8f2e-4667-fb4a-8f578ab4e977"
   },
   "outputs": [
    {
     "data": {
      "text/html": [
       "<div>\n",
       "<style scoped>\n",
       "    .dataframe tbody tr th:only-of-type {\n",
       "        vertical-align: middle;\n",
       "    }\n",
       "\n",
       "    .dataframe tbody tr th {\n",
       "        vertical-align: top;\n",
       "    }\n",
       "\n",
       "    .dataframe thead th {\n",
       "        text-align: right;\n",
       "    }\n",
       "</style>\n",
       "<table border=\"1\" class=\"dataframe\">\n",
       "  <thead>\n",
       "    <tr style=\"text-align: right;\">\n",
       "      <th></th>\n",
       "      <th>dummy</th>\n",
       "    </tr>\n",
       "  </thead>\n",
       "  <tbody>\n",
       "    <tr>\n",
       "      <th>fit_time</th>\n",
       "      <td>0.006146</td>\n",
       "    </tr>\n",
       "    <tr>\n",
       "      <th>score_time</th>\n",
       "      <td>0.002984</td>\n",
       "    </tr>\n",
       "    <tr>\n",
       "      <th>test_accuracy</th>\n",
       "      <td>0.245202</td>\n",
       "    </tr>\n",
       "    <tr>\n",
       "      <th>train_accuracy</th>\n",
       "      <td>0.240482</td>\n",
       "    </tr>\n",
       "  </tbody>\n",
       "</table>\n",
       "</div>"
      ],
      "text/plain": [
       "                   dummy\n",
       "fit_time        0.006146\n",
       "score_time      0.002984\n",
       "test_accuracy   0.245202\n",
       "train_accuracy  0.240482"
      ]
     },
     "execution_count": 16,
     "metadata": {
      "tags": []
     },
     "output_type": "execute_result"
    }
   ],
   "source": [
    "from sklearn.dummy import DummyClassifier\n",
    "from sklearn.model_selection import cross_validate\n",
    "\n",
    "X_train, y_train = big_train_df[\"moment\"], big_train_df[\"label\"]\n",
    "X_test, y_test = test_df[\"moment\"], test_df[\"label\"]\n",
    "scoring = [\"accuracy\"]\n",
    "results = {}\n",
    "dummy = DummyClassifier(strategy='stratified')\n",
    "scores = cross_validate(dummy, X_train, y_train, return_train_score=True, scoring = scoring)\n",
    "results[\"dummy\"] = pd.DataFrame(scores).mean()\n",
    "pd.DataFrame(results)"
   ]
  },
  {
   "cell_type": "code",
   "execution_count": 19,
   "metadata": {
    "colab": {
     "base_uri": "https://localhost:8080/"
    },
    "id": "NIk5tr3mhh4E",
    "outputId": "319f413a-47d5-47f0-aa2c-e56971ea6e4f"
   },
   "outputs": [
    {
     "name": "stderr",
     "output_type": "stream",
     "text": [
      "/usr/local/lib/python3.7/dist-packages/sklearn/linear_model/_logistic.py:940: ConvergenceWarning: lbfgs failed to converge (status=1):\n",
      "STOP: TOTAL NO. of ITERATIONS REACHED LIMIT.\n",
      "\n",
      "Increase the number of iterations (max_iter) or scale the data as shown in:\n",
      "    https://scikit-learn.org/stable/modules/preprocessing.html\n",
      "Please also refer to the documentation for alternative solver options:\n",
      "    https://scikit-learn.org/stable/modules/linear_model.html#logistic-regression\n",
      "  extra_warning_msg=_LOGISTIC_SOLVER_CONVERGENCE_MSG)\n",
      "/usr/local/lib/python3.7/dist-packages/sklearn/linear_model/_logistic.py:940: ConvergenceWarning: lbfgs failed to converge (status=1):\n",
      "STOP: TOTAL NO. of ITERATIONS REACHED LIMIT.\n",
      "\n",
      "Increase the number of iterations (max_iter) or scale the data as shown in:\n",
      "    https://scikit-learn.org/stable/modules/preprocessing.html\n",
      "Please also refer to the documentation for alternative solver options:\n",
      "    https://scikit-learn.org/stable/modules/linear_model.html#logistic-regression\n",
      "  extra_warning_msg=_LOGISTIC_SOLVER_CONVERGENCE_MSG)\n",
      "/usr/local/lib/python3.7/dist-packages/sklearn/linear_model/_logistic.py:940: ConvergenceWarning: lbfgs failed to converge (status=1):\n",
      "STOP: TOTAL NO. of ITERATIONS REACHED LIMIT.\n",
      "\n",
      "Increase the number of iterations (max_iter) or scale the data as shown in:\n",
      "    https://scikit-learn.org/stable/modules/preprocessing.html\n",
      "Please also refer to the documentation for alternative solver options:\n",
      "    https://scikit-learn.org/stable/modules/linear_model.html#logistic-regression\n",
      "  extra_warning_msg=_LOGISTIC_SOLVER_CONVERGENCE_MSG)\n",
      "/usr/local/lib/python3.7/dist-packages/sklearn/linear_model/_logistic.py:940: ConvergenceWarning: lbfgs failed to converge (status=1):\n",
      "STOP: TOTAL NO. of ITERATIONS REACHED LIMIT.\n",
      "\n",
      "Increase the number of iterations (max_iter) or scale the data as shown in:\n",
      "    https://scikit-learn.org/stable/modules/preprocessing.html\n",
      "Please also refer to the documentation for alternative solver options:\n",
      "    https://scikit-learn.org/stable/modules/linear_model.html#logistic-regression\n",
      "  extra_warning_msg=_LOGISTIC_SOLVER_CONVERGENCE_MSG)\n",
      "/usr/local/lib/python3.7/dist-packages/sklearn/linear_model/_logistic.py:940: ConvergenceWarning: lbfgs failed to converge (status=1):\n",
      "STOP: TOTAL NO. of ITERATIONS REACHED LIMIT.\n",
      "\n",
      "Increase the number of iterations (max_iter) or scale the data as shown in:\n",
      "    https://scikit-learn.org/stable/modules/preprocessing.html\n",
      "Please also refer to the documentation for alternative solver options:\n",
      "    https://scikit-learn.org/stable/modules/linear_model.html#logistic-regression\n",
      "  extra_warning_msg=_LOGISTIC_SOLVER_CONVERGENCE_MSG)\n"
     ]
    }
   ],
   "source": [
    "from sklearn.linear_model import LogisticRegression\n",
    "from sklearn.feature_extraction.text import CountVectorizer\n",
    "from sklearn.pipeline import Pipeline, make_pipeline\n",
    "from sklearn.compose import ColumnTransformer, make_column_transformer\n",
    "\n",
    "text_transformer = make_pipeline(CountVectorizer(max_features=20_000))\n",
    "\n",
    "pipe = make_pipeline(text_transformer, LogisticRegression(class_weight=\"balanced\"))\n",
    "scores = cross_validate(pipe, X_train, y_train, return_train_score=True, scoring=scoring)\n",
    "results[\"Logistic Regression\"] = pd.DataFrame(scores).mean()\n",
    "#warnings.filterwarnings(\"ignore\"s)"
   ]
  },
  {
   "cell_type": "code",
   "execution_count": 20,
   "metadata": {
    "colab": {
     "base_uri": "https://localhost:8080/",
     "height": 162
    },
    "id": "fojkl94wBAdF",
    "outputId": "6e50aeed-de1f-4758-dfcd-6404a09afa48"
   },
   "outputs": [
    {
     "data": {
      "text/html": [
       "<div>\n",
       "<style scoped>\n",
       "    .dataframe tbody tr th:only-of-type {\n",
       "        vertical-align: middle;\n",
       "    }\n",
       "\n",
       "    .dataframe tbody tr th {\n",
       "        vertical-align: top;\n",
       "    }\n",
       "\n",
       "    .dataframe thead th {\n",
       "        text-align: right;\n",
       "    }\n",
       "</style>\n",
       "<table border=\"1\" class=\"dataframe\">\n",
       "  <thead>\n",
       "    <tr style=\"text-align: right;\">\n",
       "      <th></th>\n",
       "      <th>dummy</th>\n",
       "      <th>Logistic Regression</th>\n",
       "    </tr>\n",
       "  </thead>\n",
       "  <tbody>\n",
       "    <tr>\n",
       "      <th>fit_time</th>\n",
       "      <td>0.006146</td>\n",
       "      <td>2.715815</td>\n",
       "    </tr>\n",
       "    <tr>\n",
       "      <th>score_time</th>\n",
       "      <td>0.002984</td>\n",
       "      <td>0.088651</td>\n",
       "    </tr>\n",
       "    <tr>\n",
       "      <th>test_accuracy</th>\n",
       "      <td>0.245202</td>\n",
       "      <td>0.817417</td>\n",
       "    </tr>\n",
       "    <tr>\n",
       "      <th>train_accuracy</th>\n",
       "      <td>0.240482</td>\n",
       "      <td>0.951031</td>\n",
       "    </tr>\n",
       "  </tbody>\n",
       "</table>\n",
       "</div>"
      ],
      "text/plain": [
       "                   dummy  Logistic Regression\n",
       "fit_time        0.006146  2.715815           \n",
       "score_time      0.002984  0.088651           \n",
       "test_accuracy   0.245202  0.817417           \n",
       "train_accuracy  0.240482  0.951031           "
      ]
     },
     "execution_count": 20,
     "metadata": {
      "tags": []
     },
     "output_type": "execute_result"
    }
   ],
   "source": [
    "pd.DataFrame(results)"
   ]
  },
  {
   "cell_type": "markdown",
   "metadata": {
    "id": "khOAGelLzuC_"
   },
   "source": [
    "## 2: Preparing the data for LSTMs <a name=\"2\"></a>\n",
    "<hr>\n",
    "\n",
    "A lot of the work in developing neural network models for text data goes into data preprocessing and getting the text into the suitable format. There are a number of steps involved in data preprocessing. \n",
    "\n",
    "- [ ] Data splitting (train, valid, test)\n",
    "- [ ] Loading the data files\n",
    "- [ ] Tokenization\n",
    "- [ ] Creating a vocabulary: Creating a list of unique words \n",
    "- [ ] Numericalization: Converting text to a set of integers. \n",
    "- [ ] Word vectors\n",
    "- [ ] Embedding lookup \n",
    "- [ ] Batching\n",
    "\n",
    "We'll use the [`torchtext`](https://pypi.org/project/torchtext/) library to help us with some of these preprocessing steps. \n",
    "\n",
    "\n",
    "Install `torchtext` in your environment. \n",
    "\n",
    "```pip install torchtext```\n",
    "\n",
    "> This lab assumes that you have `torchtext` version 0.9.0. "
   ]
  },
  {
   "cell_type": "code",
   "execution_count": 21,
   "metadata": {
    "id": "1-ZJhn9Fhh4F"
   },
   "outputs": [],
   "source": [
    "import torchtext\n",
    "from torchtext.legacy.data import (\n",
    "    BucketIterator,\n",
    "    Field,\n",
    "    Iterator,\n",
    "    LabelField,\n",
    "    TabularDataset,\n",
    ")"
   ]
  },
  {
   "cell_type": "markdown",
   "metadata": {
    "id": "1mMP3sLWhh4F"
   },
   "source": [
    "<br><br>"
   ]
  },
  {
   "cell_type": "markdown",
   "metadata": {
    "id": "uueWSl33hh4F"
   },
   "source": [
    "### 2.1 Tokenization and defining TEXT and LABEL\n",
    "\n",
    "We'll use `spaCy` for tokenization and tell `PyTorch` how we want our text and label fields to be processed using `torchtext`'s [`Field`]((https://torchtext.readthedocs.io/en/latest/data.html?highlight=Field#field). The code below defines `TEXT` and `LABEL` using `torchtext`'s [`Field`](https://torchtext.readthedocs.io/en/latest/data.html?highlight=Field#field).  \n"
   ]
  },
  {
   "cell_type": "code",
   "execution_count": 22,
   "metadata": {
    "id": "19LfVfSZhh4F"
   },
   "outputs": [],
   "source": [
    "import spacy\n",
    "\n",
    "nlp = spacy.load(\"en_core_web_sm\", disable=[\"parser\", \"ner\"])\n",
    "\n",
    "\n",
    "def tokenize_spacy(text):\n",
    "    \"\"\"\n",
    "    return tokenized text using spacy\n",
    "    \"\"\"\n",
    "    # Solution_2_1_1\n",
    "    ### YOUR ANSWER HERE\n",
    "    return [word.text for word in nlp.tokenizer(text)]"
   ]
  },
  {
   "cell_type": "code",
   "execution_count": 23,
   "metadata": {
    "colab": {
     "base_uri": "https://localhost:8080/"
    },
    "id": "OviaC6euhh4G",
    "outputId": "a972a515-ca74-4209-ba32-f72fbe34c514"
   },
   "outputs": [
    {
     "data": {
      "text/plain": [
       "['This', 'is', 'a', 'test', '!']"
      ]
     },
     "execution_count": 23,
     "metadata": {
      "tags": []
     },
     "output_type": "execute_result"
    }
   ],
   "source": [
    "tokenize_spacy(\"This is a test!\")"
   ]
  },
  {
   "cell_type": "code",
   "execution_count": 24,
   "metadata": {
    "id": "JMyjscxFhh4G"
   },
   "outputs": [],
   "source": [
    "TEXT = Field(sequential=True, tokenize=tokenize_spacy, lower=True)\n",
    "LABEL = Field(sequential=False, unk_token=None)"
   ]
  },
  {
   "cell_type": "markdown",
   "metadata": {
    "id": "GeyjUONxhh4G"
   },
   "source": [
    "<br><br>"
   ]
  },
  {
   "cell_type": "markdown",
   "metadata": {
    "id": "CwmjCF25hh4G"
   },
   "source": [
    "### 2.2 Load data \n",
    "We need to tell the declared fields above what data they should work with. Let's load the data with [`TabularDataset`](https://torchtext.readthedocs.io/en/latest/data.html?highlight=TabularDataset#tabulardataset)."
   ]
  },
  {
   "cell_type": "code",
   "execution_count": 25,
   "metadata": {
    "id": "jUZbJrRSlH1d"
   },
   "outputs": [],
   "source": [
    "fields = [(\"moment\", TEXT), (\"label\", LABEL)]\n",
    "train, valid, test = TabularDataset.splits(\n",
    "    #path=\"./data/\",  # the root directory where the data lies\n",
    "    path=\"gdrive/MyDrive/data/\",  # the root directory where the data lies\n",
    "    train=\"train.csv\",\n",
    "    validation=\"valid.csv\",\n",
    "    test=\"test.csv\",\n",
    "    format=\"csv\",\n",
    "    skip_header=True,\n",
    "    fields=fields,\n",
    ")"
   ]
  },
  {
   "cell_type": "markdown",
   "metadata": {
    "id": "1WFwZHYNhh4H"
   },
   "source": [
    "> Here, we are retrieving the train, valid, and test data files that were created in Exercise 1.1. The columns to define those datasets are defined by `fields`. This is to allows us to perform tokenization of all the \"moment\" columns in all the files and preprocess given the labels from \"label\". The preprocess tabluar datasets are returned at the end, each in its own object."
   ]
  },
  {
   "cell_type": "markdown",
   "metadata": {
    "id": "yCHd0Z-3hh4H"
   },
   "source": [
    "### 2.3 Build and explore vocabulary\n",
    "The next step is building vocabularies for TEXT and LABEL so that we can convert text into integer sequences. The code below builds vocabulary for `TEXT` with `glove.6B.100d` vectors and vocabulary for LABEL (integers associated with unique labels). "
   ]
  },
  {
   "cell_type": "code",
   "execution_count": 26,
   "metadata": {
    "colab": {
     "base_uri": "https://localhost:8080/"
    },
    "id": "dAzb3baRhh4H",
    "outputId": "ea94d4fb-7fbf-4ead-a411-de9181d30bf0"
   },
   "outputs": [
    {
     "name": "stderr",
     "output_type": "stream",
     "text": [
      ".vector_cache/glove.6B.zip: 862MB [02:40, 5.38MB/s]                           \n",
      "100%|█████████▉| 398552/400000 [00:15<00:00, 26113.34it/s]"
     ]
    },
    {
     "name": "stdout",
     "output_type": "stream",
     "text": [
      "Size of vocab:  3464\n",
      "10 Most common words of vocab:  ['.', 'i', 'my', 'a', 'to', 'and', 'the', 'was', ',', 'for']\n"
     ]
    }
   ],
   "source": [
    "TEXT.build_vocab(train, min_freq=3, vectors=\"glove.6B.100d\")\n",
    "LABEL.build_vocab(train)\n",
    "\n",
    "print(\"Size of vocab: \", len(TEXT.vocab))\n",
    "top_10_words = [(coup[0]) for coup in TEXT.vocab.freqs.most_common(10)]\n",
    "print(\"10 Most common words of vocab: \", top_10_words)"
   ]
  },
  {
   "cell_type": "code",
   "execution_count": 27,
   "metadata": {
    "id": "sqft74Pnhh4H"
   },
   "outputs": [],
   "source": [
    "sents = [\n",
    "    \"my students will graduate soon!\",\n",
    "    \"we are building a preprocessing pipeline for lstms.\",\n",
    "]"
   ]
  },
  {
   "cell_type": "code",
   "execution_count": 28,
   "metadata": {
    "colab": {
     "base_uri": "https://localhost:8080/"
    },
    "id": "jEfX7h1qhh4H",
    "outputId": "30eee82b-612e-4d0d-9450-4479c0d2a103"
   },
   "outputs": [
    {
     "name": "stdout",
     "output_type": "stream",
     "text": [
      "tensor([[   4,   25],\n",
      "        [ 684,   97],\n",
      "        [ 153, 1005],\n",
      "        [ 874,    5],\n",
      "        [ 660,    0],\n",
      "        [  55,    0],\n",
      "        [   1,   11],\n",
      "        [   1,    0],\n",
      "        [   1,    2]])\n"
     ]
    }
   ],
   "source": [
    "sent_1 = TEXT.preprocess(sents[0])\n",
    "sent_2 = TEXT.preprocess(sents[1])\n",
    "\n",
    "tensor = TEXT.process([sent_1, sent_2])\n",
    "print(tensor)"
   ]
  },
  {
   "cell_type": "markdown",
   "metadata": {
    "id": "SuHbj7c-hh4I"
   },
   "source": [
    "> There are 3 unknown words, represented by 0 in the numerical tensor representation above."
   ]
  },
  {
   "cell_type": "markdown",
   "metadata": {
    "id": "vLCYw0c3hh4J"
   },
   "source": [
    "### 2.4 train, valid, test iterators  \n",
    "Now that we know how to numericalize data, the next step is padding and creating iterators for `train`, `valid`, and `test` splits. Below code\n",
    "- creates these iterators with `sort = False` and `sort_within_batch=False`  arguments \n",
    "- shows first few padded examples from the first batch \n",
    "\n",
    "Create iterators `train_iter`, `valid_iter`, and `test_iter` using `BucketIterator.splits` with `sort=True` and `sort_within_batch=True` and examine the first batch. "
   ]
  },
  {
   "cell_type": "code",
   "execution_count": 29,
   "metadata": {
    "id": "AH1QRLaXhh4J"
   },
   "outputs": [],
   "source": [
    "train_iter, valid_iter, test_iter = BucketIterator.splits(\n",
    "    (train, valid, test),\n",
    "    batch_sizes=(32, 32, 32),\n",
    "    sort_key=lambda x: len(x.moment),\n",
    "    sort=False,  # setting it to False to examine the batch.\n",
    "    sort_within_batch=False,  # setting it to False to examine the batch.\n",
    ")"
   ]
  },
  {
   "cell_type": "code",
   "execution_count": 30,
   "metadata": {
    "id": "Oc5UXfZAhh4J"
   },
   "outputs": [],
   "source": [
    "for batch in train_iter:\n",
    "    moments = batch.moment\n",
    "    labels = batch.label\n",
    "    break"
   ]
  },
  {
   "cell_type": "code",
   "execution_count": 31,
   "metadata": {
    "colab": {
     "base_uri": "https://localhost:8080/"
    },
    "id": "8WLwB0jMhh4K",
    "outputId": "90bee1c9-005d-45de-83ca-535400229a4b"
   },
   "outputs": [
    {
     "data": {
      "text/plain": [
       "torch.Size([94, 32])"
      ]
     },
     "execution_count": 31,
     "metadata": {
      "tags": []
     },
     "output_type": "execute_result"
    }
   ],
   "source": [
    "moments.shape"
   ]
  },
  {
   "cell_type": "code",
   "execution_count": 32,
   "metadata": {
    "id": "bZ3p8s57hh4K"
   },
   "outputs": [],
   "source": [
    "def print_preprocessed_examples(moments, labels, n=4):\n",
    "    print(\"preprocessed corpus:\")\n",
    "    df_data = defaultdict(list)\n",
    "    for j in range(n):  # sample loop\n",
    "        df_data[\"tokens\"].append(\n",
    "            [TEXT.vocab.itos[moments[i, j]] for i in range(moments.shape[0])]\n",
    "        )\n",
    "        df_data[\"example\"].append(j)\n",
    "        df_data[\"label\"] = labels[j].item()\n",
    "    return pd.DataFrame(df_data)"
   ]
  },
  {
   "cell_type": "code",
   "execution_count": 33,
   "metadata": {
    "colab": {
     "base_uri": "https://localhost:8080/",
     "height": 373
    },
    "id": "pYlUI3lthh4K",
    "outputId": "9ad284e4-9811-4fe1-be7f-5408fa79cebf"
   },
   "outputs": [
    {
     "name": "stdout",
     "output_type": "stream",
     "text": [
      "preprocessed corpus:\n"
     ]
    },
    {
     "data": {
      "text/html": [
       "<div>\n",
       "<style scoped>\n",
       "    .dataframe tbody tr th:only-of-type {\n",
       "        vertical-align: middle;\n",
       "    }\n",
       "\n",
       "    .dataframe tbody tr th {\n",
       "        vertical-align: top;\n",
       "    }\n",
       "\n",
       "    .dataframe thead th {\n",
       "        text-align: right;\n",
       "    }\n",
       "</style>\n",
       "<table border=\"1\" class=\"dataframe\">\n",
       "  <thead>\n",
       "    <tr style=\"text-align: right;\">\n",
       "      <th></th>\n",
       "      <th>tokens</th>\n",
       "      <th>example</th>\n",
       "      <th>label</th>\n",
       "    </tr>\n",
       "  </thead>\n",
       "  <tbody>\n",
       "    <tr>\n",
       "      <th>0</th>\n",
       "      <td>[i, met, my, sister, after, 15, years, of, not, seeing, each, other, &lt;pad&gt;, &lt;pad&gt;, &lt;pad&gt;, &lt;pad&gt;, &lt;pad&gt;, &lt;pad&gt;, &lt;pad&gt;, &lt;pad&gt;, &lt;pad&gt;, &lt;pad&gt;, &lt;pad&gt;, &lt;pad&gt;, &lt;pad&gt;, &lt;pad&gt;, &lt;pad&gt;, &lt;pad&gt;, &lt;pad&gt;, &lt;pad&gt;, &lt;pad&gt;, &lt;pad&gt;, &lt;pad&gt;, &lt;pad&gt;, &lt;pad&gt;, &lt;pad&gt;, &lt;pad&gt;, &lt;pad&gt;, &lt;pad&gt;, &lt;pad&gt;, &lt;pad&gt;, &lt;pad&gt;, &lt;pad&gt;, &lt;pad&gt;, &lt;pad&gt;, &lt;pad&gt;, &lt;pad&gt;, &lt;pad&gt;, &lt;pad&gt;, &lt;pad&gt;, &lt;pad&gt;, &lt;pad&gt;, &lt;pad&gt;, &lt;pad&gt;, &lt;pad&gt;, &lt;pad&gt;, &lt;pad&gt;, &lt;pad&gt;, &lt;pad&gt;, &lt;pad&gt;, &lt;pad&gt;, &lt;pad&gt;, &lt;pad&gt;, &lt;pad&gt;, &lt;pad&gt;, &lt;pad&gt;, &lt;pad&gt;, &lt;pad&gt;, &lt;pad&gt;, &lt;pad&gt;, &lt;pad&gt;, &lt;pad&gt;, &lt;pad&gt;, &lt;pad&gt;, &lt;pad&gt;, &lt;pad&gt;, &lt;pad&gt;, &lt;pad&gt;, &lt;pad&gt;, &lt;pad&gt;, &lt;pad&gt;, &lt;pad&gt;, &lt;pad&gt;, &lt;pad&gt;, &lt;pad&gt;, &lt;pad&gt;, &lt;pad&gt;, &lt;pad&gt;, &lt;pad&gt;, &lt;pad&gt;, &lt;pad&gt;, &lt;pad&gt;, &lt;pad&gt;, &lt;pad&gt;]</td>\n",
       "      <td>0</td>\n",
       "      <td>0</td>\n",
       "    </tr>\n",
       "    <tr>\n",
       "      <th>1</th>\n",
       "      <td>[at, the, afternoon, ,, when, i, review, the, money, earned, in, my, mturk, &lt;unk&gt;, &lt;pad&gt;, &lt;pad&gt;, &lt;pad&gt;, &lt;pad&gt;, &lt;pad&gt;, &lt;pad&gt;, &lt;pad&gt;, &lt;pad&gt;, &lt;pad&gt;, &lt;pad&gt;, &lt;pad&gt;, &lt;pad&gt;, &lt;pad&gt;, &lt;pad&gt;, &lt;pad&gt;, &lt;pad&gt;, &lt;pad&gt;, &lt;pad&gt;, &lt;pad&gt;, &lt;pad&gt;, &lt;pad&gt;, &lt;pad&gt;, &lt;pad&gt;, &lt;pad&gt;, &lt;pad&gt;, &lt;pad&gt;, &lt;pad&gt;, &lt;pad&gt;, &lt;pad&gt;, &lt;pad&gt;, &lt;pad&gt;, &lt;pad&gt;, &lt;pad&gt;, &lt;pad&gt;, &lt;pad&gt;, &lt;pad&gt;, &lt;pad&gt;, &lt;pad&gt;, &lt;pad&gt;, &lt;pad&gt;, &lt;pad&gt;, &lt;pad&gt;, &lt;pad&gt;, &lt;pad&gt;, &lt;pad&gt;, &lt;pad&gt;, &lt;pad&gt;, &lt;pad&gt;, &lt;pad&gt;, &lt;pad&gt;, &lt;pad&gt;, &lt;pad&gt;, &lt;pad&gt;, &lt;pad&gt;, &lt;pad&gt;, &lt;pad&gt;, &lt;pad&gt;, &lt;pad&gt;, &lt;pad&gt;, &lt;pad&gt;, &lt;pad&gt;, &lt;pad&gt;, &lt;pad&gt;, &lt;pad&gt;, &lt;pad&gt;, &lt;pad&gt;, &lt;pad&gt;, &lt;pad&gt;, &lt;pad&gt;, &lt;pad&gt;, &lt;pad&gt;, &lt;pad&gt;, &lt;pad&gt;, &lt;pad&gt;, &lt;pad&gt;, &lt;pad&gt;, &lt;pad&gt;, &lt;pad&gt;, &lt;pad&gt;, &lt;pad&gt;]</td>\n",
       "      <td>1</td>\n",
       "      <td>0</td>\n",
       "    </tr>\n",
       "    <tr>\n",
       "      <th>2</th>\n",
       "      <td>[i, painted, my, home, last, month, &lt;pad&gt;, &lt;pad&gt;, &lt;pad&gt;, &lt;pad&gt;, &lt;pad&gt;, &lt;pad&gt;, &lt;pad&gt;, &lt;pad&gt;, &lt;pad&gt;, &lt;pad&gt;, &lt;pad&gt;, &lt;pad&gt;, &lt;pad&gt;, &lt;pad&gt;, &lt;pad&gt;, &lt;pad&gt;, &lt;pad&gt;, &lt;pad&gt;, &lt;pad&gt;, &lt;pad&gt;, &lt;pad&gt;, &lt;pad&gt;, &lt;pad&gt;, &lt;pad&gt;, &lt;pad&gt;, &lt;pad&gt;, &lt;pad&gt;, &lt;pad&gt;, &lt;pad&gt;, &lt;pad&gt;, &lt;pad&gt;, &lt;pad&gt;, &lt;pad&gt;, &lt;pad&gt;, &lt;pad&gt;, &lt;pad&gt;, &lt;pad&gt;, &lt;pad&gt;, &lt;pad&gt;, &lt;pad&gt;, &lt;pad&gt;, &lt;pad&gt;, &lt;pad&gt;, &lt;pad&gt;, &lt;pad&gt;, &lt;pad&gt;, &lt;pad&gt;, &lt;pad&gt;, &lt;pad&gt;, &lt;pad&gt;, &lt;pad&gt;, &lt;pad&gt;, &lt;pad&gt;, &lt;pad&gt;, &lt;pad&gt;, &lt;pad&gt;, &lt;pad&gt;, &lt;pad&gt;, &lt;pad&gt;, &lt;pad&gt;, &lt;pad&gt;, &lt;pad&gt;, &lt;pad&gt;, &lt;pad&gt;, &lt;pad&gt;, &lt;pad&gt;, &lt;pad&gt;, &lt;pad&gt;, &lt;pad&gt;, &lt;pad&gt;, &lt;pad&gt;, &lt;pad&gt;, &lt;pad&gt;, &lt;pad&gt;, &lt;pad&gt;, &lt;pad&gt;, &lt;pad&gt;, &lt;pad&gt;, &lt;pad&gt;, &lt;pad&gt;, &lt;pad&gt;, &lt;pad&gt;, &lt;pad&gt;, &lt;pad&gt;, &lt;pad&gt;, &lt;pad&gt;, &lt;pad&gt;, &lt;pad&gt;]</td>\n",
       "      <td>2</td>\n",
       "      <td>0</td>\n",
       "    </tr>\n",
       "    <tr>\n",
       "      <th>3</th>\n",
       "      <td>[my, mother, came, to, visit, and, we, got, along, great, ., &lt;pad&gt;, &lt;pad&gt;, &lt;pad&gt;, &lt;pad&gt;, &lt;pad&gt;, &lt;pad&gt;, &lt;pad&gt;, &lt;pad&gt;, &lt;pad&gt;, &lt;pad&gt;, &lt;pad&gt;, &lt;pad&gt;, &lt;pad&gt;, &lt;pad&gt;, &lt;pad&gt;, &lt;pad&gt;, &lt;pad&gt;, &lt;pad&gt;, &lt;pad&gt;, &lt;pad&gt;, &lt;pad&gt;, &lt;pad&gt;, &lt;pad&gt;, &lt;pad&gt;, &lt;pad&gt;, &lt;pad&gt;, &lt;pad&gt;, &lt;pad&gt;, &lt;pad&gt;, &lt;pad&gt;, &lt;pad&gt;, &lt;pad&gt;, &lt;pad&gt;, &lt;pad&gt;, &lt;pad&gt;, &lt;pad&gt;, &lt;pad&gt;, &lt;pad&gt;, &lt;pad&gt;, &lt;pad&gt;, &lt;pad&gt;, &lt;pad&gt;, &lt;pad&gt;, &lt;pad&gt;, &lt;pad&gt;, &lt;pad&gt;, &lt;pad&gt;, &lt;pad&gt;, &lt;pad&gt;, &lt;pad&gt;, &lt;pad&gt;, &lt;pad&gt;, &lt;pad&gt;, &lt;pad&gt;, &lt;pad&gt;, &lt;pad&gt;, &lt;pad&gt;, &lt;pad&gt;, &lt;pad&gt;, &lt;pad&gt;, &lt;pad&gt;, &lt;pad&gt;, &lt;pad&gt;, &lt;pad&gt;, &lt;pad&gt;, &lt;pad&gt;, &lt;pad&gt;, &lt;pad&gt;, &lt;pad&gt;, &lt;pad&gt;, &lt;pad&gt;, &lt;pad&gt;, &lt;pad&gt;, &lt;pad&gt;, &lt;pad&gt;, &lt;pad&gt;, &lt;pad&gt;, &lt;pad&gt;, &lt;pad&gt;, &lt;pad&gt;, &lt;pad&gt;, &lt;pad&gt;, &lt;pad&gt;]</td>\n",
       "      <td>3</td>\n",
       "      <td>0</td>\n",
       "    </tr>\n",
       "  </tbody>\n",
       "</table>\n",
       "</div>"
      ],
      "text/plain": [
       "                                                                                                                                                                                                                                                                                                                                                                                                                                                                                                                                                                                                                                                                        tokens  ...  label\n",
       "0  [i, met, my, sister, after, 15, years, of, not, seeing, each, other, <pad>, <pad>, <pad>, <pad>, <pad>, <pad>, <pad>, <pad>, <pad>, <pad>, <pad>, <pad>, <pad>, <pad>, <pad>, <pad>, <pad>, <pad>, <pad>, <pad>, <pad>, <pad>, <pad>, <pad>, <pad>, <pad>, <pad>, <pad>, <pad>, <pad>, <pad>, <pad>, <pad>, <pad>, <pad>, <pad>, <pad>, <pad>, <pad>, <pad>, <pad>, <pad>, <pad>, <pad>, <pad>, <pad>, <pad>, <pad>, <pad>, <pad>, <pad>, <pad>, <pad>, <pad>, <pad>, <pad>, <pad>, <pad>, <pad>, <pad>, <pad>, <pad>, <pad>, <pad>, <pad>, <pad>, <pad>, <pad>, <pad>, <pad>, <pad>, <pad>, <pad>, <pad>, <pad>, <pad>, <pad>, <pad>, <pad>, <pad>, <pad>, <pad>]           ...  0    \n",
       "1  [at, the, afternoon, ,, when, i, review, the, money, earned, in, my, mturk, <unk>, <pad>, <pad>, <pad>, <pad>, <pad>, <pad>, <pad>, <pad>, <pad>, <pad>, <pad>, <pad>, <pad>, <pad>, <pad>, <pad>, <pad>, <pad>, <pad>, <pad>, <pad>, <pad>, <pad>, <pad>, <pad>, <pad>, <pad>, <pad>, <pad>, <pad>, <pad>, <pad>, <pad>, <pad>, <pad>, <pad>, <pad>, <pad>, <pad>, <pad>, <pad>, <pad>, <pad>, <pad>, <pad>, <pad>, <pad>, <pad>, <pad>, <pad>, <pad>, <pad>, <pad>, <pad>, <pad>, <pad>, <pad>, <pad>, <pad>, <pad>, <pad>, <pad>, <pad>, <pad>, <pad>, <pad>, <pad>, <pad>, <pad>, <pad>, <pad>, <pad>, <pad>, <pad>, <pad>, <pad>, <pad>, <pad>, <pad>, <pad>]           ...  0    \n",
       "2  [i, painted, my, home, last, month, <pad>, <pad>, <pad>, <pad>, <pad>, <pad>, <pad>, <pad>, <pad>, <pad>, <pad>, <pad>, <pad>, <pad>, <pad>, <pad>, <pad>, <pad>, <pad>, <pad>, <pad>, <pad>, <pad>, <pad>, <pad>, <pad>, <pad>, <pad>, <pad>, <pad>, <pad>, <pad>, <pad>, <pad>, <pad>, <pad>, <pad>, <pad>, <pad>, <pad>, <pad>, <pad>, <pad>, <pad>, <pad>, <pad>, <pad>, <pad>, <pad>, <pad>, <pad>, <pad>, <pad>, <pad>, <pad>, <pad>, <pad>, <pad>, <pad>, <pad>, <pad>, <pad>, <pad>, <pad>, <pad>, <pad>, <pad>, <pad>, <pad>, <pad>, <pad>, <pad>, <pad>, <pad>, <pad>, <pad>, <pad>, <pad>, <pad>, <pad>, <pad>, <pad>, <pad>, <pad>, <pad>, <pad>, <pad>, <pad>]  ...  0    \n",
       "3  [my, mother, came, to, visit, and, we, got, along, great, ., <pad>, <pad>, <pad>, <pad>, <pad>, <pad>, <pad>, <pad>, <pad>, <pad>, <pad>, <pad>, <pad>, <pad>, <pad>, <pad>, <pad>, <pad>, <pad>, <pad>, <pad>, <pad>, <pad>, <pad>, <pad>, <pad>, <pad>, <pad>, <pad>, <pad>, <pad>, <pad>, <pad>, <pad>, <pad>, <pad>, <pad>, <pad>, <pad>, <pad>, <pad>, <pad>, <pad>, <pad>, <pad>, <pad>, <pad>, <pad>, <pad>, <pad>, <pad>, <pad>, <pad>, <pad>, <pad>, <pad>, <pad>, <pad>, <pad>, <pad>, <pad>, <pad>, <pad>, <pad>, <pad>, <pad>, <pad>, <pad>, <pad>, <pad>, <pad>, <pad>, <pad>, <pad>, <pad>, <pad>, <pad>, <pad>, <pad>, <pad>, <pad>, <pad>, <pad>]            ...  0    \n",
       "\n",
       "[4 rows x 3 columns]"
      ]
     },
     "execution_count": 33,
     "metadata": {
      "tags": []
     },
     "output_type": "execute_result"
    }
   ],
   "source": [
    "print_preprocessed_examples(moments, labels)"
   ]
  },
  {
   "cell_type": "code",
   "execution_count": 34,
   "metadata": {
    "id": "Pvqqjiawhh4K"
   },
   "outputs": [],
   "source": [
    "train_iter, valid_iter, test_iter = BucketIterator.splits(\n",
    "    (train, valid, test),\n",
    "    batch_sizes=(32, 32, 32),\n",
    "    sort_key=lambda x: len(x.moment),\n",
    "    sort=True,  # setting it to True to examine the batch.\n",
    "    sort_within_batch=True,  # setting it to True to examine the batch.\n",
    ")"
   ]
  },
  {
   "cell_type": "code",
   "execution_count": 35,
   "metadata": {
    "id": "qVXPgmTTIf-W"
   },
   "outputs": [],
   "source": [
    "for batch in train_iter:\n",
    "    moments = batch.moment\n",
    "    labels = batch.label\n",
    "    break"
   ]
  },
  {
   "cell_type": "code",
   "execution_count": 36,
   "metadata": {
    "colab": {
     "base_uri": "https://localhost:8080/"
    },
    "id": "IRkagunyIkeX",
    "outputId": "2538993a-08d8-4530-c161-01c9b8cdda0d"
   },
   "outputs": [
    {
     "data": {
      "text/plain": [
       "torch.Size([3, 32])"
      ]
     },
     "execution_count": 36,
     "metadata": {
      "tags": []
     },
     "output_type": "execute_result"
    }
   ],
   "source": [
    "moments.shape"
   ]
  },
  {
   "cell_type": "code",
   "execution_count": 37,
   "metadata": {
    "colab": {
     "base_uri": "https://localhost:8080/",
     "height": 178
    },
    "id": "R7vgCJxNI4NT",
    "outputId": "94850d2e-9c36-4007-d972-2cd714f2ae97"
   },
   "outputs": [
    {
     "name": "stdout",
     "output_type": "stream",
     "text": [
      "preprocessed corpus:\n"
     ]
    },
    {
     "data": {
      "text/html": [
       "<div>\n",
       "<style scoped>\n",
       "    .dataframe tbody tr th:only-of-type {\n",
       "        vertical-align: middle;\n",
       "    }\n",
       "\n",
       "    .dataframe tbody tr th {\n",
       "        vertical-align: top;\n",
       "    }\n",
       "\n",
       "    .dataframe thead th {\n",
       "        text-align: right;\n",
       "    }\n",
       "</style>\n",
       "<table border=\"1\" class=\"dataframe\">\n",
       "  <thead>\n",
       "    <tr style=\"text-align: right;\">\n",
       "      <th></th>\n",
       "      <th>tokens</th>\n",
       "      <th>example</th>\n",
       "      <th>label</th>\n",
       "    </tr>\n",
       "  </thead>\n",
       "  <tbody>\n",
       "    <tr>\n",
       "      <th>0</th>\n",
       "      <td>[enjoy, with, friends]</td>\n",
       "      <td>0</td>\n",
       "      <td>3</td>\n",
       "    </tr>\n",
       "    <tr>\n",
       "      <th>1</th>\n",
       "      <td>[enjoy, with, family]</td>\n",
       "      <td>1</td>\n",
       "      <td>3</td>\n",
       "    </tr>\n",
       "    <tr>\n",
       "      <th>2</th>\n",
       "      <td>[i, went, movie]</td>\n",
       "      <td>2</td>\n",
       "      <td>3</td>\n",
       "    </tr>\n",
       "    <tr>\n",
       "      <th>3</th>\n",
       "      <td>[night, shopping, event]</td>\n",
       "      <td>3</td>\n",
       "      <td>3</td>\n",
       "    </tr>\n",
       "  </tbody>\n",
       "</table>\n",
       "</div>"
      ],
      "text/plain": [
       "                     tokens  example  label\n",
       "0  [enjoy, with, friends]    0        3    \n",
       "1  [enjoy, with, family]     1        3    \n",
       "2  [i, went, movie]          2        3    \n",
       "3  [night, shopping, event]  3        3    "
      ]
     },
     "execution_count": 37,
     "metadata": {
      "tags": []
     },
     "output_type": "execute_result"
    }
   ],
   "source": [
    "print_preprocessed_examples(moments, labels)"
   ]
  },
  {
   "cell_type": "markdown",
   "metadata": {
    "id": "Cwx64tGBhh4L"
   },
   "source": [
    "> When using `sort=True` and `sort_within_bath=True`, we are grouping examples of similar lengths together to ensure we are minimizing the padding, which is why it is the preferred approach."
   ]
  },
  {
   "cell_type": "markdown",
   "metadata": {
    "id": "fIFjet69hh4L"
   },
   "source": [
    "### 2.5 Embedding lookup\n",
    "\n",
    "Instead of one-hot representation of words, we will be feeding in 100-dimensional GloVe pre-trained embedding representation of words to the network.  \n",
    "\n",
    "The code below creates embedding lookup table for all words in our vocabulary and gets embeddings for the `moments` object from the previous exercise. "
   ]
  },
  {
   "cell_type": "code",
   "execution_count": 38,
   "metadata": {
    "colab": {
     "base_uri": "https://localhost:8080/"
    },
    "id": "1klnb_-Nhh4L",
    "outputId": "b9a170b8-8687-4895-9bd3-d701c1181058"
   },
   "outputs": [
    {
     "data": {
      "text/plain": [
       "3464"
      ]
     },
     "execution_count": 38,
     "metadata": {
      "tags": []
     },
     "output_type": "execute_result"
    }
   ],
   "source": [
    "WORD_VEC_SIZE = 100\n",
    "VOCAB_SIZE = len(TEXT.vocab)\n",
    "VOCAB_SIZE"
   ]
  },
  {
   "cell_type": "code",
   "execution_count": 39,
   "metadata": {
    "colab": {
     "base_uri": "https://localhost:8080/"
    },
    "id": "6-lvrvH1hh4L",
    "outputId": "34cdb499-98b8-4566-de6f-11a84845c132"
   },
   "outputs": [
    {
     "name": "stdout",
     "output_type": "stream",
     "text": [
      "lookup table shape =  torch.Size([3464, 100])\n"
     ]
    }
   ],
   "source": [
    "embedding = nn.Embedding(VOCAB_SIZE, WORD_VEC_SIZE, sparse=True)\n",
    "print(\"lookup table shape = \", embedding.weight.size())"
   ]
  },
  {
   "cell_type": "code",
   "execution_count": 40,
   "metadata": {
    "id": "K5Jl564Ghh4L"
   },
   "outputs": [],
   "source": [
    "moments_embeddings = embedding(moments)"
   ]
  },
  {
   "cell_type": "code",
   "execution_count": 41,
   "metadata": {
    "colab": {
     "base_uri": "https://localhost:8080/"
    },
    "id": "edf8xPlNhh4L",
    "outputId": "d1af437b-0938-44c1-89aa-bade5e31e8d4"
   },
   "outputs": [
    {
     "data": {
      "text/plain": [
       "torch.Size([3, 32, 100])"
      ]
     },
     "execution_count": 41,
     "metadata": {
      "tags": []
     },
     "output_type": "execute_result"
    }
   ],
   "source": [
    "moments_embeddings.shape"
   ]
  },
  {
   "cell_type": "markdown",
   "metadata": {
    "id": "xqnff-tEhh4M"
   },
   "source": [
    "> The shape of `moments_embeddings` is [3, 32, 100]. The 3 corresponds to the number of sentences, followed by the 32 words in each and embeddings representation of size 100."
   ]
  },
  {
   "cell_type": "code",
   "execution_count": 42,
   "metadata": {
    "colab": {
     "base_uri": "https://localhost:8080/"
    },
    "id": "Fdm_PMC7hh4M",
    "outputId": "c26ad9f6-880e-4b73-f98c-c25ae3c62b97"
   },
   "outputs": [
    {
     "data": {
      "text/plain": [
       "tensor([ 0.3702, -0.1596, -0.2809,  1.0452, -0.1587, -0.0889, -1.1730, -0.1050,\n",
       "         0.1134,  0.0509, -0.8071,  1.1902,  0.1789, -0.4104,  0.2496, -0.7975,\n",
       "         0.2241,  0.0599, -0.5650,  1.3956,  1.0549,  0.0928,  1.2104, -0.4676,\n",
       "         0.5980, -0.6787,  0.1325, -0.1865,  0.5388, -0.9643, -0.8258, -1.4535,\n",
       "         0.9183, -0.3783,  2.7459, -0.1653,  0.6637,  0.0303, -0.0471, -1.4707,\n",
       "        -0.2160,  1.6368, -1.1374,  0.5581, -0.7656,  1.0078,  0.7132, -0.6409,\n",
       "        -0.0882,  1.2613,  1.5378, -0.8134,  0.6688,  1.3540, -0.2638, -0.0259,\n",
       "        -0.0537, -0.7988, -0.6717,  0.8704, -1.3674, -0.3977, -0.0617,  1.1158,\n",
       "         1.2468, -1.7712, -1.5736, -0.4420, -1.6735,  0.7503,  0.2669, -1.2169,\n",
       "         0.6866,  0.8340,  0.6806, -1.3048,  0.2233,  2.5756, -0.0092,  0.5507,\n",
       "         1.1500, -0.5679, -0.1882,  0.2451,  0.2769, -1.7062,  0.6988, -0.8582,\n",
       "        -0.5770, -0.2300,  0.4017, -0.8018, -0.4263,  0.3483,  0.0632, -0.5791,\n",
       "         0.8394, -1.5801, -0.9189,  1.5481], grad_fn=<SliceBackward>)"
      ]
     },
     "execution_count": 42,
     "metadata": {
      "tags": []
     },
     "output_type": "execute_result"
    }
   ],
   "source": [
    "moments_embeddings[0, 0, :]"
   ]
  },
  {
   "cell_type": "markdown",
   "metadata": {
    "id": "_73e-iBrhh4M"
   },
   "source": [
    "> It is a good idea to pass pre-trained word embeddings to the network in our task since the pretrained embedding were training on a large corpus which we consider is reliable enough. Creating our own embeddings on a smaller corpus is likely to be reliable and accurate. Also, it is quite expensive and time consuming to train word embeddings."
   ]
  },
  {
   "cell_type": "markdown",
   "metadata": {
    "id": "sgU3vmi3hh4M"
   },
   "source": [
    "## 3: Defining LSTM network architecture <a name=\"3\"></a>\n",
    "<hr>\n",
    "\n",
    "Now that we have preprocessed our data, we are now ready to define our network architecture. "
   ]
  },
  {
   "cell_type": "markdown",
   "metadata": {
    "id": "UwEB0y8Uhh4M"
   },
   "source": [
    "### 3.1 LSTMs "
   ]
  },
  {
   "cell_type": "code",
   "execution_count": 43,
   "metadata": {
    "id": "vvXubcp-hh4N"
   },
   "outputs": [],
   "source": [
    "class LSTMModel(nn.Module):\n",
    "    def __init__(\n",
    "        self, embedding_size, vocab_size, output_size, hidden_size, num_layers\n",
    "    ):\n",
    "        super(LSTMModel, self).__init__()\n",
    "        # Solution_3_1_1\n",
    "        ### YOUR ANSWER HERE\n",
    "\n",
    "        # code adapted from demo\n",
    "        self.embedding = nn.Embedding(\n",
    "            num_embeddings=vocab_size, embedding_dim=embedding_size\n",
    "        )\n",
    "        \n",
    "        self.lstm_rnn = nn.LSTM(\n",
    "            input_size=embedding_size,\n",
    "            hidden_size=hidden_size,\n",
    "            num_layers=num_layers,\n",
    "        )\n",
    "        self.activation_fn = nn.ReLU()\n",
    "        self.linear_layer = nn.Linear(hidden_size, output_size)\n",
    "        self.softmax_layer = nn.LogSoftmax(dim=-1)\n",
    "\n",
    "\n",
    "    def forward(self, x):\n",
    "        # Solution_3_1_1\n",
    "        ### YOUR ANSWER HERE\n",
    "        out = self.embedding(x)\n",
    "        out, (h_state, c_state) = self.lstm_rnn(\n",
    "            out\n",
    "        )\n",
    "        # classify based on the hidden representation at the last token\n",
    "        out = out[-1]\n",
    "        out = self.activation_fn(out)\n",
    "        out = self.linear_layer(out)\n",
    "        out = self.softmax_layer(out)\n",
    "        return out\n"
   ]
  },
  {
   "cell_type": "markdown",
   "metadata": {
    "id": "x355PKzphh4N"
   },
   "source": [
    "> For my network architecture, I defined the following layers:\n",
    "> - Embedding layer (`nn.Embedding`)\n",
    ">   - This layer is responsible fort crearing lookup tables and initializing embeddings using inputs the same size of `TEXT` vocabulary. It can be used to obtain task-specific embeddings during the learning process.\n",
    "> - LSTM layers (`nn.LSTM`)\n",
    ">   - The number of LSTM layers is defined by `num_layers`.\n",
    ">   - The layer takes input size, hidden size, and number of layers as inputs\n",
    "> - An activation function layer for non linearity (`nn.Tanh`)\n",
    "> - A linear layer (`nn.Linear`)\n",
    "> - An output layer (`nn.LogSoftmax`)\n",
    ">   - This layer acts on the outout of `nn.Linear` on top of the output of linear layer "
   ]
  },
  {
   "cell_type": "markdown",
   "metadata": {
    "id": "19L_tbqOhh4N"
   },
   "source": [
    "<br><br>"
   ]
  },
  {
   "cell_type": "markdown",
   "metadata": {
    "id": "DzhRieNmhh4O"
   },
   "source": [
    "<br><br><br><br>"
   ]
  },
  {
   "cell_type": "markdown",
   "metadata": {
    "id": "NWdsi1kShh4O"
   },
   "source": [
    "### Exercise 4: Training and evaluation <a name=\"4\"></a>\n",
    "<hr>\n",
    "\n",
    "Now that we have defined our network architecture, we are ready to train our model. Let's first set the device. "
   ]
  },
  {
   "cell_type": "code",
   "execution_count": 44,
   "metadata": {
    "id": "HKYk2Gvrhh4O"
   },
   "outputs": [],
   "source": [
    "manual_seed = 123\n",
    "torch.manual_seed(manual_seed)  # set the seed (for reproducibility)\n",
    "device = torch.device(\"cuda\" if torch.cuda.is_available() else \"cpu\")\n",
    "n_gpu = torch.cuda.device_count()\n",
    "if n_gpu > 0:\n",
    "    torch.cuda.manual_seed(manual_seed)"
   ]
  },
  {
   "cell_type": "markdown",
   "metadata": {
    "id": "XugFp64vhh4O"
   },
   "source": [
    "Given a data iterator, the `train` and `evaluate` functions below train and evaluate the model for all batches. "
   ]
  },
  {
   "cell_type": "code",
   "execution_count": 45,
   "metadata": {
    "id": "9h-iZvB-hh4O"
   },
   "outputs": [],
   "source": [
    "from sklearn.metrics import accuracy_score\n",
    "\n",
    "\n",
    "def train(dataloader):\n",
    "    total_loss = 0.0\n",
    "    # iterate throught the data loader\n",
    "    num_samples = 0\n",
    "\n",
    "    for batch in dataloader:\n",
    "        # load the current batch\n",
    "        batch_input = batch.moment\n",
    "        batch_output = batch.label\n",
    "\n",
    "        batch_input = batch_input.to(device)\n",
    "        batch_output = batch_output.to(device)\n",
    "\n",
    "        # forward pass\n",
    "        model_outputs = model(batch_input)\n",
    "\n",
    "        # compute the loss\n",
    "        cur_loss = criterion(model_outputs, batch_output)\n",
    "        total_loss += cur_loss.item()\n",
    "\n",
    "        # backward propagation (compute the gradients and update the model)\n",
    "        # clear the buffer\n",
    "        optimizer.zero_grad()\n",
    "\n",
    "        # compute the gradients\n",
    "        cur_loss.backward()\n",
    "\n",
    "        # update the weights\n",
    "        optimizer.step()\n",
    "\n",
    "        num_samples += batch_output.shape[0]\n",
    "\n",
    "    return total_loss / num_samples"
   ]
  },
  {
   "cell_type": "code",
   "execution_count": 46,
   "metadata": {
    "id": "Ej_hgecs0m9o"
   },
   "outputs": [],
   "source": [
    "def evaluate(dataloader):\n",
    "    preds = []\n",
    "    labels = []\n",
    "    with torch.no_grad():  # for efficiency\n",
    "        for batch in dataloader:\n",
    "            # load the current batch\n",
    "            try:\n",
    "                batch_input = batch.moment\n",
    "                batch_output = batch.label\n",
    "                batch_input = batch_input.to(device)\n",
    "                batch_output = batch_output.to(device)\n",
    "                # forward propagation\n",
    "                model_outputs = model(batch_input)\n",
    "                # identify the predicted class for each example in the batch\n",
    "                probabilities, predicted = torch.max(model_outputs.cpu().data, 1)\n",
    "                preds.extend(predicted.cpu())\n",
    "                labels.extend(batch_output.cpu())\n",
    "            except:\n",
    "                print(\"Error calculating predictions\")\n",
    "                print(batch)\n",
    "    accuracy = accuracy_score(preds, labels)\n",
    "    return accuracy"
   ]
  },
  {
   "cell_type": "markdown",
   "metadata": {
    "id": "nUaapxezhh4P"
   },
   "source": [
    "### 4.1 Instantiating the model\n",
    "\n",
    "Define hyperparameters of the model, instantiate the model using `LSTMModel`, examine the number of parameters of the model, and create a `checkpoint` directory to save models after each epoch.  \n",
    "\n",
    "> For some pre-defined hyperparameters, I am using some standard values. Feel free to experiment with different values for the hyperparameters. "
   ]
  },
  {
   "cell_type": "code",
   "execution_count": 1,
   "metadata": {
    "id": "8Bd9lLJBhh4P"
   },
   "outputs": [],
   "source": [
    "HIDDEN_SIZE = 128  # number of units in the hidden layer\n",
    "NUM_LAYERS = 2  # number of hidden layers\n",
    "MAX_EPOCHS = 20  # number of passes over the training data\n",
    "LEARNING_RATE = 0.2  # learning rate for the weight update rule\n",
    "NUM_CLASSES = 7  # number of classes for the problem\n",
    "EMBEDDING_SIZE = 100  # size of the word embedding"
   ]
  },
  {
   "cell_type": "code",
   "execution_count": 48,
   "metadata": {
    "id": "lal_NIzXR38P"
   },
   "outputs": [],
   "source": [
    "# Create a directory for writing models.\n",
    "import os\n",
    "\n",
    "CHECKPOINT_PATH = \"gdrive/MyDrive/checkpoint\"\n",
    "if not os.path.exists(CHECKPOINT_PATH):\n",
    "    os.mkdir(CHECKPOINT_PATH)"
   ]
  },
  {
   "cell_type": "code",
   "execution_count": 49,
   "metadata": {
    "colab": {
     "base_uri": "https://localhost:8080/"
    },
    "id": "ysae5jEZhh4P",
    "outputId": "d3364ba6-eb3c-47fb-8647-e0a6c326eec2"
   },
   "outputs": [
    {
     "name": "stdout",
     "output_type": "stream",
     "text": [
      "LSTMModel(\n",
      "  (embedding): Embedding(3464, 100)\n",
      "  (lstm_rnn): LSTM(100, 128, num_layers=2)\n",
      "  (activation_fn): ReLU()\n",
      "  (linear_layer): Linear(in_features=128, out_features=7, bias=True)\n",
      "  (softmax_layer): LogSoftmax(dim=-1)\n",
      ")\n"
     ]
    }
   ],
   "source": [
    "model = None\n",
    "\n",
    "model = LSTMModel(\n",
    "    EMBEDDING_SIZE, VOCAB_SIZE, NUM_CLASSES, HIDDEN_SIZE, NUM_LAYERS\n",
    ")\n",
    "print(model)"
   ]
  },
  {
   "cell_type": "code",
   "execution_count": 50,
   "metadata": {
    "id": "I5oSGQL2hh4P"
   },
   "outputs": [],
   "source": [
    "model.to(device)  # ship the  to the right device\n",
    "criterion = nn.NLLLoss()  # define the loss function (last node of the network)\n",
    "\n",
    "# Count the number of trianable parameters\n",
    "def count_parameters(model):\n",
    "    return sum(param.numel() for param in model.parameters() if param.requires_grad)"
   ]
  },
  {
   "cell_type": "code",
   "execution_count": 51,
   "metadata": {
    "colab": {
     "base_uri": "https://localhost:8080/"
    },
    "id": "FoSPEXA2hh4P",
    "outputId": "3dae0bc8-0185-4539-85e9-8fb1a43e7fef"
   },
   "outputs": [
    {
     "data": {
      "text/plain": [
       "597159"
      ]
     },
     "execution_count": 51,
     "metadata": {
      "tags": []
     },
     "output_type": "execute_result"
    }
   ],
   "source": [
    "count_parameters(model)"
   ]
  },
  {
   "cell_type": "markdown",
   "metadata": {
    "id": "dSbxM1C5hh4Q"
   },
   "source": [
    "> The embedding layer input dimension is equivalent to the total vocabulary in the text. The output is an embeddings representation of the embedding size, defined as 100. The dimension of the linear layer is equal to the number of classes, defined as 7. There are 2  unidirectional LSTM layers defined by num_layers whose input is defined by num_class, input_sice, and hidden_size. As input, it takes the embedding size and outputs a dimension of size hidden_size, which is then fed into the linear layer. The activation layers have the same dimensions, taking the last hidden layer as input before feeding it to the linear layer. We pass the last hidden layer into an activation function before feeding it into a linear layer. The output of the softmax layer will be the same dimension as the number of classes since the layer gives the log probabilities of each class. There are 597159 trainable parameters."
   ]
  },
  {
   "cell_type": "markdown",
   "metadata": {
    "id": "IdW8ZSR-hh4Q"
   },
   "source": [
    "<br><br>"
   ]
  },
  {
   "cell_type": "markdown",
   "metadata": {
    "id": "8640MfUkhh4Q"
   },
   "source": [
    "### 4.2 Initializing the pretrained embeddings and carry out one forward pass\n",
    "\n",
    "The code below initializes the `model` above with pre-trained GloVe embeddings. \n",
    "\n",
    "Run the code below to carry out one forward pass over a sample input batch (`moments` and `labels`) from 2.4 above and report the loss.  "
   ]
  },
  {
   "cell_type": "code",
   "execution_count": 52,
   "metadata": {
    "colab": {
     "base_uri": "https://localhost:8080/"
    },
    "id": "wTqxhjyKhh4Q",
    "outputId": "4fe2a153-68d6-455e-f04b-1acb6ad672c4"
   },
   "outputs": [
    {
     "name": "stdout",
     "output_type": "stream",
     "text": [
      "torch.Size([3464, 100])\n"
     ]
    }
   ],
   "source": [
    "pretrained_embeddings = TEXT.vocab.vectors\n",
    "model.embedding.weight.data.copy_(pretrained_embeddings)\n",
    "print(pretrained_embeddings.shape)"
   ]
  },
  {
   "cell_type": "code",
   "execution_count": 53,
   "metadata": {
    "id": "8ofLbsYtRgke"
   },
   "outputs": [],
   "source": [
    "moments = moments.to(device)\n",
    "labels = labels.to(device)"
   ]
  },
  {
   "cell_type": "code",
   "execution_count": 54,
   "metadata": {
    "colab": {
     "base_uri": "https://localhost:8080/"
    },
    "id": "ko2Ah52eMw-c",
    "outputId": "09c0fbe3-27f0-4295-8057-ab820e967b57"
   },
   "outputs": [
    {
     "name": "stdout",
     "output_type": "stream",
     "text": [
      "loss =  1.9304802417755127\n"
     ]
    }
   ],
   "source": [
    "preds = model(moments)\n",
    "loss = criterion(preds, labels)\n",
    "print(\"loss = \", loss.item())"
   ]
  },
  {
   "cell_type": "markdown",
   "metadata": {
    "id": "zwEF8F6thh4Q"
   },
   "source": [
    "<br><br>"
   ]
  },
  {
   "cell_type": "markdown",
   "metadata": {
    "id": "K5tt_fnVhh4Q"
   },
   "source": [
    "### 4.3 Train the model\n",
    "\n",
    "The code below trains the model for MAX_EPOCHS epochs.   "
   ]
  },
  {
   "cell_type": "code",
   "execution_count": 55,
   "metadata": {
    "colab": {
     "base_uri": "https://localhost:8080/"
    },
    "id": "ql7j6KKlhh4R",
    "outputId": "b0d0bd97-711e-4d64-9211-20f5e90c4013"
   },
   "outputs": [
    {
     "name": "stdout",
     "output_type": "stream",
     "text": [
      "Epoch 1, Loss 0.0483, Train accuracy 0.3430; Validation accuracy 0.3417\n",
      "Epoch 2, Loss 0.0403, Train accuracy 0.4457; Validation accuracy 0.4274\n",
      "Epoch 3, Loss 0.0327, Train accuracy 0.4814; Validation accuracy 0.4632\n",
      "Epoch 4, Loss 0.0291, Train accuracy 0.6238; Validation accuracy 0.6268\n",
      "Epoch 5, Loss 0.0266, Train accuracy 0.3424; Validation accuracy 0.3417\n",
      "Epoch 6, Loss 0.0224, Train accuracy 0.4690; Validation accuracy 0.4503\n",
      "Epoch 7, Loss 0.0193, Train accuracy 0.4400; Validation accuracy 0.4310\n",
      "Epoch 8, Loss 0.0176, Train accuracy 0.7350; Validation accuracy 0.7149\n",
      "Epoch 9, Loss 0.0166, Train accuracy 0.6761; Validation accuracy 0.6606\n",
      "Epoch 10, Loss 0.0159, Train accuracy 0.8041; Validation accuracy 0.7747\n",
      "Epoch 11, Loss 0.0153, Train accuracy 0.8079; Validation accuracy 0.7790\n",
      "Epoch 12, Loss 0.0145, Train accuracy 0.8131; Validation accuracy 0.7845\n",
      "Epoch 13, Loss 0.0135, Train accuracy 0.8201; Validation accuracy 0.7924\n",
      "Epoch 14, Loss 0.0125, Train accuracy 0.8661; Validation accuracy 0.8262\n",
      "Epoch 15, Loss 0.0119, Train accuracy 0.8680; Validation accuracy 0.8219\n",
      "Epoch 16, Loss 0.0115, Train accuracy 0.8794; Validation accuracy 0.8270\n",
      "Epoch 17, Loss 0.0107, Train accuracy 0.8878; Validation accuracy 0.8333\n",
      "Epoch 18, Loss 0.0101, Train accuracy 0.8894; Validation accuracy 0.8250\n",
      "Epoch 19, Loss 0.0096, Train accuracy 0.8972; Validation accuracy 0.8348\n",
      "Epoch 20, Loss 0.0092, Train accuracy 0.8538; Validation accuracy 0.8034\n"
     ]
    }
   ],
   "source": [
    "# create an instance of SGD with required hyperparameters\n",
    "optimizer = torch.optim.SGD(model.parameters(), lr=LEARNING_RATE)\n",
    "\n",
    "epochs, losses, train_accs, valid_accs = [], [], [], []\n",
    "\n",
    "# Train the model\n",
    "for epoch in range(MAX_EPOCHS):\n",
    "    # train the model for one pass over the data\n",
    "    train_loss = train(train_iter)\n",
    "    losses.append(train_loss)\n",
    "\n",
    "    # compute the training accuracy\n",
    "    train_acc = evaluate(train_iter)\n",
    "    train_accs.append(train_acc)\n",
    "\n",
    "    # compute the validation accuracy\n",
    "    valid_acc = evaluate(valid_iter)\n",
    "    valid_accs.append(valid_acc)\n",
    "\n",
    "    epochs.append(epoch + 1)\n",
    "\n",
    "    # print the loss for every epoch\n",
    "    print(\n",
    "        \"Epoch %d, Loss %0.4f, Train accuracy %0.4f; Validation accuracy %0.4f\"\n",
    "        % (epoch + 1, train_loss, train_acc, valid_acc)\n",
    "    )\n",
    "\n",
    "    # save model, optimizer, and number of epoch to a dictionary\n",
    "    model_save = {\n",
    "        \"epoch\": epoch,  # number of epoch\n",
    "        \"model_state_dict\": model.state_dict(),  # model parameters\n",
    "        \"optimizer_state_dict\": optimizer.state_dict(),  # save optimizer\n",
    "        \"loss\": train_loss,  # training loss\n",
    "    }\n",
    "    torch.save(model_save, CHECKPOINT_PATH + \"/model_{}.pt\".format(epoch))"
   ]
  },
  {
   "cell_type": "code",
   "execution_count": 56,
   "metadata": {
    "colab": {
     "base_uri": "https://localhost:8080/",
     "height": 311
    },
    "id": "1c0KF4xBhh4R",
    "outputId": "b0a9f738-f0d8-4888-b517-6a0aad53a8f0"
   },
   "outputs": [
    {
     "data": {
      "text/plain": [
       "Text(0.5, 1.0, 'Train Accuracy Cuve')"
      ]
     },
     "execution_count": 56,
     "metadata": {
      "tags": []
     },
     "output_type": "execute_result"
    },
    {
     "data": {
      "image/png": "[encoded data removed]",
      "text/plain": [
       "<Figure size 432x288 with 1 Axes>"
      ]
     },
     "metadata": {
      "needs_background": "light",
      "tags": []
     },
     "output_type": "display_data"
    }
   ],
   "source": [
    "import matplotlib.pyplot as plt\n",
    "\n",
    "plt.plot(epochs, train_accs)\n",
    "plt.xlabel(\"Epochs\")\n",
    "plt.ylabel(\"Accuracy\")\n",
    "plt.title(\"Train Accuracy Cuve\")"
   ]
  },
  {
   "cell_type": "code",
   "execution_count": 57,
   "metadata": {
    "colab": {
     "base_uri": "https://localhost:8080/",
     "height": 311
    },
    "id": "dh3tWdJRF6cs",
    "outputId": "5ece0c2d-fa5f-43b7-eae0-149747b8138c"
   },
   "outputs": [
    {
     "data": {
      "text/plain": [
       "Text(0.5, 1.0, 'Validation Accuracy Cuve')"
      ]
     },
     "execution_count": 57,
     "metadata": {
      "tags": []
     },
     "output_type": "execute_result"
    },
    {
     "data": {
      "image/png": "[encoded data removed]",
      "text/plain": [
       "<Figure size 432x288 with 1 Axes>"
      ]
     },
     "metadata": {
      "needs_background": "light",
      "tags": []
     },
     "output_type": "display_data"
    }
   ],
   "source": [
    "plt.plot(epochs, valid_accs)\n",
    "plt.xlabel(\"Epochs\")\n",
    "plt.ylabel(\"Accuracy\")\n",
    "plt.title(\"Validation Accuracy Cuve\")"
   ]
  },
  {
   "cell_type": "code",
   "execution_count": 59,
   "metadata": {
    "colab": {
     "base_uri": "https://localhost:8080/",
     "height": 162
    },
    "id": "HIbIrbswGI4h",
    "outputId": "c1e80a19-292c-45d5-d396-d6d60f69c989"
   },
   "outputs": [
    {
     "data": {
      "text/html": [
       "<div>\n",
       "<style scoped>\n",
       "    .dataframe tbody tr th:only-of-type {\n",
       "        vertical-align: middle;\n",
       "    }\n",
       "\n",
       "    .dataframe tbody tr th {\n",
       "        vertical-align: top;\n",
       "    }\n",
       "\n",
       "    .dataframe thead th {\n",
       "        text-align: right;\n",
       "    }\n",
       "</style>\n",
       "<table border=\"1\" class=\"dataframe\">\n",
       "  <thead>\n",
       "    <tr style=\"text-align: right;\">\n",
       "      <th></th>\n",
       "      <th>dummy</th>\n",
       "      <th>Logistic Regression</th>\n",
       "    </tr>\n",
       "  </thead>\n",
       "  <tbody>\n",
       "    <tr>\n",
       "      <th>fit_time</th>\n",
       "      <td>0.006146</td>\n",
       "      <td>2.715815</td>\n",
       "    </tr>\n",
       "    <tr>\n",
       "      <th>score_time</th>\n",
       "      <td>0.002984</td>\n",
       "      <td>0.088651</td>\n",
       "    </tr>\n",
       "    <tr>\n",
       "      <th>test_accuracy</th>\n",
       "      <td>0.245202</td>\n",
       "      <td>0.817417</td>\n",
       "    </tr>\n",
       "    <tr>\n",
       "      <th>train_accuracy</th>\n",
       "      <td>0.240482</td>\n",
       "      <td>0.951031</td>\n",
       "    </tr>\n",
       "  </tbody>\n",
       "</table>\n",
       "</div>"
      ],
      "text/plain": [
       "                   dummy  Logistic Regression\n",
       "fit_time        0.006146  2.715815           \n",
       "score_time      0.002984  0.088651           \n",
       "test_accuracy   0.245202  0.817417           \n",
       "train_accuracy  0.240482  0.951031           "
      ]
     },
     "execution_count": 59,
     "metadata": {
      "tags": []
     },
     "output_type": "execute_result"
    }
   ],
   "source": [
    "pd.DataFrame(results)"
   ]
  },
  {
   "cell_type": "markdown",
   "metadata": {
    "id": "aindDGIKhh4R"
   },
   "source": [
    "> We see that on average with each additional epoch, the train and validation accuracies are improving. Comparing the above accuracy curves to the baseline models from exercise 1, we see that for each epoch, the gap between the validation scores and the training scores are much smaller, indicating less overfitting by the LTSM model. Naturally it performed better than the dummy classifier. The logistic regression model seems to do the most overfitting."
   ]
  },
  {
   "cell_type": "markdown",
   "metadata": {
    "id": "4WqvMqbchh4R"
   },
   "source": [
    "### 4.4 Evaluation on the test data \n",
    "\n",
    "1. Get test accuracy with the final model. \n",
    "2. Compare results with train and validation accuracies. Do you see overfitting? In our previous machine learning courses we usually used cross-validation. What might be the reason of using a single validation set here?  "
   ]
  },
  {
   "cell_type": "code",
   "execution_count": 60,
   "metadata": {
    "colab": {
     "base_uri": "https://localhost:8080/"
    },
    "id": "7JsZKjNQhh4R",
    "outputId": "de18ba49-5c74-4d3c-abc0-71575ea13be3"
   },
   "outputs": [
    {
     "data": {
      "text/plain": [
       "0.7968860580325549"
      ]
     },
     "execution_count": 60,
     "metadata": {
      "tags": []
     },
     "output_type": "execute_result"
    }
   ],
   "source": [
    "evaluate(test_iter)"
   ]
  },
  {
   "cell_type": "markdown",
   "metadata": {
    "id": "GMmx1zNQhh4R"
   },
   "source": [
    "> There seems to be a little bit of overfitting here as the training accuracy of around 0.89 is larger than the test accuracy of 0.79, though both scores are fairly comparable. The use of a single validation set here is due to avoid overfitting which would occur with multiple splits. "
   ]
  },
  {
   "cell_type": "markdown",
   "metadata": {
    "id": "Xrb4-Ksshh4S"
   },
   "source": [
    "### 4.5 Evaluation on unseen examples\n",
    "\n",
    "The code below loads one of the saved models. Let's try it out on unseen examples.  \n",
    "\n",
    "We shall examine predictions given by the model on `test_sents` below.\n"
   ]
  },
  {
   "cell_type": "code",
   "execution_count": 61,
   "metadata": {
    "colab": {
     "base_uri": "https://localhost:8080/"
    },
    "id": "TwVa8oeuhh4S",
    "outputId": "127e91a2-b44e-4bfd-db98-936804782060"
   },
   "outputs": [
    {
     "data": {
      "text/plain": [
       "LSTMModel(\n",
       "  (embedding): Embedding(3464, 100)\n",
       "  (lstm_rnn): LSTM(100, 128, num_layers=2)\n",
       "  (activation_fn): ReLU()\n",
       "  (linear_layer): Linear(in_features=128, out_features=7, bias=True)\n",
       "  (softmax_layer): LogSoftmax(dim=-1)\n",
       ")"
      ]
     },
     "execution_count": 61,
     "metadata": {
      "tags": []
     },
     "output_type": "execute_result"
    }
   ],
   "source": [
    "# load weights\n",
    "model2 = LSTMModel(EMBEDDING_SIZE, VOCAB_SIZE, NUM_CLASSES, HIDDEN_SIZE, NUM_LAYERS)\n",
    "path = CHECKPOINT_PATH + \"/model_19.pt\"\n",
    "checkpoint = torch.load(path)\n",
    "\n",
    "model2.load_state_dict(checkpoint[\"model_state_dict\"])\n",
    "model2.to(device)"
   ]
  },
  {
   "cell_type": "code",
   "execution_count": 62,
   "metadata": {
    "colab": {
     "base_uri": "https://localhost:8080/"
    },
    "id": "Gm_VLaNFhh4S",
    "outputId": "9750df60-475c-429f-e26f-0263d77bec9e"
   },
   "outputs": [
    {
     "data": {
      "text/plain": [
       "['affection',\n",
       " 'achievement',\n",
       " 'bonding',\n",
       " 'enjoy_the_moment',\n",
       " 'leisure',\n",
       " 'nature',\n",
       " 'exercise']"
      ]
     },
     "execution_count": 62,
     "metadata": {
      "tags": []
     },
     "output_type": "execute_result"
    }
   ],
   "source": [
    "label_dict = [tup[0] for tup in LABEL.vocab.freqs.most_common()]\n",
    "label_dict"
   ]
  },
  {
   "cell_type": "code",
   "execution_count": 63,
   "metadata": {
    "id": "EP0U-8uGdz9x"
   },
   "outputs": [],
   "source": [
    "topic_labels = {0: 'affection',\n",
    "                1:'achievement',\n",
    "                2:'bonding',\n",
    "                3:'enjoy_the_moment',\n",
    "                4:'leisure',\n",
    "                5:'nature',\n",
    "                6:'exercise'}"
   ]
  },
  {
   "cell_type": "code",
   "execution_count": 67,
   "metadata": {
    "id": "99YnoLqFH1uC"
   },
   "outputs": [],
   "source": [
    "results = {}"
   ]
  },
  {
   "cell_type": "code",
   "execution_count": 68,
   "metadata": {
    "id": "KzvbJhILhh4S"
   },
   "outputs": [],
   "source": [
    "def predict(model, text):\n",
    "    \"\"\"\n",
    "    Given model and text, return predicted label for the happy moment text.\n",
    "    \"\"\"\n",
    "    for sent in test_sents:\n",
    "        atensor =  TEXT.process([TEXT.preprocess(sent)])\n",
    "        atensor = atensor.to(device)\n",
    "        pred = model(atensor)\n",
    "        max_prob = torch.argmax(pred)\n",
    "        make_me = max_prob.tolist()\n",
    "        results[sent] = make_me \n",
    "        \n",
    "    tmp = pd.DataFrame.from_dict(results, orient='index', columns=['Predicted Label'])\n",
    "    tmp['Prediction'] = tmp['Predicted Label'].map(topic_labels)\n",
    "    return tmp"
   ]
  },
  {
   "cell_type": "code",
   "execution_count": 65,
   "metadata": {
    "colab": {
     "base_uri": "https://localhost:8080/",
     "height": 220
    },
    "id": "qjWd2IAbhh4S",
    "outputId": "29e29aab-cc01-4c6d-dd84-c118d197e692"
   },
   "outputs": [
    {
     "data": {
      "text/html": [
       "<div>\n",
       "<style scoped>\n",
       "    .dataframe tbody tr th:only-of-type {\n",
       "        vertical-align: middle;\n",
       "    }\n",
       "\n",
       "    .dataframe tbody tr th {\n",
       "        vertical-align: top;\n",
       "    }\n",
       "\n",
       "    .dataframe thead th {\n",
       "        text-align: right;\n",
       "    }\n",
       "</style>\n",
       "<table border=\"1\" class=\"dataframe\">\n",
       "  <thead>\n",
       "    <tr style=\"text-align: right;\">\n",
       "      <th></th>\n",
       "      <th>Moment</th>\n",
       "    </tr>\n",
       "  </thead>\n",
       "  <tbody>\n",
       "    <tr>\n",
       "      <th>0</th>\n",
       "      <td>I just finished my last assignment!</td>\n",
       "    </tr>\n",
       "    <tr>\n",
       "      <th>1</th>\n",
       "      <td>On the weekend, I spent some quality time with my best friend.</td>\n",
       "    </tr>\n",
       "    <tr>\n",
       "      <th>2</th>\n",
       "      <td>I told my students that I love them all.</td>\n",
       "    </tr>\n",
       "    <tr>\n",
       "      <th>3</th>\n",
       "      <td>I went for a hike in the forest.</td>\n",
       "    </tr>\n",
       "    <tr>\n",
       "      <th>4</th>\n",
       "      <td>I did yoga this morning.</td>\n",
       "    </tr>\n",
       "    <tr>\n",
       "      <th>5</th>\n",
       "      <td>I am still breathing and I am alive!</td>\n",
       "    </tr>\n",
       "  </tbody>\n",
       "</table>\n",
       "</div>"
      ],
      "text/plain": [
       "                                                           Moment\n",
       "0  I just finished my last assignment!                           \n",
       "1  On the weekend, I spent some quality time with my best friend.\n",
       "2  I told my students that I love them all.                      \n",
       "3  I went for a hike in the forest.                              \n",
       "4  I did yoga this morning.                                      \n",
       "5  I am still breathing and I am alive!                          "
      ]
     },
     "execution_count": 65,
     "metadata": {
      "tags": []
     },
     "output_type": "execute_result"
    }
   ],
   "source": [
    "test_sents = [\n",
    "    \"I just finished my last assignment!\",\n",
    "    \"On the weekend, I spent some quality time with my best friend.\",\n",
    "    \"I told my students that I love them all.\",\n",
    "    \"I went for a hike in the forest.\",\n",
    "    \"I did yoga this morning.\",\n",
    "    \"I am still breathing and I am alive!\",\n",
    "]\n",
    "pred_df = pd.DataFrame(test_sents, columns=[\"Moment\"])\n",
    "pred_df"
   ]
  },
  {
   "cell_type": "code",
   "execution_count": 70,
   "metadata": {
    "colab": {
     "base_uri": "https://localhost:8080/",
     "height": 220
    },
    "id": "AaQ4io6ehh4S",
    "outputId": "aa7eb445-40e4-46d2-f24d-4ea892c53cb8"
   },
   "outputs": [
    {
     "data": {
      "text/html": [
       "<div>\n",
       "<style scoped>\n",
       "    .dataframe tbody tr th:only-of-type {\n",
       "        vertical-align: middle;\n",
       "    }\n",
       "\n",
       "    .dataframe tbody tr th {\n",
       "        vertical-align: top;\n",
       "    }\n",
       "\n",
       "    .dataframe thead th {\n",
       "        text-align: right;\n",
       "    }\n",
       "</style>\n",
       "<table border=\"1\" class=\"dataframe\">\n",
       "  <thead>\n",
       "    <tr style=\"text-align: right;\">\n",
       "      <th></th>\n",
       "      <th>Predicted Label</th>\n",
       "      <th>Prediction</th>\n",
       "    </tr>\n",
       "  </thead>\n",
       "  <tbody>\n",
       "    <tr>\n",
       "      <th>I just finished my last assignment!</th>\n",
       "      <td>1</td>\n",
       "      <td>achievement</td>\n",
       "    </tr>\n",
       "    <tr>\n",
       "      <th>On the weekend, I spent some quality time with my best friend.</th>\n",
       "      <td>2</td>\n",
       "      <td>bonding</td>\n",
       "    </tr>\n",
       "    <tr>\n",
       "      <th>I told my students that I love them all.</th>\n",
       "      <td>2</td>\n",
       "      <td>bonding</td>\n",
       "    </tr>\n",
       "    <tr>\n",
       "      <th>I went for a hike in the forest.</th>\n",
       "      <td>5</td>\n",
       "      <td>nature</td>\n",
       "    </tr>\n",
       "    <tr>\n",
       "      <th>I did yoga this morning.</th>\n",
       "      <td>6</td>\n",
       "      <td>exercise</td>\n",
       "    </tr>\n",
       "    <tr>\n",
       "      <th>I am still breathing and I am alive!</th>\n",
       "      <td>1</td>\n",
       "      <td>achievement</td>\n",
       "    </tr>\n",
       "  </tbody>\n",
       "</table>\n",
       "</div>"
      ],
      "text/plain": [
       "                                                                Predicted Label   Prediction\n",
       "I just finished my last assignment!                             1                achievement\n",
       "On the weekend, I spent some quality time with my best friend.  2                bonding    \n",
       "I told my students that I love them all.                        2                bonding    \n",
       "I went for a hike in the forest.                                5                nature     \n",
       "I did yoga this morning.                                        6                exercise   \n",
       "I am still breathing and I am alive!                            1                achievement"
      ]
     },
     "execution_count": 70,
     "metadata": {
      "tags": []
     },
     "output_type": "execute_result"
    }
   ],
   "source": [
    "predict(model2, test_sents)"
   ]
  },
  {
   "cell_type": "markdown",
   "metadata": {
    "id": "ekrI0SjBhh4S"
   },
   "source": [
    "<br><br>\n",
    "\n",
    "> The predictions made by the LSTM model seem to be reasonable. All the labels make sense! For instance, the label *bonding* is assigned to the text describing bonding time between friends. However, 3 out of the 6 sentences were assigned the label *achievement*. Further investigating those sentences, we see that perhaps the one about yoga could be labeled *exercise*. "
   ]
  },
  {
   "cell_type": "markdown",
   "metadata": {
    "id": "wEku-6snhh4T"
   },
   "source": [
    "<br><br><br><br>"
   ]
  },
  {
   "cell_type": "markdown",
   "metadata": {
    "id": "Ek4q7-Wyhh4T"
   },
   "source": [
    "<br><br><br><br>"
   ]
  }
 ],
 "metadata": {
  "accelerator": "GPU",
  "colab": {
   "collapsed_sections": [],
   "name": "lab4.ipynb",
   "provenance": []
  },
  "kernelspec": {
   "display_name": "Python [conda env:575]",
   "language": "python",
   "name": "conda-env-575-py"
  },
  "language_info": {
   "codemirror_mode": {
    "name": "ipython",
    "version": 3
   },
   "file_extension": ".py",
   "mimetype": "text/x-python",
   "name": "python",
   "nbconvert_exporter": "python",
   "pygments_lexer": "ipython3",
   "version": "3.8.8"
  }
 },
 "nbformat": 4,
 "nbformat_minor": 4
}
