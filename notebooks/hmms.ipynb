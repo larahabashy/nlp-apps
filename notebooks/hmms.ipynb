{
 "cells": [
  {
   "cell_type": "markdown",
   "metadata": {},
   "source": [
    "# Isolated Word Recognition with HMMs"
   ]
  },
  {
   "cell_type": "markdown",
   "metadata": {},
   "source": [
    "<br><br>"
   ]
  },
  {
   "cell_type": "markdown",
   "metadata": {},
   "source": [
    "## Imports <a name=\"im\"></a>"
   ]
  },
  {
   "cell_type": "code",
   "execution_count": 1,
   "metadata": {},
   "outputs": [],
   "source": [
    "import glob\n",
    "import os\n",
    "from collections import defaultdict\n",
    "\n",
    "import IPython.display\n",
    "\n",
    "%matplotlib inline\n",
    "import matplotlib.pyplot as plt\n",
    "import numpy as np\n",
    "import pandas as pd\n",
    "from hmmlearn import hmm\n",
    "\n",
    "pd.set_option(\"display.max_colwidth\", 0)"
   ]
  },
  {
   "cell_type": "markdown",
   "metadata": {},
   "source": [
    "<br><br><br><br>"
   ]
  },
  {
   "cell_type": "markdown",
   "metadata": {},
   "source": [
    "## 1: HMM warm-up <a name=\"1\"></a>\n",
    "<hr>\n",
    "\n",
    "Consider a two word language _fish_ and _sleep_ with two possible part-of-speech tags: _noun_ and _verb_. Suppose in our training corpus, _fish_ appears 8 times as a noun and 5 times as a verb and _sleep_ appears 2 times as a noun and 5 times as a verb. The probability of a sentence starting with a noun is 0.8 and with a verb 0.2. The state transitions between noun and verb are shown in the picture below. Note that we have one extra state in the picture below, with the label 'End'. We have this state as an \"accepting\" state; we do not have any transitions from this state. We have added this state to make the transition probabilities work. Include a column for it in the transition matrix. But do not include it in the emission probabilities or when you run the Viterbi algorithm in the next exercise. \n",
    "\n",
    "<img src=\"img/HMM_POS_tagging.png\" width=\"400\" height=\"400\">\n",
    "\n",
    "(Credit: This idea of a two word language with the words _fish_ and _sleep_ is [Ralph Grishman](https://cs.nyu.edu/grishman/)'s idea.)"
   ]
  },
  {
   "cell_type": "markdown",
   "metadata": {},
   "source": [
    "### 1.1 Define an HMM \n",
    "\n",
    "Define a hidden Markov model for part-of-speech tagging for this language. In particular, specify "
   ]
  },
  {
   "cell_type": "markdown",
   "metadata": {},
   "source": [
    "> 1. The states are ['noun', 'verb'].\n",
    "2. The set of output alphabet is ['fish', 'sleep']\n",
    "3. The inital state discrete probability distribution is given by $\\pi= [0.8$  $0.2]$.\n",
    "4. Transition probability matrix:\n",
    "|     | Noun | Verb| End |\n",
    "|:------:|:-:|:---:|:---:|\n",
    "|**Noun**|0.1| 0.8 | 0.1 | \n",
    "|**Verb**|0.2| 0.1 | 0.7 |   \n",
    "5. Emission probabilities\n",
    "|        | Sleep | Fish|\n",
    "|:------:|:-----:|:---:|\n",
    "|**Noun**|  0.2  | 0.8 | \n",
    "|**Verb**|  0.5  | 0.5 |   \n",
    "\n",
    "\n"
   ]
  },
  {
   "cell_type": "markdown",
   "metadata": {},
   "source": [
    "<br><br>"
   ]
  },
  {
   "cell_type": "markdown",
   "metadata": {},
   "source": [
    "### 1.2 Find the best part-of-speech tag sequence  \n",
    "Run the Viterbi algorithm to find the best part-of-speech sequence for the observed sequence:  \n",
    "\n",
    "> fish fish sleep\n",
    "\n",
    "In particular, calculate $\\delta$ and $\\psi$ at each state for each time step and then find the globally optimal sequence of tags for the above observed sequence. Show your work. "
   ]
  },
  {
   "cell_type": "markdown",
   "metadata": {},
   "source": [
    "### YOUR ANSWER HERE\n",
    "\n",
    "#### Viterbi: Initialization (t=0)\n",
    "- Initialize with $\\delta_i(0) = \\pi_i b_i(o_0)$ for all states\n",
    "    - $\\delta_{noun}(0) = \\pi_{noun} b_{noun}(fish) = 0.8 \\times 0.8 = 0.64$\n",
    "    - $\\delta_{verb}(0) = \\pi_{verb} b_{verb}(fish) = 0.2 \\times 0.5 = 0.1$\n",
    "    \n",
    "- Initialize with $\\psi_i(0) = 0 $, for all states   \n",
    "    - $\\psi_{noun}(0) = 0, \\psi_{verb}(0) = 0$\n",
    "\n",
    "#### Viterbi: Induction (t=1)\n",
    "\n",
    "$\\delta$ and $\\psi$ at state noun and T = 1\n",
    "- $\\delta_{noun}(1) = \\max \\begin{Bmatrix} \\delta_{noun}(0) \\times a_{noun-noun} \\\\ \\delta_{verb}(0) \\times a_{verb-noun}\\end{Bmatrix}  \\times b_{noun}(fish) = \n",
    "\\max \\begin{Bmatrix} 0.64 \\times 0.1 \\\\ 0.1 \\times 0.2\\end{Bmatrix} \\times 0.8 = 0.05125 $\n",
    "- $\\psi_{noun}(1)  = {noun}$\n",
    "\n",
    "$\\delta$ and $\\psi$ at state verb and T = 1\n",
    "- $\\delta_{verb}(1) = \\max \\begin{Bmatrix} \\delta_{verb}(0) \\times a_{verb-verb} \\\\ \\delta_{noun}(0) \\times a_{noun-verb}\\end{Bmatrix}  \\times b_{verb}(fish) = \\max \\begin{Bmatrix} 0.64 \\times 0.1 \\\\ 0.1 \\times 0.8\\end{Bmatrix} \\times 0.5 = 0.04$\n",
    "- $\\psi_{verb}(1) = {noun}$\n",
    "\n",
    "#### Viterbi: Induction (t=2)\n",
    "\n",
    "$\\delta$ and $\\psi$ at state noun and T = 2\n",
    "- $\\delta_{noun}(2) = \\max \\begin{Bmatrix} \\delta_{noun}(1) \\times a_{noun-noun} \\\\ \\delta_{verb}(1) \\times a_{verb-noun}\\end{Bmatrix}  \\times b_{noun}(sleep) = \n",
    "\\max \\begin{Bmatrix} 0.05125 \\times 0.1 \\\\ 0.04 \\times 0.2\\end{Bmatrix} \\times 0.2 = 0.0016$\n",
    "- $\\psi_{noun}(2)  = {verb}$\n",
    "\n",
    "$\\delta$ and $\\psi$ at state verb and T = 2\n",
    "- $\\delta_{verb}(2) = \\max \\begin{Bmatrix} \\delta_{verb}(1) \\times a_{verb-verb} \\\\ \\delta_{noun}(1) \\times a_{noun-verb}\\end{Bmatrix}  \\times b_{verb}(sleep) = \\max \\begin{Bmatrix} 0.04 \\times 0.1 \\\\ 0.05125 \\times 0.8\\end{Bmatrix} \\times 0.5 = 0.0205$\n",
    "- $\\psi_{verb}(2) = {noun}$\n",
    "\n",
    "#### Conclusion\n",
    "- Choose the best final state: $q_t^* = \\arg \\max\\limits_i \\delta_i(t)$\n",
    "- Recursively choose the best previous state: $q_{t-1}^* = \\psi_{q_t^*}(t)$\n",
    "    - The most likely state sequence for the observation sequence fish-fish-sleep is noun-noun-noun.\n",
    "- The probability of the state sequence is the probability of $q_t^*$ where sleep is a noun is $P(fish-fish-sleep) = 0.0205$  \n",
    "    - The probability of the state sequence is the probability of $q_t^*$ where sleep is a verb is $P(fish-fish-sleep) = 0.0016$  "
   ]
  },
  {
   "cell_type": "markdown",
   "metadata": {},
   "source": [
    "<br><br><br><br>"
   ]
  },
  {
   "cell_type": "markdown",
   "metadata": {},
   "source": [
    "## 2: Isolated word recognition using HMMs <a name=\"2\"></a>\n",
    "<hr>\n",
    "\n",
    "Hidden Markov Models (HMMs) provide a probabilistic framework for modeling sequences. Many modern statistical speech recognition systems are HMM-based systems. In fact, before deep neural networks, they used to be the state-of-the-art models in speech recognition. In this exercise, we will get a little taste of automatic speech recognition (ASR) using HMMs. In particular, the task of converting spoken words from a limited vocabulary into their corresponding text format. "
   ]
  },
  {
   "cell_type": "markdown",
   "metadata": {},
   "source": [
    "### Automatic speech recognition (ASR): quick introduction \n",
    "\n",
    "Before we look into the details of isolated speech recognition, let's look at a quick overview of automatic speech recognition (ASR). Note that this is an extremely brief overview. The actual speech recognition process is quite involved. If you want to know more about this field, I have linked some [resources](#resources) at the end of this notebook.  \n",
    "\n",
    "The input to a speech recognizer are **sound waves**. We represent sound waves by plotting **a waveform**, the change in air pressure over time. The graph measures compressions and rarefactions of the air molecules on a metaphorical \"plate\" blocking the air pressure waves (e.g., plate in a microphone in front of the speaker or the ear drums in the hearer's ear). The picture below shows a waveform of me saying \"hello\". The right picture shows zoomed-in version of the waveform. (If you are curious to know how I created this, I used [Praat](https://www.fon.hum.uva.nl/praat/) to create this waveform.)  \n",
    "\n",
    "<img src=\"img/hello_waveform.png\" width=\"600\" height=\"600\">\n",
    "\n",
    "The first step of processing speech is converting analog representations into digital ones. To turn this sound wave into numbers, we record the height (amplitude) of the wave at equally-spaced points. This process is called **sampling**. **The sampling rate** is the number of samples taken per second. You might wonder that we are losing information by taking samples from the original sound wave. But luckily, we have [Nyquist-Shannon sampling theorem](https://en.wikipedia.org/wiki/Nyquist%E2%80%93Shannon_sampling_theorem) which provides sufficient condition for a sample rate so that we can perfectly reconstruct the original waveform!"
   ]
  },
  {
   "cell_type": "markdown",
   "metadata": {},
   "source": [
    "In Python we can use the [`librosa`](https://librosa.org/doc/latest/index.html) package which carries out sampling for you and loads an audio file as a floating point time series. We'll be using this package in this notebook, and you will have to install the package in nlp `conda` environment before running the code below.  \n",
    "\n",
    "```\n",
    "conda activate nlp\n",
    "conda install -c conda-forge librosa\n",
    "```\n",
    "\n",
    "Let's examine the \"hello\" utterance above using `librosa`. "
   ]
  },
  {
   "cell_type": "code",
   "execution_count": 3,
   "metadata": {},
   "outputs": [
    {
     "name": "stderr",
     "output_type": "stream",
     "text": [
      "/Users/larahabashy/Downloads/miniconda3/envs/575/lib/python3.8/site-packages/librosa/core/audio.py:162: UserWarning: PySoundFile failed. Trying audioread instead.\n",
      "  warnings.warn(\"PySoundFile failed. Trying audioread instead.\")\n"
     ]
    },
    {
     "ename": "FileNotFoundError",
     "evalue": "[Errno 2] No such file or directory: 'img/hello.wav'",
     "output_type": "error",
     "traceback": [
      "\u001b[0;31m---------------------------------------------------------------------------\u001b[0m",
      "\u001b[0;31mRuntimeError\u001b[0m                              Traceback (most recent call last)",
      "\u001b[0;32m~/Downloads/miniconda3/envs/575/lib/python3.8/site-packages/librosa/core/audio.py\u001b[0m in \u001b[0;36mload\u001b[0;34m(path, sr, mono, offset, duration, dtype, res_type)\u001b[0m\n\u001b[1;32m    145\u001b[0m     \u001b[0;32mtry\u001b[0m\u001b[0;34m:\u001b[0m\u001b[0;34m\u001b[0m\u001b[0;34m\u001b[0m\u001b[0m\n\u001b[0;32m--> 146\u001b[0;31m         \u001b[0;32mwith\u001b[0m \u001b[0msf\u001b[0m\u001b[0;34m.\u001b[0m\u001b[0mSoundFile\u001b[0m\u001b[0;34m(\u001b[0m\u001b[0mpath\u001b[0m\u001b[0;34m)\u001b[0m \u001b[0;32mas\u001b[0m \u001b[0msf_desc\u001b[0m\u001b[0;34m:\u001b[0m\u001b[0;34m\u001b[0m\u001b[0;34m\u001b[0m\u001b[0m\n\u001b[0m\u001b[1;32m    147\u001b[0m             \u001b[0msr_native\u001b[0m \u001b[0;34m=\u001b[0m \u001b[0msf_desc\u001b[0m\u001b[0;34m.\u001b[0m\u001b[0msamplerate\u001b[0m\u001b[0;34m\u001b[0m\u001b[0;34m\u001b[0m\u001b[0m\n",
      "\u001b[0;32m~/Downloads/miniconda3/envs/575/lib/python3.8/site-packages/soundfile.py\u001b[0m in \u001b[0;36m__init__\u001b[0;34m(self, file, mode, samplerate, channels, subtype, endian, format, closefd)\u001b[0m\n\u001b[1;32m    628\u001b[0m                                          format, subtype, endian)\n\u001b[0;32m--> 629\u001b[0;31m         \u001b[0mself\u001b[0m\u001b[0;34m.\u001b[0m\u001b[0m_file\u001b[0m \u001b[0;34m=\u001b[0m \u001b[0mself\u001b[0m\u001b[0;34m.\u001b[0m\u001b[0m_open\u001b[0m\u001b[0;34m(\u001b[0m\u001b[0mfile\u001b[0m\u001b[0;34m,\u001b[0m \u001b[0mmode_int\u001b[0m\u001b[0;34m,\u001b[0m \u001b[0mclosefd\u001b[0m\u001b[0;34m)\u001b[0m\u001b[0;34m\u001b[0m\u001b[0;34m\u001b[0m\u001b[0m\n\u001b[0m\u001b[1;32m    630\u001b[0m         \u001b[0;32mif\u001b[0m \u001b[0mset\u001b[0m\u001b[0;34m(\u001b[0m\u001b[0mmode\u001b[0m\u001b[0;34m)\u001b[0m\u001b[0;34m.\u001b[0m\u001b[0missuperset\u001b[0m\u001b[0;34m(\u001b[0m\u001b[0;34m'r+'\u001b[0m\u001b[0;34m)\u001b[0m \u001b[0;32mand\u001b[0m \u001b[0mself\u001b[0m\u001b[0;34m.\u001b[0m\u001b[0mseekable\u001b[0m\u001b[0;34m(\u001b[0m\u001b[0;34m)\u001b[0m\u001b[0;34m:\u001b[0m\u001b[0;34m\u001b[0m\u001b[0;34m\u001b[0m\u001b[0m\n",
      "\u001b[0;32m~/Downloads/miniconda3/envs/575/lib/python3.8/site-packages/soundfile.py\u001b[0m in \u001b[0;36m_open\u001b[0;34m(self, file, mode_int, closefd)\u001b[0m\n\u001b[1;32m   1182\u001b[0m             \u001b[0;32mraise\u001b[0m \u001b[0mTypeError\u001b[0m\u001b[0;34m(\u001b[0m\u001b[0;34m\"Invalid file: {0!r}\"\u001b[0m\u001b[0;34m.\u001b[0m\u001b[0mformat\u001b[0m\u001b[0;34m(\u001b[0m\u001b[0mself\u001b[0m\u001b[0;34m.\u001b[0m\u001b[0mname\u001b[0m\u001b[0;34m)\u001b[0m\u001b[0;34m)\u001b[0m\u001b[0;34m\u001b[0m\u001b[0;34m\u001b[0m\u001b[0m\n\u001b[0;32m-> 1183\u001b[0;31m         _error_check(_snd.sf_error(file_ptr),\n\u001b[0m\u001b[1;32m   1184\u001b[0m                      \"Error opening {0!r}: \".format(self.name))\n",
      "\u001b[0;32m~/Downloads/miniconda3/envs/575/lib/python3.8/site-packages/soundfile.py\u001b[0m in \u001b[0;36m_error_check\u001b[0;34m(err, prefix)\u001b[0m\n\u001b[1;32m   1356\u001b[0m         \u001b[0merr_str\u001b[0m \u001b[0;34m=\u001b[0m \u001b[0m_snd\u001b[0m\u001b[0;34m.\u001b[0m\u001b[0msf_error_number\u001b[0m\u001b[0;34m(\u001b[0m\u001b[0merr\u001b[0m\u001b[0;34m)\u001b[0m\u001b[0;34m\u001b[0m\u001b[0;34m\u001b[0m\u001b[0m\n\u001b[0;32m-> 1357\u001b[0;31m         \u001b[0;32mraise\u001b[0m \u001b[0mRuntimeError\u001b[0m\u001b[0;34m(\u001b[0m\u001b[0mprefix\u001b[0m \u001b[0;34m+\u001b[0m \u001b[0m_ffi\u001b[0m\u001b[0;34m.\u001b[0m\u001b[0mstring\u001b[0m\u001b[0;34m(\u001b[0m\u001b[0merr_str\u001b[0m\u001b[0;34m)\u001b[0m\u001b[0;34m.\u001b[0m\u001b[0mdecode\u001b[0m\u001b[0;34m(\u001b[0m\u001b[0;34m'utf-8'\u001b[0m\u001b[0;34m,\u001b[0m \u001b[0;34m'replace'\u001b[0m\u001b[0;34m)\u001b[0m\u001b[0;34m)\u001b[0m\u001b[0;34m\u001b[0m\u001b[0;34m\u001b[0m\u001b[0m\n\u001b[0m\u001b[1;32m   1358\u001b[0m \u001b[0;34m\u001b[0m\u001b[0m\n",
      "\u001b[0;31mRuntimeError\u001b[0m: Error opening 'img/hello.wav': System error.",
      "\nDuring handling of the above exception, another exception occurred:\n",
      "\u001b[0;31mFileNotFoundError\u001b[0m                         Traceback (most recent call last)",
      "\u001b[0;32m<ipython-input-3-c4eaec30c6c5>\u001b[0m in \u001b[0;36m<module>\u001b[0;34m\u001b[0m\n\u001b[1;32m      3\u001b[0m \u001b[0;32mfrom\u001b[0m \u001b[0mlibrosa\u001b[0m\u001b[0;34m.\u001b[0m\u001b[0mfeature\u001b[0m \u001b[0;32mimport\u001b[0m \u001b[0mmfcc\u001b[0m\u001b[0;34m\u001b[0m\u001b[0;34m\u001b[0m\u001b[0m\n\u001b[1;32m      4\u001b[0m \u001b[0;34m\u001b[0m\u001b[0m\n\u001b[0;32m----> 5\u001b[0;31m \u001b[0my\u001b[0m\u001b[0;34m,\u001b[0m \u001b[0msr\u001b[0m \u001b[0;34m=\u001b[0m \u001b[0mlibrosa\u001b[0m\u001b[0;34m.\u001b[0m\u001b[0mload\u001b[0m\u001b[0;34m(\u001b[0m\u001b[0;34m\"img/hello.wav\"\u001b[0m\u001b[0;34m,\u001b[0m \u001b[0msr\u001b[0m\u001b[0;34m=\u001b[0m\u001b[0;36m20000\u001b[0m\u001b[0;34m)\u001b[0m\u001b[0;34m\u001b[0m\u001b[0;34m\u001b[0m\u001b[0m\n\u001b[0m",
      "\u001b[0;32m~/Downloads/miniconda3/envs/575/lib/python3.8/site-packages/librosa/core/audio.py\u001b[0m in \u001b[0;36mload\u001b[0;34m(path, sr, mono, offset, duration, dtype, res_type)\u001b[0m\n\u001b[1;32m    161\u001b[0m         \u001b[0;32mif\u001b[0m \u001b[0misinstance\u001b[0m\u001b[0;34m(\u001b[0m\u001b[0mpath\u001b[0m\u001b[0;34m,\u001b[0m \u001b[0;34m(\u001b[0m\u001b[0mstr\u001b[0m\u001b[0;34m,\u001b[0m \u001b[0mpathlib\u001b[0m\u001b[0;34m.\u001b[0m\u001b[0mPurePath\u001b[0m\u001b[0;34m)\u001b[0m\u001b[0;34m)\u001b[0m\u001b[0;34m:\u001b[0m\u001b[0;34m\u001b[0m\u001b[0;34m\u001b[0m\u001b[0m\n\u001b[1;32m    162\u001b[0m             \u001b[0mwarnings\u001b[0m\u001b[0;34m.\u001b[0m\u001b[0mwarn\u001b[0m\u001b[0;34m(\u001b[0m\u001b[0;34m\"PySoundFile failed. Trying audioread instead.\"\u001b[0m\u001b[0;34m)\u001b[0m\u001b[0;34m\u001b[0m\u001b[0;34m\u001b[0m\u001b[0m\n\u001b[0;32m--> 163\u001b[0;31m             \u001b[0my\u001b[0m\u001b[0;34m,\u001b[0m \u001b[0msr_native\u001b[0m \u001b[0;34m=\u001b[0m \u001b[0m__audioread_load\u001b[0m\u001b[0;34m(\u001b[0m\u001b[0mpath\u001b[0m\u001b[0;34m,\u001b[0m \u001b[0moffset\u001b[0m\u001b[0;34m,\u001b[0m \u001b[0mduration\u001b[0m\u001b[0;34m,\u001b[0m \u001b[0mdtype\u001b[0m\u001b[0;34m)\u001b[0m\u001b[0;34m\u001b[0m\u001b[0;34m\u001b[0m\u001b[0m\n\u001b[0m\u001b[1;32m    164\u001b[0m         \u001b[0;32melse\u001b[0m\u001b[0;34m:\u001b[0m\u001b[0;34m\u001b[0m\u001b[0;34m\u001b[0m\u001b[0m\n\u001b[1;32m    165\u001b[0m             \u001b[0;32mraise\u001b[0m \u001b[0;34m(\u001b[0m\u001b[0mexc\u001b[0m\u001b[0;34m)\u001b[0m\u001b[0;34m\u001b[0m\u001b[0;34m\u001b[0m\u001b[0m\n",
      "\u001b[0;32m~/Downloads/miniconda3/envs/575/lib/python3.8/site-packages/librosa/core/audio.py\u001b[0m in \u001b[0;36m__audioread_load\u001b[0;34m(path, offset, duration, dtype)\u001b[0m\n\u001b[1;32m    185\u001b[0m \u001b[0;34m\u001b[0m\u001b[0m\n\u001b[1;32m    186\u001b[0m     \u001b[0my\u001b[0m \u001b[0;34m=\u001b[0m \u001b[0;34m[\u001b[0m\u001b[0;34m]\u001b[0m\u001b[0;34m\u001b[0m\u001b[0;34m\u001b[0m\u001b[0m\n\u001b[0;32m--> 187\u001b[0;31m     \u001b[0;32mwith\u001b[0m \u001b[0maudioread\u001b[0m\u001b[0;34m.\u001b[0m\u001b[0maudio_open\u001b[0m\u001b[0;34m(\u001b[0m\u001b[0mpath\u001b[0m\u001b[0;34m)\u001b[0m \u001b[0;32mas\u001b[0m \u001b[0minput_file\u001b[0m\u001b[0;34m:\u001b[0m\u001b[0;34m\u001b[0m\u001b[0;34m\u001b[0m\u001b[0m\n\u001b[0m\u001b[1;32m    188\u001b[0m         \u001b[0msr_native\u001b[0m \u001b[0;34m=\u001b[0m \u001b[0minput_file\u001b[0m\u001b[0;34m.\u001b[0m\u001b[0msamplerate\u001b[0m\u001b[0;34m\u001b[0m\u001b[0;34m\u001b[0m\u001b[0m\n\u001b[1;32m    189\u001b[0m         \u001b[0mn_channels\u001b[0m \u001b[0;34m=\u001b[0m \u001b[0minput_file\u001b[0m\u001b[0;34m.\u001b[0m\u001b[0mchannels\u001b[0m\u001b[0;34m\u001b[0m\u001b[0;34m\u001b[0m\u001b[0m\n",
      "\u001b[0;32m~/Downloads/miniconda3/envs/575/lib/python3.8/site-packages/audioread/__init__.py\u001b[0m in \u001b[0;36maudio_open\u001b[0;34m(path, backends)\u001b[0m\n\u001b[1;32m    109\u001b[0m     \u001b[0;32mfor\u001b[0m \u001b[0mBackendClass\u001b[0m \u001b[0;32min\u001b[0m \u001b[0mbackends\u001b[0m\u001b[0;34m:\u001b[0m\u001b[0;34m\u001b[0m\u001b[0;34m\u001b[0m\u001b[0m\n\u001b[1;32m    110\u001b[0m         \u001b[0;32mtry\u001b[0m\u001b[0;34m:\u001b[0m\u001b[0;34m\u001b[0m\u001b[0;34m\u001b[0m\u001b[0m\n\u001b[0;32m--> 111\u001b[0;31m             \u001b[0;32mreturn\u001b[0m \u001b[0mBackendClass\u001b[0m\u001b[0;34m(\u001b[0m\u001b[0mpath\u001b[0m\u001b[0;34m)\u001b[0m\u001b[0;34m\u001b[0m\u001b[0;34m\u001b[0m\u001b[0m\n\u001b[0m\u001b[1;32m    112\u001b[0m         \u001b[0;32mexcept\u001b[0m \u001b[0mDecodeError\u001b[0m\u001b[0;34m:\u001b[0m\u001b[0;34m\u001b[0m\u001b[0;34m\u001b[0m\u001b[0m\n\u001b[1;32m    113\u001b[0m             \u001b[0;32mpass\u001b[0m\u001b[0;34m\u001b[0m\u001b[0;34m\u001b[0m\u001b[0m\n",
      "\u001b[0;32m~/Downloads/miniconda3/envs/575/lib/python3.8/site-packages/audioread/rawread.py\u001b[0m in \u001b[0;36m__init__\u001b[0;34m(self, filename)\u001b[0m\n\u001b[1;32m     60\u001b[0m     \"\"\"\n\u001b[1;32m     61\u001b[0m     \u001b[0;32mdef\u001b[0m \u001b[0m__init__\u001b[0m\u001b[0;34m(\u001b[0m\u001b[0mself\u001b[0m\u001b[0;34m,\u001b[0m \u001b[0mfilename\u001b[0m\u001b[0;34m)\u001b[0m\u001b[0;34m:\u001b[0m\u001b[0;34m\u001b[0m\u001b[0;34m\u001b[0m\u001b[0m\n\u001b[0;32m---> 62\u001b[0;31m         \u001b[0mself\u001b[0m\u001b[0;34m.\u001b[0m\u001b[0m_fh\u001b[0m \u001b[0;34m=\u001b[0m \u001b[0mopen\u001b[0m\u001b[0;34m(\u001b[0m\u001b[0mfilename\u001b[0m\u001b[0;34m,\u001b[0m \u001b[0;34m'rb'\u001b[0m\u001b[0;34m)\u001b[0m\u001b[0;34m\u001b[0m\u001b[0;34m\u001b[0m\u001b[0m\n\u001b[0m\u001b[1;32m     63\u001b[0m \u001b[0;34m\u001b[0m\u001b[0m\n\u001b[1;32m     64\u001b[0m         \u001b[0;32mtry\u001b[0m\u001b[0;34m:\u001b[0m\u001b[0;34m\u001b[0m\u001b[0;34m\u001b[0m\u001b[0m\n",
      "\u001b[0;31mFileNotFoundError\u001b[0m: [Errno 2] No such file or directory: 'img/hello.wav'"
     ]
    }
   ],
   "source": [
    "import librosa\n",
    "import librosa.display\n",
    "from librosa.feature import mfcc\n",
    "\n",
    "y, sr = librosa.load(\"img/hello.wav\", sr=20000)"
   ]
  },
  {
   "cell_type": "markdown",
   "metadata": {},
   "source": [
    "Here,  \n",
    "- `sr` $\\rightarrow$ sampling rate (Hz)\n",
    "- `y` $\\rightarrow$ 1-D numpy array containing the audio data. The size of this array is `sr` * `t`, where `t` is the time of the audio in seconds. "
   ]
  },
  {
   "cell_type": "code",
   "execution_count": null,
   "metadata": {},
   "outputs": [],
   "source": [
    "y  # 1-D numpy array containing the audio data"
   ]
  },
  {
   "cell_type": "code",
   "execution_count": 4,
   "metadata": {},
   "outputs": [
    {
     "data": {
      "text/plain": [
       "(35643,)"
      ]
     },
     "execution_count": 4,
     "metadata": {},
     "output_type": "execute_result"
    }
   ],
   "source": [
    "y.shape  # sr * t (time of the audio in seconds)"
   ]
  },
  {
   "cell_type": "code",
   "execution_count": 5,
   "metadata": {},
   "outputs": [
    {
     "data": {
      "text/plain": [
       "1.78215"
      ]
     },
     "execution_count": 5,
     "metadata": {},
     "output_type": "execute_result"
    }
   ],
   "source": [
    "y.shape[0] / sr  # Our audio clip is 1.78 second long"
   ]
  },
  {
   "cell_type": "markdown",
   "metadata": {},
   "source": [
    "With the sampling rate of 20,000, it has created a time series of length 35,643 for our tiny audio file! \n",
    "\n",
    "We can also plot the waveplot using `librosa.display.waveplot`. "
   ]
  },
  {
   "cell_type": "code",
   "execution_count": 6,
   "metadata": {},
   "outputs": [
    {
     "data": {
      "image/png": "[encoded data removed]",
      "text/plain": [
       "<Figure size 432x288 with 1 Axes>"
      ]
     },
     "metadata": {
      "needs_background": "light"
     },
     "output_type": "display_data"
    }
   ],
   "source": [
    "librosa.display.waveplot(y, sr=sr);"
   ]
  },
  {
   "cell_type": "markdown",
   "metadata": {},
   "source": [
    "Let's listen to the audio. "
   ]
  },
  {
   "cell_type": "code",
   "execution_count": 7,
   "metadata": {},
   "outputs": [
    {
     "data": {
      "text/html": [
       "\n",
       "                <audio  controls=\"controls\" >\n",
       "                    <source src=\"data:audio/wav;base64,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\" type=\"audio/wav\" />\n",
       "                    Your browser does not support the audio element.\n",
       "                </audio>\n",
       "              "
      ],
      "text/plain": [
       "<IPython.lib.display.Audio object>"
      ]
     },
     "execution_count": 7,
     "metadata": {},
     "output_type": "execute_result"
    }
   ],
   "source": [
    "import IPython.display\n",
    "\n",
    "IPython.display.Audio(y, rate=sr)"
   ]
  },
  {
   "cell_type": "markdown",
   "metadata": {},
   "source": [
    "In automatic speech recognition, we take a waveform as input and produce a string of words corresponding to this input waveform. HMM-based speech recognition views this task as a noisy channel model. \n",
    "\n",
    "#### Noisy channel model \n",
    "\n",
    "The intuition is that we treat the acoustic waveform as a \"noisy\" version of the string of words, and we want to decode this noisy signal and guess the source sentence. For that, we search through a huge space of sentences and choose the one which gives us the highest probability of generating this noisy sentence. \n",
    "\n",
    "<img src=\"img/noisy_channel_model.png\" width=\"400\" height=\"400\">\n",
    "\n",
    "[Source](https://readyforai.com/download/speech-and-language-processing-2nd-edition-pdf)\n",
    "\n",
    "#### Feature extraction \n",
    "\n",
    "As we saw before, given an acoustic waveform, we get the 1-D time series `y` when we load this waveform with a given sampling rate. Usually we do not work with this raw audio data. We **extract features** from the this data, and work with these features. The most common features in the context of speech data are [Mel-frequency cepstrum coefficients](https://en.wikipedia.org/wiki/Mel-frequency_cepstrum) (MFCCs), which represent short term power spectrum of human speech. The `y` above is divided into smaller **time frames** and MFCC features are extracted per time frame. Note that each audio file will have different number of time frames depending upon the length of the audio. Even if the same person is saying the same thing in the audio, there would be some variations. For example, if I say a short \"hello\", the .wav file would be shorter and we would have a small number of time frames. Whereas if I say a long heeeellloooo, the .wav file would be shorter and we would have more time frames. \n",
    "\n",
    "Again, we can use `librosa` for feature extraction. In particular, we will use `librosa.feature.mfcc` to extract MFCC features, which returns a numpy array of shape number of MFCC features by number of time frames. In this audio clip, with the default parameters, we have 42 frames, and 15 MFCC features are extracted for each of these frames. The rows are MFCC features and columns are time frames, and the shape of this feature matrix is $15 \\times 42$ in our case. See the [documentation](https://librosa.org/doc/main/generated/librosa.feature.mfcc.html) for more details on different parameters of `librosa.feature.mfcc` method.  "
   ]
  },
  {
   "cell_type": "code",
   "execution_count": 8,
   "metadata": {},
   "outputs": [],
   "source": [
    "# extract MFC features\n",
    "mfcc_feats = librosa.feature.mfcc(y, n_mfcc=15)"
   ]
  },
  {
   "cell_type": "code",
   "execution_count": 9,
   "metadata": {},
   "outputs": [
    {
     "data": {
      "text/plain": [
       "(15, 70)"
      ]
     },
     "execution_count": 9,
     "metadata": {},
     "output_type": "execute_result"
    }
   ],
   "source": [
    "mfcc_feats.shape"
   ]
  },
  {
   "cell_type": "markdown",
   "metadata": {},
   "source": [
    "We can visualize the MFCC features, as shown below. We can see 15 rows and 42 columns in the plot; each column corresponds to MFCC features per time frame. For now, we won't worry about what these features actually mean. We'll assume that these are useful representations of raw audio and we'll be using them in our model. "
   ]
  },
  {
   "cell_type": "code",
   "execution_count": 10,
   "metadata": {},
   "outputs": [
    {
     "data": {
      "image/png": "[encoded data removed]",
      "text/plain": [
       "<Figure size 432x288 with 1 Axes>"
      ]
     },
     "metadata": {
      "needs_background": "light"
     },
     "output_type": "display_data"
    }
   ],
   "source": [
    "librosa.display.specshow(mfcc_feats, x_axis=\"time\");"
   ]
  },
  {
   "cell_type": "markdown",
   "metadata": {},
   "source": [
    "#### Phonemes or Phones \n",
    "\n",
    "In speech recognition, we want to break down this plot (or similar plot with speech time frames) into pieces and identify which piece corresponds to which word. It turns out that the way to think about this is not by breaking the signal down at word level but at \"phoneme\" level. A **phoneme** or a **phone** is a basic unit of speech sound. The word \"hello\" is made up of four phonemes: HH AH L OW. You can think of phonemes as units of speech which are equivalent to letters in written text. Most languages around the world on average have a total of approximately $40$ phonemes. How do you know phonemes for words in English? One of the popular pronunciation dictionaries is [The Carnegie Mellon University Pronouncing Dictionary](http://www.speech.cs.cmu.edu/cgi-bin/cmudict), which is an open-source pronunciation dictionary for North American English. It contains over 134,000 words and their pronunciations. "
   ]
  },
  {
   "cell_type": "markdown",
   "metadata": {},
   "source": [
    "#### High level architecture of a simplistic ASR system\n",
    "\n",
    "The picture below shows overall architecture of a simplified HMM-based speech recognizer decoding for a single sentence. An HMM-based speech recognition system usually has two components: an acoustic model and a language model. Given a waveform as input, here are the usual steps that are carried out:\n",
    "\n",
    "- **Sampling**: Convert continuous speech into discrete time frames (i.e., sampling).\n",
    "- **Feature Extraction**: Extract features for each time frame. The most common ones are Mel Frequency Cepstral Coefficient (MFCC) features. \n",
    "- **Acoustic model**: Using HMMs, identify a sequence of phonemes corresponding to the sequence of frames. One or more frames can correspond to the same phoneme. \n",
    "- **Pronunciation model**: Using these sequences and a pronunciation dictionary, create corresponding words. \n",
    "- **Language model**: Use a language model to create the most probable sequence of words. \n",
    "\n",
    "<img src=\"img/speech_recognition_architecture.png\" width=\"600\" height=\"600\">\n",
    "\n",
    "Note that in the architecture above, in the feature extraction component, we see the transpose of the MFCC feature matrix, where rows represent time frames and columns represent MFCC features. In this lab, we'll be working with such a matrix. Let's visualize the transpose of our \"hello\" MFCC matrix as a dataframe. "
   ]
  },
  {
   "cell_type": "code",
   "execution_count": 11,
   "metadata": {},
   "outputs": [
    {
     "name": "stdout",
     "output_type": "stream",
     "text": [
      "Shape of mfcc_df:  (70, 15)\n"
     ]
    },
    {
     "data": {
      "text/html": [
       "<div>\n",
       "<style scoped>\n",
       "    .dataframe tbody tr th:only-of-type {\n",
       "        vertical-align: middle;\n",
       "    }\n",
       "\n",
       "    .dataframe tbody tr th {\n",
       "        vertical-align: top;\n",
       "    }\n",
       "\n",
       "    .dataframe thead th {\n",
       "        text-align: right;\n",
       "    }\n",
       "</style>\n",
       "<table border=\"1\" class=\"dataframe\">\n",
       "  <thead>\n",
       "    <tr style=\"text-align: right;\">\n",
       "      <th></th>\n",
       "      <th>mfcc1</th>\n",
       "      <th>mfcc2</th>\n",
       "      <th>mfcc3</th>\n",
       "      <th>mfcc4</th>\n",
       "      <th>mfcc5</th>\n",
       "      <th>mfcc6</th>\n",
       "      <th>mfcc7</th>\n",
       "      <th>mfcc8</th>\n",
       "      <th>mfcc9</th>\n",
       "      <th>mfcc10</th>\n",
       "      <th>mfcc11</th>\n",
       "      <th>mfcc12</th>\n",
       "      <th>mfcc13</th>\n",
       "      <th>mfcc14</th>\n",
       "      <th>mfcc15</th>\n",
       "    </tr>\n",
       "  </thead>\n",
       "  <tbody>\n",
       "    <tr>\n",
       "      <th>frame1</th>\n",
       "      <td>-467.988190</td>\n",
       "      <td>102.844604</td>\n",
       "      <td>12.045694</td>\n",
       "      <td>0.002646</td>\n",
       "      <td>23.428978</td>\n",
       "      <td>16.573727</td>\n",
       "      <td>5.460759</td>\n",
       "      <td>13.721784</td>\n",
       "      <td>14.828250</td>\n",
       "      <td>3.770241</td>\n",
       "      <td>2.242991</td>\n",
       "      <td>9.936987</td>\n",
       "      <td>13.701328</td>\n",
       "      <td>10.246897</td>\n",
       "      <td>1.759200</td>\n",
       "    </tr>\n",
       "    <tr>\n",
       "      <th>frame2</th>\n",
       "      <td>-500.506439</td>\n",
       "      <td>80.697464</td>\n",
       "      <td>20.090965</td>\n",
       "      <td>3.930990</td>\n",
       "      <td>18.223145</td>\n",
       "      <td>18.830055</td>\n",
       "      <td>9.747242</td>\n",
       "      <td>11.718896</td>\n",
       "      <td>14.751390</td>\n",
       "      <td>6.591749</td>\n",
       "      <td>0.990790</td>\n",
       "      <td>9.004246</td>\n",
       "      <td>17.228760</td>\n",
       "      <td>11.957251</td>\n",
       "      <td>0.729018</td>\n",
       "    </tr>\n",
       "    <tr>\n",
       "      <th>frame3</th>\n",
       "      <td>-561.698425</td>\n",
       "      <td>30.742626</td>\n",
       "      <td>29.008072</td>\n",
       "      <td>26.402237</td>\n",
       "      <td>23.288616</td>\n",
       "      <td>20.063999</td>\n",
       "      <td>17.079750</td>\n",
       "      <td>14.578602</td>\n",
       "      <td>12.661118</td>\n",
       "      <td>11.288193</td>\n",
       "      <td>10.316488</td>\n",
       "      <td>9.555747</td>\n",
       "      <td>8.831413</td>\n",
       "      <td>8.035748</td>\n",
       "      <td>7.154084</td>\n",
       "    </tr>\n",
       "    <tr>\n",
       "      <th>frame4</th>\n",
       "      <td>-518.118652</td>\n",
       "      <td>42.147560</td>\n",
       "      <td>28.040850</td>\n",
       "      <td>41.797806</td>\n",
       "      <td>34.843224</td>\n",
       "      <td>34.144741</td>\n",
       "      <td>4.831817</td>\n",
       "      <td>6.388145</td>\n",
       "      <td>10.483236</td>\n",
       "      <td>7.289881</td>\n",
       "      <td>4.149110</td>\n",
       "      <td>0.329984</td>\n",
       "      <td>3.441392</td>\n",
       "      <td>16.390066</td>\n",
       "      <td>8.653028</td>\n",
       "    </tr>\n",
       "    <tr>\n",
       "      <th>frame5</th>\n",
       "      <td>-477.289917</td>\n",
       "      <td>59.282322</td>\n",
       "      <td>25.920567</td>\n",
       "      <td>44.421352</td>\n",
       "      <td>35.745300</td>\n",
       "      <td>34.330601</td>\n",
       "      <td>-5.092242</td>\n",
       "      <td>2.728276</td>\n",
       "      <td>4.231495</td>\n",
       "      <td>0.972606</td>\n",
       "      <td>5.456466</td>\n",
       "      <td>-0.879756</td>\n",
       "      <td>2.386652</td>\n",
       "      <td>21.880825</td>\n",
       "      <td>11.179819</td>\n",
       "    </tr>\n",
       "  </tbody>\n",
       "</table>\n",
       "</div>"
      ],
      "text/plain": [
       "             mfcc1       mfcc2      mfcc3      mfcc4      mfcc5      mfcc6  \\\n",
       "frame1 -467.988190  102.844604  12.045694  0.002646   23.428978  16.573727   \n",
       "frame2 -500.506439  80.697464   20.090965  3.930990   18.223145  18.830055   \n",
       "frame3 -561.698425  30.742626   29.008072  26.402237  23.288616  20.063999   \n",
       "frame4 -518.118652  42.147560   28.040850  41.797806  34.843224  34.144741   \n",
       "frame5 -477.289917  59.282322   25.920567  44.421352  35.745300  34.330601   \n",
       "\n",
       "            mfcc7      mfcc8      mfcc9     mfcc10     mfcc11    mfcc12  \\\n",
       "frame1  5.460759   13.721784  14.828250  3.770241   2.242991   9.936987   \n",
       "frame2  9.747242   11.718896  14.751390  6.591749   0.990790   9.004246   \n",
       "frame3  17.079750  14.578602  12.661118  11.288193  10.316488  9.555747   \n",
       "frame4  4.831817   6.388145   10.483236  7.289881   4.149110   0.329984   \n",
       "frame5 -5.092242   2.728276   4.231495   0.972606   5.456466  -0.879756   \n",
       "\n",
       "           mfcc13     mfcc14     mfcc15  \n",
       "frame1  13.701328  10.246897  1.759200   \n",
       "frame2  17.228760  11.957251  0.729018   \n",
       "frame3  8.831413   8.035748   7.154084   \n",
       "frame4  3.441392   16.390066  8.653028   \n",
       "frame5  2.386652   21.880825  11.179819  "
      ]
     },
     "execution_count": 11,
     "metadata": {},
     "output_type": "execute_result"
    }
   ],
   "source": [
    "cols = [\"mfcc\" + str(i + 1) for i in range(mfcc_feats.shape[0])]\n",
    "index = [\"frame\" + str(i + 1) for i in range(mfcc_feats.shape[1])]\n",
    "mfcc_df = pd.DataFrame(mfcc_feats.transpose(), columns=cols, index=index)\n",
    "print(\"Shape of mfcc_df: \", mfcc_df.shape)\n",
    "mfcc_df.head()"
   ]
  },
  {
   "cell_type": "markdown",
   "metadata": {},
   "source": [
    "#### Hidden Markov model for a word\n",
    "\n",
    "The example below shows an HMM for the word \"LOVE\". The observations are MFCC vectors (acoustic features) for  time frames. The word has 3 phonemes: L, AH, and V. You can stay in a phoneme for more than one unit of time (hence the self loop). Then you transition to the next phoneme. Again, you can stay there for more than one unit of time, and then move to the next phoneme and so on.  \n",
    "\n",
    "<img src=\"img/hmm_love.png\" width=\"400\" height=\"400\">\n",
    "\n",
    "But the problem is that these phonemes are \"hidden\". Our task is to convert a series of MFCC vectors into a sequence of phonemes. \n",
    "\n",
    "#### Our overall workflow for isolated word recognition \n",
    "\n",
    "Now that you have a basic idea of automatic speech recognition, let's work on a simple isolated word recognition task. In particular, you will work with a toy dataset compiled by Håkon Sandsmark. The dataset has 15 utterances (.wav files) for each of the seven fruits: apple, banana, kiwi, lime, orange, peach, pineapple. In other words, it contains total 107 .wav files, each containing a recording of one of the seven fruit names above. Each utterance is in a separate .wav file. Our goal is to build a speech recognition system for this limited vocabulary, which identifies which fruit name the person saying. \n",
    "\n",
    "Here is the overall approach we are going to take.  \n",
    "\n",
    "- Split the data into train set (14 files for each fruit) and validation set (one file per fruit). \n",
    "- Read audio files. \n",
    "- Extract MFCC features. \n",
    "- Create a separate `X` for each fruit using the 14 training files for that fruit.  \n",
    "- Keep track of number of frames (sequence length) in each utterance. \n",
    "- Train seven Gaussian HMMs, one for each fruit. \n",
    "- During test time, extract MFCC features for the audio file. \n",
    "- Get the likelihood of the sequence of frames using each of the seven models. \n",
    "- Pick the model label which gives the highest likelihood. \n",
    "\n",
    "<img src=\"img/isolated_words_data.png\" width=\"600\" height=\"600\">\n",
    "\n",
    "[Source](https://storage.googleapis.com/google-code-archive-downloads/v2/code.google.com/hmm-speech-recognition/report.pdf)\n",
    "\n",
    "Let's get started! "
   ]
  },
  {
   "cell_type": "markdown",
   "metadata": {},
   "source": [
    "<br><br>"
   ]
  },
  {
   "cell_type": "markdown",
   "metadata": {},
   "source": [
    "### 2.1 Data and splitting \n",
    "rubric={accuracy:12}\n",
    "\n",
    "Download `hmm-speech-recognition-0.1.zip` from [here](https://code.google.com/archive/p/hmm-speech-recognition/downloads), and put the unzipped data in the lab folder. We'll be reading the audio files and extracting features using the `librosa` package. \n",
    "\n",
    "The code below gets the labels from the data folder, loads one of the .wav files using `librosa` and plots the waveplot of the file. \n",
    "\n",
    "Our goal is to build separate HMM models for each fruit and test our models against the validation files. So we'll be splitting audio files into train and validation. \n",
    "\n",
    "Create train and validation sets such that train set has 14 audio files of per fruit and validation set has one audio file per fruit. It doesn't matter which file you decide to put in the validation set among the 15 files for each fruit. But make sure that the train and validation sets do not overlap. \n",
    "\n",
    "> We'll be building separate model for each fruit. "
   ]
  },
  {
   "cell_type": "code",
   "execution_count": 12,
   "metadata": {},
   "outputs": [
    {
     "data": {
      "text/plain": [
       "['apple', 'kiwi', 'lime', 'banana', 'pineapple', 'orange', 'peach']"
      ]
     },
     "execution_count": 12,
     "metadata": {},
     "output_type": "execute_result"
    }
   ],
   "source": [
    "data_dir = \"audio/\"\n",
    "labels = os.listdir(data_dir)\n",
    "labels"
   ]
  },
  {
   "cell_type": "code",
   "execution_count": 13,
   "metadata": {},
   "outputs": [
    {
     "data": {
      "image/png": "[encoded data removed]",
      "text/plain": [
       "<Figure size 432x288 with 1 Axes>"
      ]
     },
     "metadata": {
      "needs_background": "light"
     },
     "output_type": "display_data"
    }
   ],
   "source": [
    "# Let's examine one of the audio files.\n",
    "y, sr = librosa.load(\"audio/apple/apple01.wav\")\n",
    "plt.figure()\n",
    "plt.subplot(3, 1, 1)\n",
    "librosa.display.waveplot(y, sr=sr);"
   ]
  },
  {
   "cell_type": "code",
   "execution_count": 14,
   "metadata": {},
   "outputs": [
    {
     "data": {
      "text/plain": [
       "(7426,)"
      ]
     },
     "execution_count": 14,
     "metadata": {},
     "output_type": "execute_result"
    }
   ],
   "source": [
    "y.shape"
   ]
  },
  {
   "cell_type": "code",
   "execution_count": 15,
   "metadata": {},
   "outputs": [
    {
     "data": {
      "text/html": [
       "\n",
       "                <audio  controls=\"controls\" >\n",
       "                    <source src=\"data:audio/wav;base64,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\" type=\"audio/wav\" />\n",
       "                    Your browser does not support the audio element.\n",
       "                </audio>\n",
       "              "
      ],
      "text/plain": [
       "<IPython.lib.display.Audio object>"
      ]
     },
     "execution_count": 15,
     "metadata": {},
     "output_type": "execute_result"
    }
   ],
   "source": [
    "import IPython.display\n",
    "\n",
    "IPython.display.Audio(y, rate=sr)"
   ]
  },
  {
   "cell_type": "code",
   "execution_count": 16,
   "metadata": {},
   "outputs": [],
   "source": [
    "train_files={}\n",
    "valid_files={}\n",
    "\n",
    "fruits = []\n",
    "labs=[]\n",
    "counter = 1\n",
    "for file in glob.glob(\"audio/**\"):\n",
    "    fruits.append(file)\n",
    "fruits\n",
    "for fruit in fruits:\n",
    "    labs.append(fruit.split(\"/\")[1])\n",
    "    for lab in labs:\n",
    "        look = \"audio/\" + lab + \"/*.wav\"\n",
    "        files = glob.glob(look)\n",
    "        valid = files.pop()\n",
    "        train = files\n",
    "        train_files[lab] = train\n",
    "        valid_files[lab] = valid"
   ]
  },
  {
   "cell_type": "code",
   "execution_count": 17,
   "metadata": {},
   "outputs": [
    {
     "data": {
      "text/plain": [
       "{'apple': ['audio/apple/apple07.wav',\n",
       "  'audio/apple/apple13.wav',\n",
       "  'audio/apple/apple12.wav',\n",
       "  'audio/apple/apple06.wav',\n",
       "  'audio/apple/apple10.wav',\n",
       "  'audio/apple/apple04.wav',\n",
       "  'audio/apple/apple05.wav',\n",
       "  'audio/apple/apple11.wav',\n",
       "  'audio/apple/apple15.wav',\n",
       "  'audio/apple/apple01.wav',\n",
       "  'audio/apple/apple14.wav',\n",
       "  'audio/apple/apple02.wav',\n",
       "  'audio/apple/apple03.wav',\n",
       "  'audio/apple/apple08.wav'],\n",
       " 'kiwi': ['audio/kiwi/kiwi08.wav',\n",
       "  'audio/kiwi/kiwi09.wav',\n",
       "  'audio/kiwi/kiwi01.wav',\n",
       "  'audio/kiwi/kiwi15.wav',\n",
       "  'audio/kiwi/kiwi14.wav',\n",
       "  'audio/kiwi/kiwi02.wav',\n",
       "  'audio/kiwi/kiwi03.wav',\n",
       "  'audio/kiwi/kiwi13.wav',\n",
       "  'audio/kiwi/kiwi07.wav',\n",
       "  'audio/kiwi/kiwi06.wav',\n",
       "  'audio/kiwi/kiwi12.wav',\n",
       "  'audio/kiwi/kiwi04.wav',\n",
       "  'audio/kiwi/kiwi10.wav',\n",
       "  'audio/kiwi/kiwi11.wav'],\n",
       " 'lime': ['audio/lime/lime07.wav',\n",
       "  'audio/lime/lime13.wav',\n",
       "  'audio/lime/lime12.wav',\n",
       "  'audio/lime/lime06.wav',\n",
       "  'audio/lime/lime10.wav',\n",
       "  'audio/lime/lime04.wav',\n",
       "  'audio/lime/lime05.wav',\n",
       "  'audio/lime/lime11.wav',\n",
       "  'audio/lime/lime15.wav',\n",
       "  'audio/lime/lime01.wav',\n",
       "  'audio/lime/lime14.wav',\n",
       "  'audio/lime/lime02.wav',\n",
       "  'audio/lime/lime03.wav',\n",
       "  'audio/lime/lime08.wav'],\n",
       " 'banana': ['audio/banana/banana03.wav',\n",
       "  'audio/banana/banana02.wav',\n",
       "  'audio/banana/banana14.wav',\n",
       "  'audio/banana/banana01.wav',\n",
       "  'audio/banana/banana15.wav',\n",
       "  'audio/banana/banana11.wav',\n",
       "  'audio/banana/banana05.wav',\n",
       "  'audio/banana/banana04.wav',\n",
       "  'audio/banana/banana10.wav',\n",
       "  'audio/banana/banana06.wav',\n",
       "  'audio/banana/banana12.wav',\n",
       "  'audio/banana/banana13.wav',\n",
       "  'audio/banana/banana07.wav',\n",
       "  'audio/banana/banana09.wav'],\n",
       " 'pineapple': ['audio/pineapple/pineapple08.wav',\n",
       "  'audio/pineapple/pineapple09.wav',\n",
       "  'audio/pineapple/pineapple02.wav',\n",
       "  'audio/pineapple/pineapple03.wav',\n",
       "  'audio/pineapple/pineapple01.wav',\n",
       "  'audio/pineapple/pineapple15.wav',\n",
       "  'audio/pineapple/pineapple14.wav',\n",
       "  'audio/pineapple/pineapple04.wav',\n",
       "  'audio/pineapple/pineapple10.wav',\n",
       "  'audio/pineapple/pineapple11.wav',\n",
       "  'audio/pineapple/pineapple05.wav',\n",
       "  'audio/pineapple/pineapple13.wav',\n",
       "  'audio/pineapple/pineapple07.wav',\n",
       "  'audio/pineapple/pineapple06.wav'],\n",
       " 'orange': ['audio/orange/orange09.wav',\n",
       "  'audio/orange/orange08.wav',\n",
       "  'audio/orange/orange03.wav',\n",
       "  'audio/orange/orange02.wav',\n",
       "  'audio/orange/orange14.wav',\n",
       "  'audio/orange/orange01.wav',\n",
       "  'audio/orange/orange15.wav',\n",
       "  'audio/orange/orange11.wav',\n",
       "  'audio/orange/orange05.wav',\n",
       "  'audio/orange/orange04.wav',\n",
       "  'audio/orange/orange10.wav',\n",
       "  'audio/orange/orange06.wav',\n",
       "  'audio/orange/orange12.wav',\n",
       "  'audio/orange/orange13.wav'],\n",
       " 'peach': ['audio/peach/peach12.wav',\n",
       "  'audio/peach/peach06.wav',\n",
       "  'audio/peach/peach07.wav',\n",
       "  'audio/peach/peach13.wav',\n",
       "  'audio/peach/peach05.wav',\n",
       "  'audio/peach/peach11.wav',\n",
       "  'audio/peach/peach10.wav',\n",
       "  'audio/peach/peach04.wav',\n",
       "  'audio/peach/peach14.wav',\n",
       "  'audio/peach/peach15.wav',\n",
       "  'audio/peach/peach01.wav',\n",
       "  'audio/peach/peach03.wav',\n",
       "  'audio/peach/peach02.wav',\n",
       "  'audio/peach/peach09.wav']}"
      ]
     },
     "execution_count": 17,
     "metadata": {},
     "output_type": "execute_result"
    }
   ],
   "source": [
    "train_files"
   ]
  },
  {
   "cell_type": "code",
   "execution_count": 18,
   "metadata": {},
   "outputs": [
    {
     "data": {
      "text/plain": [
       "{'apple': 'audio/apple/apple09.wav',\n",
       " 'kiwi': 'audio/kiwi/kiwi05.wav',\n",
       " 'lime': 'audio/lime/lime09.wav',\n",
       " 'banana': 'audio/banana/banana08.wav',\n",
       " 'pineapple': 'audio/pineapple/pineapple12.wav',\n",
       " 'orange': 'audio/orange/orange07.wav',\n",
       " 'peach': 'audio/peach/peach08.wav'}"
      ]
     },
     "execution_count": 18,
     "metadata": {},
     "output_type": "execute_result"
    }
   ],
   "source": [
    "valid_files"
   ]
  },
  {
   "cell_type": "markdown",
   "metadata": {},
   "source": [
    "### 2.2 Feature extraction \n",
    "The code below shows how to read an audio file, extract MFCC features, and create `X` for the fruit apple (assuming the last file in the list is in the validation set). This gives us feature vectors for each time frame in the input audio file. Note that each audio will have different number of frames and we are keeping track of the number of frames per audio in a list `seqlens`. We need these sequence lengths when we train our HMM model.  \n",
    "\n",
    "You can create `X` and corresponding `seqlens` lists for each fruit by extracting MFCC features for each audio file for that fruit and by stacking them. \n",
    "\n",
    "**Your tasks:**\n",
    "\n",
    "1. Complete the `create_X_per_fruit` function below which returns a dictionary where keys are fruit labels and values are dictionaries with two keys: `X` and `seqlens`. The value of `X` would be MFCCs for time frames and value for `seqlens` would be a list of sequence lengths. \n",
    "2. Now create `X` and `seqlens` for each of the seven fruits using the function `create_X_per_fruit`, and store it in a variable called `fruits_X_lens`. \n",
    "3. For each fruit, rows in X are going to be observations (emissions) in the HMM for that fruit. Are these observations continuous or discrete? Which of the available [HMM models from hmmlearn](https://hmmlearn.readthedocs.io/en/0.2.0/tutorial.html#available-models) would you use in this case?  \n",
    "\n",
    "> Recall that the toy HMM example we saw in class had discrete emissions or observations (Study data science, Eat, Cry, Facebook) and so we used `hmm.MultinomialHMM`. "
   ]
  },
  {
   "cell_type": "code",
   "execution_count": 19,
   "metadata": {},
   "outputs": [
    {
     "name": "stdout",
     "output_type": "stream",
     "text": [
      "(254, 15)\n"
     ]
    }
   ],
   "source": [
    "### Example demonstrating how to create X for the fruit apple.\n",
    "\n",
    "n_mfcc = 15\n",
    "X = np.array([])\n",
    "seqlens = []\n",
    "# only consider the files from the train set\n",
    "for sample_file in glob.glob(\"audio/apple/*.wav\")[:14]:\n",
    "    y, sr = librosa.load(sample_file)  # load the file\n",
    "    mfcc_feats = librosa.feature.mfcc(y, n_mfcc=n_mfcc).T  # extract mfcc features\n",
    "    seqlens.append(\n",
    "        mfcc_feats.shape[0]\n",
    "    )  # keep track of seqence length (# frames) in each file\n",
    "    if len(X) == 0:\n",
    "        X = mfcc_feats\n",
    "    else:\n",
    "        X = np.append(X, mfcc_feats, axis=0)\n",
    "print(X.shape)"
   ]
  },
  {
   "cell_type": "markdown",
   "metadata": {},
   "source": [
    "What are the sequence lengths of individual audio files? "
   ]
  },
  {
   "cell_type": "code",
   "execution_count": 20,
   "metadata": {},
   "outputs": [
    {
     "data": {
      "text/html": [
       "<div>\n",
       "<style scoped>\n",
       "    .dataframe tbody tr th:only-of-type {\n",
       "        vertical-align: middle;\n",
       "    }\n",
       "\n",
       "    .dataframe tbody tr th {\n",
       "        vertical-align: top;\n",
       "    }\n",
       "\n",
       "    .dataframe thead th {\n",
       "        text-align: right;\n",
       "    }\n",
       "</style>\n",
       "<table border=\"1\" class=\"dataframe\">\n",
       "  <thead>\n",
       "    <tr style=\"text-align: right;\">\n",
       "      <th></th>\n",
       "      <th>sequence len</th>\n",
       "    </tr>\n",
       "  </thead>\n",
       "  <tbody>\n",
       "    <tr>\n",
       "      <th>audio/apple/apple07.wav</th>\n",
       "      <td>18</td>\n",
       "    </tr>\n",
       "    <tr>\n",
       "      <th>audio/apple/apple13.wav</th>\n",
       "      <td>19</td>\n",
       "    </tr>\n",
       "    <tr>\n",
       "      <th>audio/apple/apple12.wav</th>\n",
       "      <td>19</td>\n",
       "    </tr>\n",
       "    <tr>\n",
       "      <th>audio/apple/apple06.wav</th>\n",
       "      <td>16</td>\n",
       "    </tr>\n",
       "    <tr>\n",
       "      <th>audio/apple/apple10.wav</th>\n",
       "      <td>19</td>\n",
       "    </tr>\n",
       "    <tr>\n",
       "      <th>audio/apple/apple04.wav</th>\n",
       "      <td>18</td>\n",
       "    </tr>\n",
       "    <tr>\n",
       "      <th>audio/apple/apple05.wav</th>\n",
       "      <td>18</td>\n",
       "    </tr>\n",
       "    <tr>\n",
       "      <th>audio/apple/apple11.wav</th>\n",
       "      <td>19</td>\n",
       "    </tr>\n",
       "    <tr>\n",
       "      <th>audio/apple/apple15.wav</th>\n",
       "      <td>19</td>\n",
       "    </tr>\n",
       "    <tr>\n",
       "      <th>audio/apple/apple01.wav</th>\n",
       "      <td>15</td>\n",
       "    </tr>\n",
       "    <tr>\n",
       "      <th>audio/apple/apple14.wav</th>\n",
       "      <td>19</td>\n",
       "    </tr>\n",
       "    <tr>\n",
       "      <th>audio/apple/apple02.wav</th>\n",
       "      <td>18</td>\n",
       "    </tr>\n",
       "    <tr>\n",
       "      <th>audio/apple/apple03.wav</th>\n",
       "      <td>17</td>\n",
       "    </tr>\n",
       "    <tr>\n",
       "      <th>audio/apple/apple08.wav</th>\n",
       "      <td>20</td>\n",
       "    </tr>\n",
       "  </tbody>\n",
       "</table>\n",
       "</div>"
      ],
      "text/plain": [
       "                         sequence len\n",
       "audio/apple/apple07.wav  18          \n",
       "audio/apple/apple13.wav  19          \n",
       "audio/apple/apple12.wav  19          \n",
       "audio/apple/apple06.wav  16          \n",
       "audio/apple/apple10.wav  19          \n",
       "audio/apple/apple04.wav  18          \n",
       "audio/apple/apple05.wav  18          \n",
       "audio/apple/apple11.wav  19          \n",
       "audio/apple/apple15.wav  19          \n",
       "audio/apple/apple01.wav  15          \n",
       "audio/apple/apple14.wav  19          \n",
       "audio/apple/apple02.wav  18          \n",
       "audio/apple/apple03.wav  17          \n",
       "audio/apple/apple08.wav  20          "
      ]
     },
     "execution_count": 20,
     "metadata": {},
     "output_type": "execute_result"
    }
   ],
   "source": [
    "pd.DataFrame(\n",
    "    seqlens, index=glob.glob(\"audio/apple/*.wav\")[:14], columns=[\"sequence len\"]\n",
    ")"
   ]
  },
  {
   "cell_type": "markdown",
   "metadata": {},
   "source": [
    "<br><br>"
   ]
  },
  {
   "cell_type": "code",
   "execution_count": 21,
   "metadata": {},
   "outputs": [],
   "source": [
    "def create_X_per_fruit(train_files):\n",
    "    \"\"\"\n",
    "    Returns a dictionary containing X and seqlens for each fruit.\n",
    "\n",
    "    Parameters:\n",
    "    ----------\n",
    "    train_files : dict\n",
    "         train file names for each fruit\n",
    "\n",
    "    Return:\n",
    "    ----------\n",
    "        dict\n",
    "            dictionary where keys are fruit names and\n",
    "            values are dictionaries with two keys: `X` and `seqlens`.\n",
    "    \"\"\"\n",
    "\n",
    "    ### Solution_2_2_1\n",
    "    ### YOUR ANSWER HERE\n",
    "    result = {}\n",
    "    inner_dict = {}\n",
    "    for fruit in train_files.keys():\n",
    "        # code adapted from example above\n",
    "        n_mfcc = 15\n",
    "        X = np.array([])\n",
    "        seqlens = []\n",
    "        # only consider the files from the train set\n",
    "        for sample_file in train_files[fruit]:\n",
    "            y, sr = librosa.load(sample_file)  # load the file\n",
    "            mfcc_feats = librosa.feature.mfcc(y, n_mfcc=n_mfcc).T  # extract mfcc features\n",
    "            seqlens.append(\n",
    "                mfcc_feats.shape[0]\n",
    "            )  # keep track of seqence length (# frames) in each file\n",
    "            if len(X) == 0:\n",
    "                X = mfcc_feats\n",
    "            else:\n",
    "                X = np.append(X, mfcc_feats, axis=0)\n",
    "        inner_dict = {\"X\":X, \"seqlens\":seqlens}\n",
    "        result[fruit] = inner_dict\n",
    "    return result"
   ]
  },
  {
   "cell_type": "code",
   "execution_count": 22,
   "metadata": {},
   "outputs": [],
   "source": [
    "fruits_X_lens = None\n",
    "\n",
    "### Solution_2_2_2\n",
    "### YOUR ANSWER HERE\n",
    "\n",
    "fruits_X_lens = create_X_per_fruit(train_files)"
   ]
  },
  {
   "cell_type": "markdown",
   "metadata": {},
   "source": [
    "> For each fruit, rows in X are going to be observations (emissions) in the HMM for that fruit. The observations are **continuous**. In this case, I would use either `hmm.Gaussian` or `hmm.GMMHMM`."
   ]
  },
  {
   "cell_type": "markdown",
   "metadata": {},
   "source": [
    "<br><br>"
   ]
  },
  {
   "cell_type": "markdown",
   "metadata": {},
   "source": [
    "### 2.3 Classification with traditional ML classification models\n",
    "\n",
    "Note: We are trying to solve a classification problem of identifying the class (fruit name) of the word uttered in the given audio file. We can use traditional classification ML models such as logistic regression or SVM in this case. We would need some sort of vector representing each audio file."
   ]
  },
  {
   "cell_type": "markdown",
   "metadata": {},
   "source": [
    "<br><br>"
   ]
  },
  {
   "cell_type": "markdown",
   "metadata": {},
   "source": [
    "### 2.4 Training HMMs\n",
    "\n",
    "As mentioned before, we'll be training seven HMMs, one for each fruit. \n",
    "First, we need to decide how many hidden states we should pass when building these HMMs. Recall that we roughly want each state to correspond to one phoneme. So we can make this decision based on how many phonemes are there in each fruit word. The table below shows phonemes for the seven fruits. On average we have about 4 phonemes per word. So let's try `n_components = 4` in our HMM model. \n",
    "\n",
    "| Fruit         | Pronunciation (phonemes) |\n",
    "| ------------- |:---------|\n",
    "| apple         |  AE P AH L |\n",
    "| banana     |  B AH N AE N AH |\n",
    "| kiwi     |  K IY W IY |\n",
    "| lime     |  L AY M |\n",
    "| orange     | AO R AH N JH |\n",
    "| peach     |  P IY CH |\n",
    "| pineapple    | P AY N AE P AH L|\n",
    "\n",
    "For each fruit, train [`GaussianHMM`](https://hmmlearn.readthedocs.io/en/latest/api.html#hmmlearn.hmm.GaussianHMM) with `n_components = 4` and appropriate sequence lengths,  and store the models in the `models` dict below, where keys are fruit names and values are trained models. "
   ]
  },
  {
   "cell_type": "code",
   "execution_count": 23,
   "metadata": {},
   "outputs": [],
   "source": [
    "models = defaultdict()\n",
    "\n",
    "for fruit, data in fruits_X_lens.items():\n",
    "    model = hmm.GaussianHMM(n_components=4)\n",
    "    model.fit(data['X'], data['seqlens'])\n",
    "    models[fruit] = model"
   ]
  },
  {
   "cell_type": "code",
   "execution_count": 24,
   "metadata": {},
   "outputs": [
    {
     "data": {
      "text/html": [
       "<div>\n",
       "<style scoped>\n",
       "    .dataframe tbody tr th:only-of-type {\n",
       "        vertical-align: middle;\n",
       "    }\n",
       "\n",
       "    .dataframe tbody tr th {\n",
       "        vertical-align: top;\n",
       "    }\n",
       "\n",
       "    .dataframe thead th {\n",
       "        text-align: right;\n",
       "    }\n",
       "</style>\n",
       "<table border=\"1\" class=\"dataframe\">\n",
       "  <thead>\n",
       "    <tr style=\"text-align: right;\">\n",
       "      <th></th>\n",
       "      <th>Start Probabilities</th>\n",
       "    </tr>\n",
       "  </thead>\n",
       "  <tbody>\n",
       "    <tr>\n",
       "      <th>0</th>\n",
       "      <td>5.016426e-130</td>\n",
       "    </tr>\n",
       "    <tr>\n",
       "      <th>1</th>\n",
       "      <td>2.483917e-07</td>\n",
       "    </tr>\n",
       "    <tr>\n",
       "      <th>2</th>\n",
       "      <td>5.766467e-01</td>\n",
       "    </tr>\n",
       "    <tr>\n",
       "      <th>3</th>\n",
       "      <td>4.233531e-01</td>\n",
       "    </tr>\n",
       "  </tbody>\n",
       "</table>\n",
       "</div>"
      ],
      "text/plain": [
       "   Start Probabilities\n",
       "0  5.016426e-130      \n",
       "1  2.483917e-07       \n",
       "2  5.766467e-01       \n",
       "3  4.233531e-01       "
      ]
     },
     "execution_count": 24,
     "metadata": {},
     "output_type": "execute_result"
    }
   ],
   "source": [
    "pd.DataFrame(models['apple'].startprob_, columns=['Start Probabilities'])"
   ]
  },
  {
   "cell_type": "code",
   "execution_count": 25,
   "metadata": {},
   "outputs": [
    {
     "data": {
      "text/html": [
       "<div>\n",
       "<style scoped>\n",
       "    .dataframe tbody tr th:only-of-type {\n",
       "        vertical-align: middle;\n",
       "    }\n",
       "\n",
       "    .dataframe tbody tr th {\n",
       "        vertical-align: top;\n",
       "    }\n",
       "\n",
       "    .dataframe thead th {\n",
       "        text-align: right;\n",
       "    }\n",
       "</style>\n",
       "<table border=\"1\" class=\"dataframe\">\n",
       "  <thead>\n",
       "    <tr style=\"text-align: right;\">\n",
       "      <th></th>\n",
       "      <th>0</th>\n",
       "      <th>1</th>\n",
       "      <th>2</th>\n",
       "      <th>3</th>\n",
       "    </tr>\n",
       "  </thead>\n",
       "  <tbody>\n",
       "    <tr>\n",
       "      <th>0</th>\n",
       "      <td>8.238060e-01</td>\n",
       "      <td>1.818312e-52</td>\n",
       "      <td>0.027850</td>\n",
       "      <td>1.483438e-01</td>\n",
       "    </tr>\n",
       "    <tr>\n",
       "      <th>1</th>\n",
       "      <td>5.201573e-02</td>\n",
       "      <td>7.228889e-01</td>\n",
       "      <td>0.225095</td>\n",
       "      <td>1.132591e-92</td>\n",
       "    </tr>\n",
       "    <tr>\n",
       "      <th>2</th>\n",
       "      <td>1.943403e-01</td>\n",
       "      <td>1.943421e-01</td>\n",
       "      <td>0.611318</td>\n",
       "      <td>2.670412e-57</td>\n",
       "    </tr>\n",
       "    <tr>\n",
       "      <th>3</th>\n",
       "      <td>2.312859e-38</td>\n",
       "      <td>4.047813e-06</td>\n",
       "      <td>0.256788</td>\n",
       "      <td>7.432077e-01</td>\n",
       "    </tr>\n",
       "  </tbody>\n",
       "</table>\n",
       "</div>"
      ],
      "text/plain": [
       "              0             1         2             3\n",
       "0  8.238060e-01  1.818312e-52  0.027850  1.483438e-01\n",
       "1  5.201573e-02  7.228889e-01  0.225095  1.132591e-92\n",
       "2  1.943403e-01  1.943421e-01  0.611318  2.670412e-57\n",
       "3  2.312859e-38  4.047813e-06  0.256788  7.432077e-01"
      ]
     },
     "execution_count": 25,
     "metadata": {},
     "output_type": "execute_result"
    }
   ],
   "source": [
    "# transition matrix\n",
    "pd.DataFrame(models['apple'].transmat_)"
   ]
  },
  {
   "cell_type": "code",
   "execution_count": 26,
   "metadata": {},
   "outputs": [
    {
     "name": "stdout",
     "output_type": "stream",
     "text": [
      "The shape of the transition matrix is (4, 4), corresponding to 4 n_components, for 4 hidden states.\n"
     ]
    }
   ],
   "source": [
    "trans_shape = pd.DataFrame(models['apple'].transmat_).shape\n",
    "print(f\"The shape of the transition matrix is {trans_shape}, corresponding to 4 n_components, for 4 hidden states.\")"
   ]
  },
  {
   "cell_type": "markdown",
   "metadata": {},
   "source": [
    "> Note: We need to pass sequence lengths when we fit each model because each model has a different sequence lengths, depending on `X` corresponding to different audio files stacked.  When we fit each model, each audio file is an observation sequences for the model, which is based on the different audio files of different lengths. "
   ]
  },
  {
   "cell_type": "markdown",
   "metadata": {},
   "source": [
    "<br><br>"
   ]
  },
  {
   "cell_type": "markdown",
   "metadata": {},
   "source": [
    "### 2.5 Visualizing HMMs\n",
    "\n",
    "The function `visualize_hmm` below returns a dot object for the given states and fruit.  \n",
    "\n",
    "You'll need to install the following packages in the course conda environment to run the code below. \n",
    "\n",
    "```\n",
    "conda activate nlp\n",
    "conda install -c anaconda networkx\n",
    "conda install -c anaconda pydot\n",
    "conda install conda install python-graphviz\n",
    "```\n",
    "\n",
    "> If you're a Windows user, you might have to try `pip install` instead of `conda install` for the packages above. "
   ]
  },
  {
   "cell_type": "code",
   "execution_count": 27,
   "metadata": {},
   "outputs": [],
   "source": [
    "import graphviz\n",
    "import networkx as nx\n",
    "\n",
    "\n",
    "def visualize_hmm(fruit=\"apple\", states=[\"s1\", \"s2\", \"s3\", \"s4\"]):\n",
    "    transmat_df = pd.DataFrame(models[fruit].transmat_, index=states, columns=states)\n",
    "\n",
    "    # Get edges and their weights from the transition matrix\n",
    "    edges = {}\n",
    "    for col in transmat_df.columns:\n",
    "        for idx in transmat_df.index:\n",
    "            val = round(transmat_df.loc[idx, col], 3)\n",
    "            if val > 0:\n",
    "                edges[(idx, col)] = val\n",
    "\n",
    "    # Create graph\n",
    "    graph = nx.MultiDiGraph()\n",
    "    graph.add_nodes_from(states)  # nodes correspond to states\n",
    "    print(f\"Nodes:\\n{graph.nodes()}\\n\")\n",
    "\n",
    "    # edges represent transition probabilities\n",
    "    for k, v in edges.items():\n",
    "        tmp_source, tmp_dest = k[0], k[1]\n",
    "        graph.add_edge(tmp_source, tmp_dest, weight=v, label=v)\n",
    "    pos = nx.drawing.nx_pydot.graphviz_layout(graph, prog=\"dot\")\n",
    "    nx.draw_networkx(graph, pos)\n",
    "\n",
    "    edge_labels = {(n1, n2): d[\"label\"] for n1, n2, d in graph.edges(data=True)}\n",
    "    nx.draw_networkx_edge_labels(graph, pos, edge_labels=edge_labels)\n",
    "    dot_filename = fruit + \".dot\"\n",
    "    nx.drawing.nx_pydot.write_dot(graph, dot_filename)\n",
    "    with open(dot_filename) as f:\n",
    "        dot_graph = f.read()\n",
    "    return graphviz.Source(dot_graph)"
   ]
  },
  {
   "cell_type": "code",
   "execution_count": 28,
   "metadata": {},
   "outputs": [
    {
     "name": "stdout",
     "output_type": "stream",
     "text": [
      "Nodes:\n",
      "['s1', 's2', 's3', 's4']\n",
      "\n"
     ]
    },
    {
     "data": {
      "image/svg+xml": [
       "<?xml version=\"1.0\" encoding=\"UTF-8\" standalone=\"no\"?>\n",
       "<!DOCTYPE svg PUBLIC \"-//W3C//DTD SVG 1.1//EN\"\n",
       " \"http://www.w3.org/Graphics/SVG/1.1/DTD/svg11.dtd\">\n",
       "<!-- Generated by graphviz version 2.47.0 (0)\n",
       " -->\n",
       "<!-- Pages: 1 -->\n",
       "<svg width=\"243pt\" height=\"305pt\"\n",
       " viewBox=\"0.00 0.00 243.00 305.00\" xmlns=\"http://www.w3.org/2000/svg\" xmlns:xlink=\"http://www.w3.org/1999/xlink\">\n",
       "<g id=\"graph0\" class=\"graph\" transform=\"scale(1 1) rotate(0) translate(4 301)\">\n",
       "<polygon fill=\"white\" stroke=\"transparent\" points=\"-4,4 -4,-301 239,-301 239,4 -4,4\"/>\n",
       "<!-- s1 -->\n",
       "<g id=\"node1\" class=\"node\">\n",
       "<title>s1</title>\n",
       "<ellipse fill=\"none\" stroke=\"black\" cx=\"83\" cy=\"-279\" rx=\"27\" ry=\"18\"/>\n",
       "<text text-anchor=\"middle\" x=\"83\" y=\"-275.3\" font-family=\"Times,serif\" font-size=\"14.00\">s1</text>\n",
       "</g>\n",
       "<!-- s1&#45;&gt;s1 -->\n",
       "<g id=\"edge1\" class=\"edge\">\n",
       "<title>s1&#45;&gt;s1</title>\n",
       "<path fill=\"none\" stroke=\"black\" d=\"M107.53,-286.75C118.51,-287.49 128,-284.91 128,-279 128,-275.03 123.72,-272.56 117.57,-271.59\"/>\n",
       "<polygon fill=\"black\" stroke=\"black\" points=\"117.65,-268.09 107.53,-271.25 117.41,-275.09 117.65,-268.09\"/>\n",
       "<text text-anchor=\"middle\" x=\"144\" y=\"-275.3\" font-family=\"Times,serif\" font-size=\"14.00\">0.824</text>\n",
       "</g>\n",
       "<!-- s3 -->\n",
       "<g id=\"node3\" class=\"node\">\n",
       "<title>s3</title>\n",
       "<ellipse fill=\"none\" stroke=\"black\" cx=\"76\" cy=\"-105\" rx=\"27\" ry=\"18\"/>\n",
       "<text text-anchor=\"middle\" x=\"76\" y=\"-101.3\" font-family=\"Times,serif\" font-size=\"14.00\">s3</text>\n",
       "</g>\n",
       "<!-- s1&#45;&gt;s3 -->\n",
       "<g id=\"edge2\" class=\"edge\">\n",
       "<title>s1&#45;&gt;s3</title>\n",
       "<path fill=\"none\" stroke=\"black\" d=\"M92.94,-262.23C104.5,-241.92 121.02,-205.51 113,-174 109.03,-158.38 100.66,-142.48 92.88,-129.98\"/>\n",
       "<polygon fill=\"black\" stroke=\"black\" points=\"95.78,-128.02 87.4,-121.54 89.91,-131.83 95.78,-128.02\"/>\n",
       "<text text-anchor=\"middle\" x=\"131\" y=\"-188.3\" font-family=\"Times,serif\" font-size=\"14.00\">0.028</text>\n",
       "</g>\n",
       "<!-- s4 -->\n",
       "<g id=\"node4\" class=\"node\">\n",
       "<title>s4</title>\n",
       "<ellipse fill=\"none\" stroke=\"black\" cx=\"27\" cy=\"-192\" rx=\"27\" ry=\"18\"/>\n",
       "<text text-anchor=\"middle\" x=\"27\" y=\"-188.3\" font-family=\"Times,serif\" font-size=\"14.00\">s4</text>\n",
       "</g>\n",
       "<!-- s1&#45;&gt;s4 -->\n",
       "<g id=\"edge3\" class=\"edge\">\n",
       "<title>s1&#45;&gt;s4</title>\n",
       "<path fill=\"none\" stroke=\"black\" d=\"M72.47,-262.01C64.18,-249.43 52.48,-231.68 43.03,-217.33\"/>\n",
       "<polygon fill=\"black\" stroke=\"black\" points=\"45.91,-215.34 37.49,-208.92 40.06,-219.19 45.91,-215.34\"/>\n",
       "<text text-anchor=\"middle\" x=\"74\" y=\"-231.8\" font-family=\"Times,serif\" font-size=\"14.00\">0.148</text>\n",
       "</g>\n",
       "<!-- s2 -->\n",
       "<g id=\"node2\" class=\"node\">\n",
       "<title>s2</title>\n",
       "<ellipse fill=\"none\" stroke=\"black\" cx=\"91\" cy=\"-18\" rx=\"27\" ry=\"18\"/>\n",
       "<text text-anchor=\"middle\" x=\"91\" y=\"-14.3\" font-family=\"Times,serif\" font-size=\"14.00\">s2</text>\n",
       "</g>\n",
       "<!-- s2&#45;&gt;s1 -->\n",
       "<g id=\"edge4\" class=\"edge\">\n",
       "<title>s2&#45;&gt;s1</title>\n",
       "<path fill=\"none\" stroke=\"black\" d=\"M110.9,-30.36C120.67,-36.55 132.21,-44.81 141,-54 191.34,-106.6 223.2,-144.7 191,-210 176.58,-239.25 143.03,-257.35 117.13,-267.44\"/>\n",
       "<polygon fill=\"black\" stroke=\"black\" points=\"115.81,-264.2 107.63,-270.93 118.22,-270.77 115.81,-264.2\"/>\n",
       "<text text-anchor=\"middle\" x=\"219\" y=\"-144.8\" font-family=\"Times,serif\" font-size=\"14.00\">0.052</text>\n",
       "</g>\n",
       "<!-- s2&#45;&gt;s2 -->\n",
       "<g id=\"edge5\" class=\"edge\">\n",
       "<title>s2&#45;&gt;s2</title>\n",
       "<path fill=\"none\" stroke=\"black\" d=\"M115.53,-25.75C126.51,-26.49 136,-23.91 136,-18 136,-14.03 131.72,-11.56 125.57,-10.59\"/>\n",
       "<polygon fill=\"black\" stroke=\"black\" points=\"125.65,-7.09 115.53,-10.25 125.41,-14.09 125.65,-7.09\"/>\n",
       "<text text-anchor=\"middle\" x=\"152\" y=\"-14.3\" font-family=\"Times,serif\" font-size=\"14.00\">0.723</text>\n",
       "</g>\n",
       "<!-- s2&#45;&gt;s3 -->\n",
       "<g id=\"edge6\" class=\"edge\">\n",
       "<title>s2&#45;&gt;s3</title>\n",
       "<path fill=\"none\" stroke=\"black\" d=\"M80.33,-34.69C76.97,-40.49 73.7,-47.3 72,-54 70.14,-61.34 70,-69.47 70.63,-77\"/>\n",
       "<polygon fill=\"black\" stroke=\"black\" points=\"67.19,-77.64 71.94,-87.1 74.13,-76.74 67.19,-77.64\"/>\n",
       "<text text-anchor=\"middle\" x=\"88\" y=\"-57.8\" font-family=\"Times,serif\" font-size=\"14.00\">0.225</text>\n",
       "</g>\n",
       "<!-- s3&#45;&gt;s1 -->\n",
       "<g id=\"edge7\" class=\"edge\">\n",
       "<title>s3&#45;&gt;s1</title>\n",
       "<path fill=\"none\" stroke=\"black\" d=\"M96.15,-117.24C114.48,-128.77 140.25,-148.59 151,-174 157.23,-188.74 157.01,-195.17 151,-210 142.8,-230.24 125.23,-247.54 110.01,-259.63\"/>\n",
       "<polygon fill=\"black\" stroke=\"black\" points=\"107.72,-256.97 101.86,-265.8 111.95,-262.55 107.72,-256.97\"/>\n",
       "<text text-anchor=\"middle\" x=\"171\" y=\"-188.3\" font-family=\"Times,serif\" font-size=\"14.00\">0.194</text>\n",
       "</g>\n",
       "<!-- s3&#45;&gt;s2 -->\n",
       "<g id=\"edge8\" class=\"edge\">\n",
       "<title>s3&#45;&gt;s2</title>\n",
       "<path fill=\"none\" stroke=\"black\" d=\"M91.06,-89.71C96.2,-83.84 101.32,-76.64 104,-69 106.71,-61.26 105.83,-52.68 103.58,-44.83\"/>\n",
       "<polygon fill=\"black\" stroke=\"black\" points=\"106.86,-43.62 100.15,-35.42 100.28,-46.01 106.86,-43.62\"/>\n",
       "<text text-anchor=\"middle\" x=\"121\" y=\"-57.8\" font-family=\"Times,serif\" font-size=\"14.00\">0.194</text>\n",
       "</g>\n",
       "<!-- s3&#45;&gt;s3 -->\n",
       "<g id=\"edge9\" class=\"edge\">\n",
       "<title>s3&#45;&gt;s3</title>\n",
       "<path fill=\"none\" stroke=\"black\" d=\"M100.53,-112.75C111.51,-113.49 121,-110.91 121,-105 121,-101.03 116.72,-98.56 110.57,-97.59\"/>\n",
       "<polygon fill=\"black\" stroke=\"black\" points=\"110.65,-94.09 100.53,-97.25 110.41,-101.09 110.65,-94.09\"/>\n",
       "<text text-anchor=\"middle\" x=\"137\" y=\"-101.3\" font-family=\"Times,serif\" font-size=\"14.00\">0.611</text>\n",
       "</g>\n",
       "<!-- s4&#45;&gt;s3 -->\n",
       "<g id=\"edge10\" class=\"edge\">\n",
       "<title>s4&#45;&gt;s3</title>\n",
       "<path fill=\"none\" stroke=\"black\" d=\"M36.22,-175.01C43.36,-162.63 53.38,-145.23 61.58,-131.01\"/>\n",
       "<polygon fill=\"black\" stroke=\"black\" points=\"64.7,-132.62 66.66,-122.21 58.63,-129.12 64.7,-132.62\"/>\n",
       "<text text-anchor=\"middle\" x=\"70\" y=\"-144.8\" font-family=\"Times,serif\" font-size=\"14.00\">0.257</text>\n",
       "</g>\n",
       "<!-- s4&#45;&gt;s4 -->\n",
       "<g id=\"edge11\" class=\"edge\">\n",
       "<title>s4&#45;&gt;s4</title>\n",
       "<path fill=\"none\" stroke=\"black\" d=\"M51.53,-199.75C62.51,-200.49 72,-197.91 72,-192 72,-188.03 67.72,-185.56 61.57,-184.59\"/>\n",
       "<polygon fill=\"black\" stroke=\"black\" points=\"61.65,-181.09 51.53,-184.25 61.41,-188.09 61.65,-181.09\"/>\n",
       "<text text-anchor=\"middle\" x=\"88\" y=\"-188.3\" font-family=\"Times,serif\" font-size=\"14.00\">0.743</text>\n",
       "</g>\n",
       "</g>\n",
       "</svg>\n"
      ],
      "text/plain": [
       "<graphviz.files.Source at 0x7f8839a96910>"
      ]
     },
     "execution_count": 28,
     "metadata": {},
     "output_type": "execute_result"
    },
    {
     "data": {
      "image/png": "[encoded data removed]",
      "text/plain": [
       "<Figure size 432x288 with 1 Axes>"
      ]
     },
     "metadata": {},
     "output_type": "display_data"
    }
   ],
   "source": [
    "visualize_hmm()"
   ]
  },
  {
   "cell_type": "code",
   "execution_count": 29,
   "metadata": {},
   "outputs": [
    {
     "name": "stdout",
     "output_type": "stream",
     "text": [
      "Nodes:\n",
      "['s1', 's2', 's3', 's4']\n",
      "\n"
     ]
    },
    {
     "data": {
      "image/svg+xml": [
       "<?xml version=\"1.0\" encoding=\"UTF-8\" standalone=\"no\"?>\n",
       "<!DOCTYPE svg PUBLIC \"-//W3C//DTD SVG 1.1//EN\"\n",
       " \"http://www.w3.org/Graphics/SVG/1.1/DTD/svg11.dtd\">\n",
       "<!-- Generated by graphviz version 2.47.0 (0)\n",
       " -->\n",
       "<!-- Pages: 1 -->\n",
       "<svg width=\"192pt\" height=\"305pt\"\n",
       " viewBox=\"0.00 0.00 192.00 305.00\" xmlns=\"http://www.w3.org/2000/svg\" xmlns:xlink=\"http://www.w3.org/1999/xlink\">\n",
       "<g id=\"graph0\" class=\"graph\" transform=\"scale(1 1) rotate(0) translate(4 301)\">\n",
       "<polygon fill=\"white\" stroke=\"transparent\" points=\"-4,4 -4,-301 188,-301 188,4 -4,4\"/>\n",
       "<!-- s1 -->\n",
       "<g id=\"node1\" class=\"node\">\n",
       "<title>s1</title>\n",
       "<ellipse fill=\"none\" stroke=\"black\" cx=\"27\" cy=\"-279\" rx=\"27\" ry=\"18\"/>\n",
       "<text text-anchor=\"middle\" x=\"27\" y=\"-275.3\" font-family=\"Times,serif\" font-size=\"14.00\">s1</text>\n",
       "</g>\n",
       "<!-- s1&#45;&gt;s1 -->\n",
       "<g id=\"edge1\" class=\"edge\">\n",
       "<title>s1&#45;&gt;s1</title>\n",
       "<path fill=\"none\" stroke=\"black\" d=\"M51.53,-286.75C62.51,-287.49 72,-284.91 72,-279 72,-275.03 67.72,-272.56 61.57,-271.59\"/>\n",
       "<polygon fill=\"black\" stroke=\"black\" points=\"61.65,-268.09 51.53,-271.25 61.41,-275.09 61.65,-268.09\"/>\n",
       "<text text-anchor=\"middle\" x=\"84.5\" y=\"-275.3\" font-family=\"Times,serif\" font-size=\"14.00\">0.74</text>\n",
       "</g>\n",
       "<!-- s2 -->\n",
       "<g id=\"node2\" class=\"node\">\n",
       "<title>s2</title>\n",
       "<ellipse fill=\"none\" stroke=\"black\" cx=\"27\" cy=\"-18\" rx=\"27\" ry=\"18\"/>\n",
       "<text text-anchor=\"middle\" x=\"27\" y=\"-14.3\" font-family=\"Times,serif\" font-size=\"14.00\">s2</text>\n",
       "</g>\n",
       "<!-- s1&#45;&gt;s2 -->\n",
       "<g id=\"edge2\" class=\"edge\">\n",
       "<title>s1&#45;&gt;s2</title>\n",
       "<path fill=\"none\" stroke=\"black\" d=\"M25.13,-260.87C21.74,-227.43 15.24,-151.11 19,-87 19.79,-73.51 21.46,-58.59 23.07,-46.17\"/>\n",
       "<polygon fill=\"black\" stroke=\"black\" points=\"26.57,-46.38 24.44,-36 19.63,-45.44 26.57,-46.38\"/>\n",
       "<text text-anchor=\"middle\" x=\"34\" y=\"-144.8\" font-family=\"Times,serif\" font-size=\"14.00\">0.111</text>\n",
       "</g>\n",
       "<!-- s3 -->\n",
       "<g id=\"node3\" class=\"node\">\n",
       "<title>s3</title>\n",
       "<ellipse fill=\"none\" stroke=\"black\" cx=\"68\" cy=\"-192\" rx=\"27\" ry=\"18\"/>\n",
       "<text text-anchor=\"middle\" x=\"68\" y=\"-188.3\" font-family=\"Times,serif\" font-size=\"14.00\">s3</text>\n",
       "</g>\n",
       "<!-- s1&#45;&gt;s3 -->\n",
       "<g id=\"edge3\" class=\"edge\">\n",
       "<title>s1&#45;&gt;s3</title>\n",
       "<path fill=\"none\" stroke=\"black\" d=\"M34.91,-261.61C40.8,-249.38 48.97,-232.44 55.72,-218.46\"/>\n",
       "<polygon fill=\"black\" stroke=\"black\" points=\"58.93,-219.87 60.12,-209.34 52.62,-216.82 58.93,-219.87\"/>\n",
       "<text text-anchor=\"middle\" x=\"65\" y=\"-231.8\" font-family=\"Times,serif\" font-size=\"14.00\">0.149</text>\n",
       "</g>\n",
       "<!-- s2&#45;&gt;s1 -->\n",
       "<g id=\"edge4\" class=\"edge\">\n",
       "<title>s2&#45;&gt;s1</title>\n",
       "<path fill=\"none\" stroke=\"black\" d=\"M50.98,-26.35C77.58,-35.84 119.57,-55.03 141,-87 156.22,-109.7 168.29,-186.14 154,-210 134.26,-242.96 92.47,-260.85 62.21,-269.89\"/>\n",
       "<polygon fill=\"black\" stroke=\"black\" points=\"61.13,-266.56 52.44,-272.62 63.01,-273.3 61.13,-266.56\"/>\n",
       "<text text-anchor=\"middle\" x=\"171.5\" y=\"-144.8\" font-family=\"Times,serif\" font-size=\"14.00\">0.19</text>\n",
       "</g>\n",
       "<!-- s2&#45;&gt;s2 -->\n",
       "<g id=\"edge5\" class=\"edge\">\n",
       "<title>s2&#45;&gt;s2</title>\n",
       "<path fill=\"none\" stroke=\"black\" d=\"M51.53,-25.75C62.51,-26.49 72,-23.91 72,-18 72,-14.03 67.72,-11.56 61.57,-10.59\"/>\n",
       "<polygon fill=\"black\" stroke=\"black\" points=\"61.65,-7.09 51.53,-10.25 61.41,-14.09 61.65,-7.09\"/>\n",
       "<text text-anchor=\"middle\" x=\"84.5\" y=\"-14.3\" font-family=\"Times,serif\" font-size=\"14.00\">0.81</text>\n",
       "</g>\n",
       "<!-- s3&#45;&gt;s3 -->\n",
       "<g id=\"edge6\" class=\"edge\">\n",
       "<title>s3&#45;&gt;s3</title>\n",
       "<path fill=\"none\" stroke=\"black\" d=\"M92.53,-199.75C103.51,-200.49 113,-197.91 113,-192 113,-188.03 108.72,-185.56 102.57,-184.59\"/>\n",
       "<polygon fill=\"black\" stroke=\"black\" points=\"102.65,-181.09 92.53,-184.25 102.41,-188.09 102.65,-181.09\"/>\n",
       "<text text-anchor=\"middle\" x=\"129\" y=\"-188.3\" font-family=\"Times,serif\" font-size=\"14.00\">0.669</text>\n",
       "</g>\n",
       "<!-- s4 -->\n",
       "<g id=\"node4\" class=\"node\">\n",
       "<title>s4</title>\n",
       "<ellipse fill=\"none\" stroke=\"black\" cx=\"55\" cy=\"-105\" rx=\"27\" ry=\"18\"/>\n",
       "<text text-anchor=\"middle\" x=\"55\" y=\"-101.3\" font-family=\"Times,serif\" font-size=\"14.00\">s4</text>\n",
       "</g>\n",
       "<!-- s3&#45;&gt;s4 -->\n",
       "<g id=\"edge7\" class=\"edge\">\n",
       "<title>s3&#45;&gt;s4</title>\n",
       "<path fill=\"none\" stroke=\"black\" d=\"M65.37,-173.8C63.59,-162.16 61.2,-146.55 59.17,-133.24\"/>\n",
       "<polygon fill=\"black\" stroke=\"black\" points=\"62.6,-132.53 57.63,-123.18 55.68,-133.59 62.6,-132.53\"/>\n",
       "<text text-anchor=\"middle\" x=\"78\" y=\"-144.8\" font-family=\"Times,serif\" font-size=\"14.00\">0.331</text>\n",
       "</g>\n",
       "<!-- s4&#45;&gt;s2 -->\n",
       "<g id=\"edge8\" class=\"edge\">\n",
       "<title>s4&#45;&gt;s2</title>\n",
       "<path fill=\"none\" stroke=\"black\" d=\"M49.47,-87.21C45.56,-75.33 40.23,-59.17 35.75,-45.56\"/>\n",
       "<polygon fill=\"black\" stroke=\"black\" points=\"38.97,-44.16 32.52,-35.76 32.32,-46.35 38.97,-44.16\"/>\n",
       "<text text-anchor=\"middle\" x=\"58\" y=\"-57.8\" font-family=\"Times,serif\" font-size=\"14.00\">0.166</text>\n",
       "</g>\n",
       "<!-- s4&#45;&gt;s4 -->\n",
       "<g id=\"edge9\" class=\"edge\">\n",
       "<title>s4&#45;&gt;s4</title>\n",
       "<path fill=\"none\" stroke=\"black\" d=\"M79.53,-112.75C90.51,-113.49 100,-110.91 100,-105 100,-101.03 95.72,-98.56 89.57,-97.59\"/>\n",
       "<polygon fill=\"black\" stroke=\"black\" points=\"89.65,-94.09 79.53,-97.25 89.41,-101.09 89.65,-94.09\"/>\n",
       "<text text-anchor=\"middle\" x=\"116\" y=\"-101.3\" font-family=\"Times,serif\" font-size=\"14.00\">0.834</text>\n",
       "</g>\n",
       "</g>\n",
       "</svg>\n"
      ],
      "text/plain": [
       "<graphviz.files.Source at 0x7f8839c167c0>"
      ]
     },
     "execution_count": 29,
     "metadata": {},
     "output_type": "execute_result"
    },
    {
     "data": {
      "image/png": "[encoded data removed]",
      "text/plain": [
       "<Figure size 432x288 with 1 Axes>"
      ]
     },
     "metadata": {},
     "output_type": "display_data"
    }
   ],
   "source": [
    "visualize_hmm(fruit=\"kiwi\")"
   ]
  },
  {
   "cell_type": "markdown",
   "metadata": {},
   "source": [
    "> Since it won't always be a clear mapping between phonemes and states, I would guess that the first hmm model corresponding to the word apple have the following state correspondence: [AE, P, AH, L] = [s3, s1, s4, s2]. \n",
    "> - choice of s1: s1 corresponds to the node in the model with the highest probability of transitioning to itself. I would get the phoneme \"P\" has a high probability of going to itself, as the model is trained on the word apple, which has 2 \"P\" letters. \n",
    "> - choice of s2: Similar to s1, s2 corresponds to the second highest probability of transition to itself and so, I would guess the letter \"l\" makes an appropriate state.\n",
    "> - choice of s3: The node with the highest probability of transitioning into state s1 (phoneme P), following the 'AE' phoneme.\n",
    "> - choice of s4: The last node to not guess the state correspondence."
   ]
  },
  {
   "cell_type": "markdown",
   "metadata": {},
   "source": [
    "<br><br>"
   ]
  },
  {
   "cell_type": "markdown",
   "metadata": {},
   "source": [
    "### 2.6 Classification\n",
    "\n",
    "The `predict` function below:\n",
    "   - Extracts MFCC features from the `new_audio`. \n",
    "   - Scores the sequence using the `score` method of each of the seven HMMs. \n",
    "   - Returns the key of the HMM which gives the highest loglikelihood score as the label for the sequence of phonemes in the audio file. "
   ]
  },
  {
   "cell_type": "code",
   "execution_count": 30,
   "metadata": {},
   "outputs": [],
   "source": [
    "def predict(test_audio, models):\n",
    "    \"\"\"\n",
    "    Returns the label of a given audio file using the models.\n",
    "\n",
    "    Parameters:\n",
    "    ----------\n",
    "    test_audio : str\n",
    "         the path of the test audio file\n",
    "\n",
    "    models : dict\n",
    "         dictionary with keys as fruit names and values as trained HMM models\n",
    "\n",
    "    Return:\n",
    "    ----------\n",
    "        str : the label of the most likely fruit\n",
    "\n",
    "    \"\"\"\n",
    "    y, sr = librosa.load(test_audio)  # load the file\n",
    "    \n",
    "    results = {} # store scores\n",
    "    \n",
    "    n_mfcc = 15\n",
    "    mfcc_feats = librosa.feature.mfcc(y, n_mfcc=n_mfcc).T \n",
    "\n",
    "    for fruit, model in models.items():\n",
    "        results[fruit] = model.score(mfcc_feats)\n",
    "        \n",
    "    return max(results, key=results.get)"
   ]
  },
  {
   "cell_type": "code",
   "execution_count": 31,
   "metadata": {},
   "outputs": [
    {
     "data": {
      "text/html": [
       "<div>\n",
       "<style scoped>\n",
       "    .dataframe tbody tr th:only-of-type {\n",
       "        vertical-align: middle;\n",
       "    }\n",
       "\n",
       "    .dataframe tbody tr th {\n",
       "        vertical-align: top;\n",
       "    }\n",
       "\n",
       "    .dataframe thead th {\n",
       "        text-align: right;\n",
       "    }\n",
       "</style>\n",
       "<table border=\"1\" class=\"dataframe\">\n",
       "  <thead>\n",
       "    <tr style=\"text-align: right;\">\n",
       "      <th></th>\n",
       "      <th>True Label</th>\n",
       "      <th>Predicted Label</th>\n",
       "    </tr>\n",
       "  </thead>\n",
       "  <tbody>\n",
       "    <tr>\n",
       "      <th>0</th>\n",
       "      <td>apple</td>\n",
       "      <td>apple</td>\n",
       "    </tr>\n",
       "    <tr>\n",
       "      <th>1</th>\n",
       "      <td>kiwi</td>\n",
       "      <td>kiwi</td>\n",
       "    </tr>\n",
       "    <tr>\n",
       "      <th>2</th>\n",
       "      <td>lime</td>\n",
       "      <td>lime</td>\n",
       "    </tr>\n",
       "    <tr>\n",
       "      <th>3</th>\n",
       "      <td>banana</td>\n",
       "      <td>banana</td>\n",
       "    </tr>\n",
       "    <tr>\n",
       "      <th>4</th>\n",
       "      <td>pineapple</td>\n",
       "      <td>pineapple</td>\n",
       "    </tr>\n",
       "    <tr>\n",
       "      <th>5</th>\n",
       "      <td>orange</td>\n",
       "      <td>orange</td>\n",
       "    </tr>\n",
       "    <tr>\n",
       "      <th>6</th>\n",
       "      <td>peach</td>\n",
       "      <td>peach</td>\n",
       "    </tr>\n",
       "  </tbody>\n",
       "</table>\n",
       "</div>"
      ],
      "text/plain": [
       "  True Label Predicted Label\n",
       "0  apple      apple         \n",
       "1  kiwi       kiwi          \n",
       "2  lime       lime          \n",
       "3  banana     banana        \n",
       "4  pineapple  pineapple     \n",
       "5  orange     orange        \n",
       "6  peach      peach         "
      ]
     },
     "execution_count": 31,
     "metadata": {},
     "output_type": "execute_result"
    }
   ],
   "source": [
    "preds={}\n",
    "for fruit, valid in valid_files.items():\n",
    "    pred = predict(valid, models)\n",
    "    preds[fruit] = pred\n",
    "preds_df = pd.DataFrame.from_dict(preds, orient='index').reset_index().rename(columns={'index':'True Label', 0:'Predicted Label'})\n",
    "preds_df"
   ]
  },
  {
   "cell_type": "code",
   "execution_count": 32,
   "metadata": {},
   "outputs": [],
   "source": [
    "#function to get log likelihood \n",
    "\n",
    "def helper(test_audio, models):\n",
    "\n",
    "    y, sr = librosa.load(test_audio)  # load the file\n",
    "    \n",
    "    results = {} # store scores\n",
    "    \n",
    "    n_mfcc = 15\n",
    "    mfcc_feats = librosa.feature.mfcc(y, n_mfcc=n_mfcc).T \n",
    "\n",
    "    for fruit, model in models.items():\n",
    "        results[fruit] = model.score(mfcc_feats)\n",
    "        results[fruit] = max(results.values())\n",
    "    return results\n",
    "\n",
    "preds={}\n",
    "for fruit, valid in valid_files.items():\n",
    "    pred = helper(valid, models)\n",
    "    preds[fruit] = pred\n",
    "logs = pd.DataFrame.from_dict(preds, orient='index')\n",
    "helper_df = logs.reset_index().rename(columns={'index':'True Label', 'peach':'Highest Log Likelihood'})\n",
    "helper_df=helper_df[['True Label','Highest Log Likelihood']]"
   ]
  },
  {
   "cell_type": "code",
   "execution_count": 33,
   "metadata": {},
   "outputs": [
    {
     "data": {
      "text/html": [
       "<div>\n",
       "<style scoped>\n",
       "    .dataframe tbody tr th:only-of-type {\n",
       "        vertical-align: middle;\n",
       "    }\n",
       "\n",
       "    .dataframe tbody tr th {\n",
       "        vertical-align: top;\n",
       "    }\n",
       "\n",
       "    .dataframe thead th {\n",
       "        text-align: right;\n",
       "    }\n",
       "</style>\n",
       "<table border=\"1\" class=\"dataframe\">\n",
       "  <thead>\n",
       "    <tr style=\"text-align: right;\">\n",
       "      <th></th>\n",
       "      <th>True Label</th>\n",
       "      <th>Predicted Label</th>\n",
       "      <th>Highest Log Likelihood</th>\n",
       "    </tr>\n",
       "  </thead>\n",
       "  <tbody>\n",
       "    <tr>\n",
       "      <th>0</th>\n",
       "      <td>apple</td>\n",
       "      <td>apple</td>\n",
       "      <td>-1078.816199</td>\n",
       "    </tr>\n",
       "    <tr>\n",
       "      <th>1</th>\n",
       "      <td>kiwi</td>\n",
       "      <td>kiwi</td>\n",
       "      <td>-958.673240</td>\n",
       "    </tr>\n",
       "    <tr>\n",
       "      <th>2</th>\n",
       "      <td>lime</td>\n",
       "      <td>lime</td>\n",
       "      <td>-1030.739975</td>\n",
       "    </tr>\n",
       "    <tr>\n",
       "      <th>3</th>\n",
       "      <td>banana</td>\n",
       "      <td>banana</td>\n",
       "      <td>-1200.428437</td>\n",
       "    </tr>\n",
       "    <tr>\n",
       "      <th>4</th>\n",
       "      <td>pineapple</td>\n",
       "      <td>pineapple</td>\n",
       "      <td>-1472.339560</td>\n",
       "    </tr>\n",
       "    <tr>\n",
       "      <th>5</th>\n",
       "      <td>orange</td>\n",
       "      <td>orange</td>\n",
       "      <td>-2003.322392</td>\n",
       "    </tr>\n",
       "    <tr>\n",
       "      <th>6</th>\n",
       "      <td>peach</td>\n",
       "      <td>peach</td>\n",
       "      <td>-1608.677948</td>\n",
       "    </tr>\n",
       "  </tbody>\n",
       "</table>\n",
       "</div>"
      ],
      "text/plain": [
       "  True Label Predicted Label  Highest Log Likelihood\n",
       "0  apple      apple          -1078.816199           \n",
       "1  kiwi       kiwi           -958.673240            \n",
       "2  lime       lime           -1030.739975           \n",
       "3  banana     banana         -1200.428437           \n",
       "4  pineapple  pineapple      -1472.339560           \n",
       "5  orange     orange         -2003.322392           \n",
       "6  peach      peach          -1608.677948           "
      ]
     },
     "execution_count": 33,
     "metadata": {},
     "output_type": "execute_result"
    }
   ],
   "source": [
    "pd.merge(preds_df, helper_df, how=\"inner\")"
   ]
  },
  {
   "cell_type": "markdown",
   "metadata": {},
   "source": [
    "> The HMM model is able to classify the `new audio` perfectly. Looking at the log likelihood scores for each model, we see that for the apple model, the highest log likelihood score of -1078.81699 is associated with the label apple. The relative log likelihood score given to label apple also seemed relatively higher than the other 6 log likelihood scores. Though we are not able to tell how confident the model is, based on the log likelihoods. For the pineapple model, we see that both pineapple and apple have relatively close highest log likelihood scores, indicating that the model is able to recognize the word apple fairly well. "
   ]
  },
  {
   "cell_type": "markdown",
   "metadata": {},
   "source": [
    "<br><br>"
   ]
  },
  {
   "cell_type": "markdown",
   "metadata": {},
   "source": [
    "<br><br>"
   ]
  },
  {
   "cell_type": "markdown",
   "metadata": {},
   "source": [
    "### Speech recognition resources <a name=\"resources\"></a>\n",
    "\n",
    "- [Frank Rudzicz's slides on ASR](http://www.cs.toronto.edu/~frank/csc401/lectures/9_ASR.pdf)\n",
    "- [Jurafsky and Martin 2nd edition Chapter 9](https://github.com/rain1024/slp2-pdf/blob/master/chapter-wise-pdf/%5B09%5D%20Automatic%20Speech%20Recognition.pdf)\n",
    "- [Hidden Markov models for ASR](http://www1.icsi.berkeley.edu/~arlo/publications/faria_cs188_p3.pdf)\n",
    "- [A tutorial on HMMs and selected applications in speech recognition](http://www.cs.toronto.edu/~frank/csc401/readings/rabiner.pdf)\n",
    "- If you want to explore isolated speech recognition further, [try this dataset](https://www.kaggle.com/c/tensorflow-speech-recognition-challenge/data). "
   ]
  }
 ],
 "metadata": {
  "kernelspec": {
   "display_name": "Python [conda env:575]",
   "language": "python",
   "name": "conda-env-575-py"
  },
  "language_info": {
   "codemirror_mode": {
    "name": "ipython",
    "version": 3
   },
   "file_extension": ".py",
   "mimetype": "text/x-python",
   "name": "python",
   "nbconvert_exporter": "python",
   "pygments_lexer": "ipython3",
   "version": "3.8.8"
  }
 },
 "nbformat": 4,
 "nbformat_minor": 4
}
